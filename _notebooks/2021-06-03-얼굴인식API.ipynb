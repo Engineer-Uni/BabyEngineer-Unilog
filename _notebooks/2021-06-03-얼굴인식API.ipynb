{
  "nbformat": 4,
  "nbformat_minor": 0,
  "metadata": {
    "colab": {
      "name": "2021-06-03-얼굴인식API.ipynb",
      "provenance": [],
      "collapsed_sections": [],
      "include_colab_link": true
    },
    "kernelspec": {
      "name": "python3",
      "display_name": "Python 3"
    }
  },
  "cells": [
    {
      "cell_type": "markdown",
      "metadata": {
        "id": "view-in-github",
        "colab_type": "text"
      },
      "source": [
        "<a href=\"https://colab.research.google.com/github/Engineer-Uni/Engineer-Unilog/blob/master/_notebooks/2021-06-03-%EC%96%BC%EA%B5%B4%EC%9D%B8%EC%8B%9DAPI.ipynb\" target=\"_parent\"><img src=\"https://colab.research.google.com/assets/colab-badge.svg\" alt=\"Open In Colab\"/></a>"
      ]
    },
    {
      "cell_type": "markdown",
      "metadata": {
        "id": "wOmljOW8Vemd"
      },
      "source": [
        "팀과제] 우리 팀의 평균 나이는?\n",
        "\n",
        "네이버 오픈 API - https://developers.naver.com/docs/common/openapiguide/\n",
        "\n",
        "이미지캡쳐 예시 코드 - https://developers.naver.com/docs/utils/captcha/examples/#python"
      ]
    },
    {
      "cell_type": "code",
      "metadata": {
        "colab": {
          "base_uri": "https://localhost:8080/"
        },
        "id": "Ut1GdQmLY9Pu",
        "outputId": "4df194e0-5f4a-4cd6-bb41-f20f76393d92"
      },
      "source": [
        "from google.colab import drive\n",
        "drive.mount('/content/drive')"
      ],
      "execution_count": null,
      "outputs": [
        {
          "output_type": "stream",
          "text": [
            "Mounted at /content/drive\n"
          ],
          "name": "stdout"
        }
      ]
    },
    {
      "cell_type": "code",
      "metadata": {
        "colab": {
          "base_uri": "https://localhost:8080/"
        },
        "id": "c724DrCWVv5i",
        "outputId": "6d578377-4ca5-471d-ad75-8489c6f66297"
      },
      "source": [
        "import os\n",
        "import sys\n",
        "import requests\n",
        "\n",
        "\n",
        "# 등록된 client_id, client_secret 정보를 입력합니다.\n",
        "client_id = \"yBwPM0bgoQTE7MzqhxmM\"\n",
        "client_secret = \"2HiUBFvSq_\"\n",
        "\n",
        "# 얼굴 사진을 통한 나이 추정을 위해서는 아래 url을 사용합니다. (face: 얼굴 분석, celebrity: 닮은 유명인 찾기)\n",
        "url = \"https://openapi.naver.com/v1/vision/face\" \n",
        "#url = \"https://openapi.naver.com/v1/vision/celebrity\" \n",
        "\n",
        "# 분석할 이미지의 파일명을 입력합니다./\n",
        "files = {'image': open('/content/drive/MyDrive/개인 서류/프로필.JPG', 'rb')}\n",
        "\n",
        "# API 입력 설정\n",
        "headers = {'X-Naver-Client-Id': client_id, 'X-Naver-Client-Secret': client_secret }\n",
        "\n",
        "# API 사용\n",
        "response = requests.post(url,  files=files, headers=headers)\n",
        "rescode = response.status_code\n",
        "\n",
        "if (rescode==200):\n",
        "    # 결과물 출력\n",
        "    print (response.text)\n",
        "else:\n",
        "    print(\"Error Code:\" + str(rescode))"
      ],
      "execution_count": null,
      "outputs": [
        {
          "output_type": "stream",
          "text": [
            "{\"info\":{\"size\":{\"width\":1500,\"height\":1997},\"faceCount\":1},\"faces\":[{\"roi\":{\"x\":502,\"y\":698,\"width\":352,\"height\":352},\"landmark\":{\"leftEye\":{\"x\":573,\"y\":811},\"rightEye\":{\"x\":736,\"y\":767},\"nose\":{\"x\":670,\"y\":870},\"leftMouth\":{\"x\":614,\"y\":953},\"rightMouth\":{\"x\":786,\"y\":904}},\"gender\":{\"value\":\"female\",\"confidence\":0.999995},\"age\":{\"value\":\"16~20\",\"confidence\":0.534938},\"emotion\":{\"value\":\"laugh\",\"confidence\":0.885847},\"pose\":{\"value\":\"frontal_face\",\"confidence\":0.984797}}]}\n"
          ],
          "name": "stdout"
        }
      ]
    },
    {
      "cell_type": "code",
      "metadata": {
        "id": "jso8p_UXZWXS",
        "colab": {
          "base_uri": "https://localhost:8080/"
        },
        "outputId": "21683220-9ca5-48dd-b2fa-affa43fcbb9b"
      },
      "source": [
        "# json 형식을 사용하기 위하여 import 합니다.\n",
        "import json\n",
        "\n",
        "# loads 함수를 사용하여 json으로 변환합니다.\n",
        "result = json.loads(response.text)\n",
        "result"
      ],
      "execution_count": null,
      "outputs": [
        {
          "output_type": "execute_result",
          "data": {
            "text/plain": [
              "{'faces': [{'age': {'confidence': 0.534938, 'value': '16~20'},\n",
              "   'emotion': {'confidence': 0.885847, 'value': 'laugh'},\n",
              "   'gender': {'confidence': 0.999995, 'value': 'female'},\n",
              "   'landmark': {'leftEye': {'x': 573, 'y': 811},\n",
              "    'leftMouth': {'x': 614, 'y': 953},\n",
              "    'nose': {'x': 670, 'y': 870},\n",
              "    'rightEye': {'x': 736, 'y': 767},\n",
              "    'rightMouth': {'x': 786, 'y': 904}},\n",
              "   'pose': {'confidence': 0.984797, 'value': 'frontal_face'},\n",
              "   'roi': {'height': 352, 'width': 352, 'x': 502, 'y': 698}}],\n",
              " 'info': {'faceCount': 1, 'size': {'height': 1997, 'width': 1500}}}"
            ]
          },
          "metadata": {
            "tags": []
          },
          "execution_count": 7
        }
      ]
    },
    {
      "cell_type": "code",
      "metadata": {
        "colab": {
          "base_uri": "https://localhost:8080/"
        },
        "id": "eDPEaP8pbJQA",
        "outputId": "92e5855c-593a-4a42-85f1-247201461a75"
      },
      "source": [
        "face_list = result.get('faces')\n",
        "face = face_list[0] \n",
        "age_info = face.get('age')\n",
        "age = age_info.get('value')\n",
        "\n",
        "print(f'얼굴 인식 나이는 {age}세 입니다.')"
      ],
      "execution_count": null,
      "outputs": [
        {
          "output_type": "stream",
          "text": [
            "얼굴 인식 나이는 16~20세 입니다.\n"
          ],
          "name": "stdout"
        }
      ]
    },
    {
      "cell_type": "code",
      "metadata": {
        "id": "SVHy1t2ijYKb"
      },
      "source": [
        "age = result.get['face'][0]['age']['value']\n",
        "print(f'얼굴 인식 나이는 {age}세 입니다.')"
      ],
      "execution_count": null,
      "outputs": []
    },
    {
      "cell_type": "code",
      "metadata": {
        "colab": {
          "base_uri": "https://localhost:8080/"
        },
        "id": "IXAt6HJ_cRmd",
        "outputId": "c712f2b1-c17a-4f0d-c803-b644fcdf9b99"
      },
      "source": [
        "while True:\n",
        "    add_pic = input('이미지 파일링크를 첨부하세요: ')\n",
        "    if add_pic == '':\n",
        "        break\n",
        "    files['images'] = add_pic"
      ],
      "execution_count": null,
      "outputs": [
        {
          "output_type": "stream",
          "text": [
            "이미지 파일링크를 첨부하세요: /content/drive/MyDrive/개인 서류/프로필.JPG\n",
            "이미지 파일링크를 첨부하세요: \n"
          ],
          "name": "stdout"
        }
      ]
    },
    {
      "cell_type": "code",
      "metadata": {
        "colab": {
          "base_uri": "https://localhost:8080/"
        },
        "id": "qmIcbPkDibVO",
        "outputId": "4be2db17-366c-4749-f91e-6731a9890314"
      },
      "source": [
        "team_results = [\n",
        "    {'age': {'confidence': 0.534938, 'value': '16~20'}},\n",
        "    {'age': {'confidence': 0.950639, 'value': '18~22'}},\n",
        "    {'age': {'confidence': 0.319881, 'value': '21~25'}},\n",
        "    {'age': {'confidence': 0.0696897, 'value': '25~29'}},\n",
        "    {'age': {'confidence': 0.449355, 'value': '28~32'}}\n",
        "]\n",
        "ages = [0,0,0,0,0]\n",
        "avg = [0,0,0,0,0]\n",
        "\n",
        "for i in range(len(team_results)):\n",
        "    ages[i] = team_results[i]['age']['value']\n",
        "    avg[i] = sum(list(map(int,ages[i].split('~'))))/2\n",
        "    team_avg = sum(avg)/len(avg)\n",
        "    \n",
        "print(f'평균나이 : {team_avg}')"
      ],
      "execution_count": null,
      "outputs": [
        {
          "output_type": "stream",
          "text": [
            "평균나이 : 23.6\n"
          ],
          "name": "stdout"
        }
      ]
    },
    {
      "cell_type": "code",
      "metadata": {
        "colab": {
          "base_uri": "https://localhost:8080/"
        },
        "id": "fft8dAPRz6_n",
        "outputId": "29bada26-0496-4124-a0ae-5c2b09b425ff"
      },
      "source": [
        "team_results = [{'age': {'confidence': 0.534938, 'value': '16~20'}},\n",
        "                {'age': {'confidence': 0.950639, 'value': '18~22'}},\n",
        "                {'age': {'confidence': 0.319881, 'value': '21~25'}},\n",
        "                {'age': {'confidence': 0.0696897, 'value': '25~29'}},\n",
        "                {'age': {'confidence': 0.449355, 'value': '28~32'}}]\n",
        "# 각 age 다 dict로 만들기\n",
        "\n",
        "ages = 0 #dict에서 추출해올 나이값\n",
        "avg = [] #각자 나이의 평균\n",
        "for i in team_results:\n",
        "    #i = {'age': {'confidence': 0.534938, 'value': '16~20'}}\n",
        "    ages = i['age']['value'] # 각 팀원의 추정 나이 가져오기\n",
        "    avg.append((int(ages.split('~')[0])+int(ages.split('~')[1]))/2)\n",
        "    team_avg = sum(avg) /len(avg)\n",
        "print(f'평균나이 : {team_avg}')"
      ],
      "execution_count": null,
      "outputs": [
        {
          "output_type": "stream",
          "text": [
            "평균나이 : 23.6\n"
          ],
          "name": "stdout"
        }
      ]
    },
    {
      "cell_type": "code",
      "metadata": {
        "id": "KNkvM2Tv2_1-"
      },
      "source": [
        ""
      ],
      "execution_count": null,
      "outputs": []
    }
  ]
}