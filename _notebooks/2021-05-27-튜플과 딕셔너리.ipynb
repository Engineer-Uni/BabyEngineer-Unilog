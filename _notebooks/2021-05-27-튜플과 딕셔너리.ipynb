{
  "nbformat": 4,
  "nbformat_minor": 0,
  "metadata": {
    "colab": {
      "name": "2021-05-27-튜플과 딕셔너리.ipynb",
      "provenance": [],
      "collapsed_sections": [],
      "toc_visible": true,
      "authorship_tag": "ABX9TyPbwZbn6YZYJtNaqgZInhmk",
      "include_colab_link": true
    },
    "kernelspec": {
      "name": "python3",
      "display_name": "Python 3"
    },
    "language_info": {
      "name": "python"
    }
  },
  "cells": [
    {
      "cell_type": "markdown",
      "metadata": {
        "id": "view-in-github",
        "colab_type": "text"
      },
      "source": [
        "<a href=\"https://colab.research.google.com/github/Engineer-Uni/Engineer-Unilog/blob/master/_notebooks/2021-05-27-%ED%8A%9C%ED%94%8C%EA%B3%BC%20%EB%94%95%EC%85%94%EB%84%88%EB%A6%AC.ipynb\" target=\"_parent\"><img src=\"https://colab.research.google.com/assets/colab-badge.svg\" alt=\"Open In Colab\"/></a>"
      ]
    },
    {
      "cell_type": "markdown",
      "metadata": {
        "id": "5n-nLfTrDi5i"
      },
      "source": [
        "#**예제 1) 숫자 합계와 평균 계산하기**"
      ]
    },
    {
      "cell_type": "code",
      "metadata": {
        "colab": {
          "base_uri": "https://localhost:8080/"
        },
        "id": "5hQRZRhkDobM",
        "outputId": "2197772c-851c-4542-a488-ccd817bb3d20"
      },
      "source": [
        "num_list = []\n",
        "for i in range(5):\n",
        "    number = float(input('숫자를 입력하세요: '))\n",
        "    num_list.append(number)\n",
        "if len(num_list) != 0:\n",
        "    average = sum(num_list) / len(num_list)\n",
        "else:\n",
        "    average = 0\n",
        "print(f'합계는 {sum(num_list)}, 평균은 {average}입니다.')"
      ],
      "execution_count": null,
      "outputs": [
        {
          "output_type": "stream",
          "text": [
            "숫자를 입력하세요: 3\n",
            "숫자를 입력하세요: 4\n",
            "숫자를 입력하세요: 1\n",
            "숫자를 입력하세요: 2\n",
            "숫자를 입력하세요: 5\n",
            "합계는 15.0, 평균은 3.0입니다.\n"
          ],
          "name": "stdout"
        }
      ]
    },
    {
      "cell_type": "markdown",
      "metadata": {
        "id": "md0CYpWUGVD3"
      },
      "source": [
        "#**예제 2) 주사위 빈도 계산하기**"
      ]
    },
    {
      "cell_type": "code",
      "metadata": {
        "colab": {
          "base_uri": "https://localhost:8080/"
        },
        "id": "7lwyUrg5EtAL",
        "outputId": "65acec8f-ef8f-4db8-c981-d6b8125942e0"
      },
      "source": [
        "import random\n",
        "count = [0,0,0,0,0,0]\n",
        "for i in range(10000):\n",
        "    dice = random.randint(1,6)\n",
        "    if dice == 1:\n",
        "        count[0] += 1\n",
        "    elif dice == 2:\n",
        "        count[1] += 1\n",
        "    elif dice == 3:\n",
        "        count[2] += 1\n",
        "    elif dice == 4:\n",
        "        count[3] += 1\n",
        "    elif dice == 5:\n",
        "        count[4] += 1\n",
        "    elif dice == 6:\n",
        "        count[5] += 1\n",
        "\n",
        "print(count)"
      ],
      "execution_count": null,
      "outputs": [
        {
          "output_type": "stream",
          "text": [
            "[1685, 1687, 1634, 1631, 1727, 1636]\n"
          ],
          "name": "stdout"
        }
      ]
    },
    {
      "cell_type": "code",
      "metadata": {
        "colab": {
          "base_uri": "https://localhost:8080/"
        },
        "id": "7dMSUjkWG8Vm",
        "outputId": "1f0e5753-8c76-4e41-b26a-80a3ec4276dc"
      },
      "source": [
        "import random\n",
        "\n",
        "dice = list(range(1, 7))\n",
        "conse = []\n",
        "\n",
        "for i in range(10000) :\n",
        "    conse.append(random.choice(dice))\n",
        "\n",
        "for i in range(1, len(dice)+1) :\n",
        "    print(f'{i}은(는) {conse.count(i)} 개')"
      ],
      "execution_count": null,
      "outputs": [
        {
          "output_type": "stream",
          "text": [
            "1은(는) 1645 개\n",
            "2은(는) 1614 개\n",
            "3은(는) 1666 개\n",
            "4은(는) 1765 개\n",
            "5은(는) 1660 개\n",
            "6은(는) 1650 개\n"
          ],
          "name": "stdout"
        }
      ]
    },
    {
      "cell_type": "markdown",
      "metadata": {
        "id": "aY4uP_lqPCew"
      },
      "source": [
        "#**예제 3) 과목별 점수의 평균 구하기**\n",
        "[국,영,수] 점수가 저장된 리스트입니다.\n",
        "1. 과목별 리스트를 분리하고\n",
        "2. 과목별 평균을 산출하세요. (평균은 소수점 1자리까지 산출)"
      ]
    },
    {
      "cell_type": "code",
      "metadata": {
        "colab": {
          "base_uri": "https://localhost:8080/"
        },
        "id": "KLXmg2ioODiz",
        "outputId": "0c8daa13-e913-4407-bf7d-c9688435977f"
      },
      "source": [
        "scores = [[96,84,80], [96,86,76], [76,95,83], [89,96,69], [90,76,91], [82,66,88], [83,86,79], [85,90,83]]\n",
        "\n",
        "#리스트를 분리할 공간을 만들어준다\n",
        "ko = []\n",
        "en = []\n",
        "math = []\n",
        "\n",
        "\n",
        "for personal_score in scores: #scores 리스트 안의 리스트를 student로 정의하고\n",
        "    ko.append(personal_score[0]) #개인 score의 첫번째 항목은 국어점수\n",
        "    en.append(personal_score[1]) #개인 score의 두번째 항목은 영어점수\n",
        "    math.append(personal_score[2]) #개인 score의 세번째 항목은 수학점수\n",
        "\n",
        "print(f'국어 점수: {ko}, 영어 점수: {en}, 수학 점수: {math}') #과목별 점수로 분류되었는지 확인\n",
        "\n",
        "# 평균을 구한다 round(과목합계/항목수, 소수점1자리)\n",
        "avr_ko = round(sum(ko)/len(ko),1)\n",
        "avr_en = round(sum(en)/len(en),1)\n",
        "avr_math = round(sum(math)/len(math),1)\n",
        "\n",
        "print(f'국어 평균: {avr_ko}, 영어 평균: {avr_en}, 수학 평균: {avr_math}')"
      ],
      "execution_count": null,
      "outputs": [
        {
          "output_type": "stream",
          "text": [
            "국어 점수: [96, 96, 76, 89, 90, 82, 83, 85], 영어 점수: [84, 86, 95, 96, 76, 66, 86, 90], 수학 점수: [80, 76, 83, 69, 91, 88, 79, 83]\n",
            "국어 평균: 87.1, 영어 평균: 84.9, 수학 평균: 81.1\n"
          ],
          "name": "stdout"
        }
      ]
    },
    {
      "cell_type": "markdown",
      "metadata": {
        "id": "jbR6-SKzcfjD"
      },
      "source": [
        "#**예제) 리스트 합계 구하기"
      ]
    },
    {
      "cell_type": "code",
      "metadata": {
        "colab": {
          "base_uri": "https://localhost:8080/"
        },
        "id": "gJvoAPIab3oe",
        "outputId": "c820f694-56bc-44e1-b492-689a6b7eb28c"
      },
      "source": [
        "#range로 범위 지정할 경우에는 인덱스로 잡기\n",
        "values = [56,12,33,8,3,2,98]\n",
        "total = 0\n",
        "for i in range(7):\n",
        "    total += values[i]\n",
        "total"
      ],
      "execution_count": null,
      "outputs": [
        {
          "output_type": "execute_result",
          "data": {
            "text/plain": [
              "212"
            ]
          },
          "metadata": {
            "tags": []
          },
          "execution_count": 31
        }
      ]
    },
    {
      "cell_type": "code",
      "metadata": {
        "colab": {
          "base_uri": "https://localhost:8080/"
        },
        "id": "LNCUkFA6cxEJ",
        "outputId": "f1ac71a6-2aca-4305-ba45-ba8817fce26b"
      },
      "source": [
        "#리스트명 자체로 정할 경우에는 각각의 요소인 i(임의명)으로 잡기\n",
        "values = [56,12,33,8,3,2,98]\n",
        "total = 0\n",
        "for i in values:\n",
        "    total += i\n",
        "total"
      ],
      "execution_count": null,
      "outputs": [
        {
          "output_type": "execute_result",
          "data": {
            "text/plain": [
              "212"
            ]
          },
          "metadata": {
            "tags": []
          },
          "execution_count": 32
        }
      ]
    },
    {
      "cell_type": "code",
      "metadata": {
        "colab": {
          "base_uri": "https://localhost:8080/"
        },
        "id": "Uv_WJeEUdMqy",
        "outputId": "972981fb-8717-43e5-cf58-e33eef9222a3"
      },
      "source": [
        "#sum(리스트명)\n",
        "values = [56,12,33,8,3,2,98]\n",
        "print(sum(values))"
      ],
      "execution_count": null,
      "outputs": [
        {
          "output_type": "stream",
          "text": [
            "212\n"
          ],
          "name": "stdout"
        }
      ]
    },
    {
      "cell_type": "markdown",
      "metadata": {
        "id": "sKd-0NGLa8Sw"
      },
      "source": [
        "#**튜플(Tuple) _ 값을 바꿀 수 없는 항목**\n",
        "리스트는 [ ], 튜플은 ( )\n",
        "<br> ex) 주민번호, 여권번호, 생년월일...\n",
        "<br> 튜플은 뒤에 ,를 반드시 입력 *안하면 "
      ]
    },
    {
      "cell_type": "code",
      "metadata": {
        "colab": {
          "base_uri": "https://localhost:8080/"
        },
        "id": "Vz_3JinjbBaD",
        "outputId": "0535f6b4-8698-4ebe-874f-f2e3460e830d"
      },
      "source": [
        "t1 = (1,5,3,4,2)\n",
        "t2 = (6,7,8,9,8)\n",
        "print(t1[1])  #인덱싱\n",
        "print(t1[2:4])   #슬라이싱\n",
        "print(t1+t2)   #더하기\n",
        "print(t1*3)   #곱하기\n",
        "print(len(t1))   #길이 구하기\n",
        "print(t2.index(9))   #요소의 위치 찾기\n",
        "print(t2.count(8))  #요소의 갯수\n",
        "\n",
        "sort_t1 = sorted(t1)   #정렬된 [새로운 리스트]로 반환! 튜플은 변경이 안되므로.\n",
        "print(sort_t1)"
      ],
      "execution_count": null,
      "outputs": [
        {
          "output_type": "stream",
          "text": [
            "5\n",
            "(3, 4)\n",
            "(1, 5, 3, 4, 2, 6, 7, 8, 9, 8)\n",
            "(1, 5, 3, 4, 2, 1, 5, 3, 4, 2, 1, 5, 3, 4, 2)\n",
            "5\n",
            "3\n",
            "2\n",
            "[1, 2, 3, 4, 5]\n"
          ],
          "name": "stdout"
        }
      ]
    },
    {
      "cell_type": "markdown",
      "metadata": {
        "id": "sDvfXO0TicDm"
      },
      "source": [
        "#**딕션너리**\n",
        "key: value 의 집합\n",
        "<br> dict_name = {key0:value0, key1:value1 ... keyN,valueN}\n",
        "<br> 순서가 없음 = 인덱스가 없음\n",
        "<br> 키 값으로 제어"
      ]
    },
    {
      "cell_type": "code",
      "metadata": {
        "id": "Hu8T-Htjd8PO",
        "colab": {
          "base_uri": "https://localhost:8080/"
        },
        "outputId": "c1b4570e-0d1e-4c97-baac-4cb418f3ddc0"
      },
      "source": [
        "dict_person = {\n",
        "    'name':'아이언맨',\n",
        "    '소속':'마블',\n",
        "    'age':35,\n",
        "    '특징':['기술덕후','부자']\n",
        "}\n",
        "print(dict_person)"
      ],
      "execution_count": null,
      "outputs": [
        {
          "output_type": "stream",
          "text": [
            "{'name': '아이언맨', '소속': '마블', 'age': 35, '특징': ['기술덕후', '부자']}\n"
          ],
          "name": "stdout"
        }
      ]
    },
    {
      "cell_type": "code",
      "metadata": {
        "id": "NnBc8xMbie7P",
        "colab": {
          "base_uri": "https://localhost:8080/"
        },
        "outputId": "53f0fc10-78ab-43f4-8f5c-8c6d0d8652de"
      },
      "source": [
        "dict_phone = {\n",
        "    '강동원':'01011112222',\n",
        "    '공유':'01022223333',\n",
        "    '현빈':'01033334444'\n",
        "}\n",
        "print(dict_phone)"
      ],
      "execution_count": null,
      "outputs": [
        {
          "output_type": "stream",
          "text": [
            "{'강동원': '01011112222', '공유': '01022223333', '현빈': '01033334444'}\n"
          ],
          "name": "stdout"
        }
      ]
    },
    {
      "cell_type": "markdown",
      "metadata": {
        "id": "fDVdw1oprZaR"
      },
      "source": [
        "#**딕셔너리:요소 추가, 삭제, 추출하기**\n"
      ]
    },
    {
      "cell_type": "code",
      "metadata": {
        "colab": {
          "base_uri": "https://localhost:8080/"
        },
        "id": "UDBiAGvBrhXI",
        "outputId": "ea1de18f-1c2c-42e3-ba8c-84038373d0b2"
      },
      "source": [
        "#요소 추가하기\n",
        "#딕셔너리명[key]=value\n",
        "\n",
        "dict_scores = {}\n",
        "dict_scores['홍길동'] = 80\n",
        "dict_scores['공유'] = 90\n",
        "dict_scores['현빈'] = 100\n",
        "\n",
        "print(dict_scores)"
      ],
      "execution_count": null,
      "outputs": [
        {
          "output_type": "stream",
          "text": [
            "{'홍길동': 80, '공유': 90, '현빈': 100}\n"
          ],
          "name": "stdout"
        }
      ]
    },
    {
      "cell_type": "code",
      "metadata": {
        "colab": {
          "base_uri": "https://localhost:8080/"
        },
        "id": "JNBPHaGkr5v5",
        "outputId": "540ddd67-d9ce-4430-c1c3-b5d1a51c82d0"
      },
      "source": [
        "#딕셔너리 요소 삭제\n",
        "#del 딕셔너리명[key]\n",
        "\n",
        "dict_scores = {\n",
        "    '홍길동': 80,\n",
        "    '공유': 90,\n",
        "    '현빈': 100\n",
        "}\n",
        "\n",
        "del dict_scores['홍길동']\n",
        "print(dict_scores)"
      ],
      "execution_count": null,
      "outputs": [
        {
          "output_type": "stream",
          "text": [
            "{'공유': 90, '현빈': 100}\n"
          ],
          "name": "stdout"
        }
      ]
    },
    {
      "cell_type": "code",
      "metadata": {
        "colab": {
          "base_uri": "https://localhost:8080/"
        },
        "id": "v2IadSgMrsyx",
        "outputId": "329f95de-d92c-4d8b-901a-81ed68c96270"
      },
      "source": [
        "#딕셔너리 요소 추출하고 삭제\n",
        "#딕셔너리명.pop(key)\n",
        "\n",
        "dict_scores = {\n",
        "    '홍길동': 80,\n",
        "    '공유': 90,\n",
        "    '현빈': 100\n",
        "}\n",
        "\n",
        "score = dict_scores.pop('홍길동')\n",
        "print(score)\n",
        "print(dict_scores)"
      ],
      "execution_count": null,
      "outputs": [
        {
          "output_type": "stream",
          "text": [
            "80\n",
            "{'공유': 90, '현빈': 100}\n"
          ],
          "name": "stdout"
        }
      ]
    },
    {
      "cell_type": "code",
      "metadata": {
        "colab": {
          "base_uri": "https://localhost:8080/"
        },
        "id": "mwdVW0OttS6Q",
        "outputId": "766de5f9-b18c-451d-db2d-376c31336813"
      },
      "source": [
        "#딕셔너리 모든 요소 삭제\n",
        "#딕셔너리명.clear()\n",
        "\n",
        "dict_scores = {\n",
        "    '홍길동': 80,\n",
        "    '공유': 90,\n",
        "    '현빈': 100\n",
        "}\n",
        "\n",
        "dict_scores.clear()\n",
        "print(dict_scores)"
      ],
      "execution_count": null,
      "outputs": [
        {
          "output_type": "stream",
          "text": [
            "{}\n"
          ],
          "name": "stdout"
        }
      ]
    },
    {
      "cell_type": "markdown",
      "metadata": {
        "id": "8zGgACOOsSXZ"
      },
      "source": [
        "#**딕셔너리 : 요소 추출**"
      ]
    },
    {
      "cell_type": "code",
      "metadata": {
        "colab": {
          "base_uri": "https://localhost:8080/"
        },
        "id": "WNqveL--sXcq",
        "outputId": "305eddbd-4916-4cef-c981-bf9731c6a86b"
      },
      "source": [
        "#리스트명.get(요소)\n",
        "#값 추출하기\n",
        "\n",
        "dict_scores = {\n",
        "    '홍길동': 80,\n",
        "    '공유': 90,\n",
        "    '현빈': 100\n",
        "}\n",
        "print(dict_scores.get('현빈'))\n",
        "print(dict_scores.get('송중기'))\n",
        "print(dict_scores.get('송중기','없음')) #'송중기'라는 값이 없으면 '없음'이라는 문구를 출력해줘!"
      ],
      "execution_count": null,
      "outputs": [
        {
          "output_type": "stream",
          "text": [
            "100\n",
            "None\n",
            "없음\n"
          ],
          "name": "stdout"
        }
      ]
    },
    {
      "cell_type": "code",
      "metadata": {
        "colab": {
          "base_uri": "https://localhost:8080/"
        },
        "id": "w-MKGaPSsohC",
        "outputId": "1de533b0-55ff-45cb-ef54-9ccdd0518b5a"
      },
      "source": [
        "#key값이 존재하는지 확인\n",
        "dict_scores = {\n",
        "    '홍길동': 80,\n",
        "    '공유': 90,\n",
        "    '현빈': 100\n",
        "}\n",
        "print('현빈' in dict_scores) #'현빈'이라는 key가 dict_scores 안에 있니?\n",
        "print('송중기' in dict_scores) #'송중기'라는 key가 dict_scores 안에 있니?"
      ],
      "execution_count": null,
      "outputs": [
        {
          "output_type": "stream",
          "text": [
            "True\n",
            "False\n"
          ],
          "name": "stdout"
        }
      ]
    },
    {
      "cell_type": "markdown",
      "metadata": {
        "id": "rHQItdHjwsCJ"
      },
      "source": [
        "#**딕셔너리: 모든 keys / values 얻기**"
      ]
    },
    {
      "cell_type": "code",
      "metadata": {
        "colab": {
          "base_uri": "https://localhost:8080/"
        },
        "id": "I5XhI9nfu-ye",
        "outputId": "ac615cbd-d427-4b1b-98c8-a520b70db7bb"
      },
      "source": [
        "#모든 key들 얻기\n",
        "#딕셔너리명.keys()\n",
        "\n",
        "dict_scores = {\n",
        "    '홍길동': 80,\n",
        "    '공유': 90,\n",
        "    '현빈': 100\n",
        "}\n",
        "\n",
        "print(dict_scores.keys()) #리스트의 키 보여줘!\n",
        "print(list(dict_scores.keys())) #key리스트만 출력"
      ],
      "execution_count": null,
      "outputs": [
        {
          "output_type": "stream",
          "text": [
            "dict_keys(['홍길동', '공유', '현빈'])\n",
            "['홍길동', '공유', '현빈']\n"
          ],
          "name": "stdout"
        }
      ]
    },
    {
      "cell_type": "code",
      "metadata": {
        "colab": {
          "base_uri": "https://localhost:8080/"
        },
        "id": "BJjA0YrlvNVc",
        "outputId": "9a2d2db7-11fb-43a1-e5a6-d0ec412429e4"
      },
      "source": [
        "#모든 value들 얻기\n",
        "#딕셔너리명.values()\n",
        "\n",
        "dict_scores = {\n",
        "    '홍길동': 80,\n",
        "    '공유': 90,\n",
        "    '현빈': 100\n",
        "}\n",
        "\n",
        "print(dict_scores.values()) #리스트의 벨류값 보여줘!\n",
        "print(list(dict_scores.values())) #value 리스트만 출력"
      ],
      "execution_count": null,
      "outputs": [
        {
          "output_type": "stream",
          "text": [
            "dict_values([80, 90, 100])\n",
            "[80, 90, 100]\n"
          ],
          "name": "stdout"
        }
      ]
    },
    {
      "cell_type": "code",
      "metadata": {
        "colab": {
          "base_uri": "https://localhost:8080/"
        },
        "id": "griAy3Mlv-t1",
        "outputId": "20a848c0-3968-4576-917b-b8d1c3506666"
      },
      "source": [
        "#모든 key:value들 얻기\n",
        "#딕셔너리명.items()\n",
        "\n",
        "dict_scores = {\n",
        "    '홍길동': 80,\n",
        "    '공유': 90,\n",
        "    '현빈': 100\n",
        "}\n",
        "\n",
        "print(dict_scores.items()) #리스트의 벨류값 보여줘!\n",
        "print(list(dict_scores.items())) #value 리스트만 출력 "
      ],
      "execution_count": null,
      "outputs": [
        {
          "output_type": "stream",
          "text": [
            "dict_items([('홍길동', 80), ('공유', 90), ('현빈', 100)])\n",
            "[('홍길동', 80), ('공유', 90), ('현빈', 100)]\n"
          ],
          "name": "stdout"
        }
      ]
    },
    {
      "cell_type": "code",
      "metadata": {
        "colab": {
          "base_uri": "https://localhost:8080/"
        },
        "id": "HEZU6dR7wWGX",
        "outputId": "f4260680-2f5c-40b9-f36d-bda7af7415cb"
      },
      "source": [
        "#데이터 모두 출력하기\n",
        "#방법1\n",
        "dict_scores = {\n",
        "    '홍길동': 80,\n",
        "    '공유': 90,\n",
        "    '현빈': 100\n",
        "}\n",
        "\n",
        "for key in dict_scores.keys():\n",
        "    print(key, dict_scores[key]) #value값을 불러올때 dict_scores[key]를 사용하는 이유는 key값을 이용하여 불러오기 때문에 (value값은 사용하지 못한다)"
      ],
      "execution_count": null,
      "outputs": [
        {
          "output_type": "stream",
          "text": [
            "홍길동 80\n",
            "공유 90\n",
            "현빈 100\n"
          ],
          "name": "stdout"
        }
      ]
    },
    {
      "cell_type": "code",
      "metadata": {
        "colab": {
          "base_uri": "https://localhost:8080/"
        },
        "id": "cWvgIbzzw_TT",
        "outputId": "5b911113-1772-415b-aac8-939aa0dd9104"
      },
      "source": [
        "#방법2\n",
        "dict_scores = {\n",
        "    '홍길동': 80,\n",
        "    '공유': 90,\n",
        "    '현빈': 100\n",
        "}\n",
        "\n",
        "for key,value in dict_scores.items():\n",
        "    print(key, value)"
      ],
      "execution_count": null,
      "outputs": [
        {
          "output_type": "stream",
          "text": [
            "홍길동 80\n",
            "공유 90\n",
            "현빈 100\n"
          ],
          "name": "stdout"
        }
      ]
    },
    {
      "cell_type": "markdown",
      "metadata": {
        "id": "q__LKEzVxZ7f"
      },
      "source": [
        "#**딕셔너리: 정렬하여 출력하기**"
      ]
    },
    {
      "cell_type": "code",
      "metadata": {
        "colab": {
          "base_uri": "https://localhost:8080/"
        },
        "id": "47Y7zdvyxNWe",
        "outputId": "5d015670-53ce-4413-c893-8494bbc352c7"
      },
      "source": [
        "dict_scores = {\n",
        "    '홍길동': 80,\n",
        "    '공유': 90,\n",
        "    '현빈': 100\n",
        "}\n",
        "\n",
        "#딕셔너리의 키를 정렬하여 리스트로 받음\n",
        "new_list = sorted(dict_scores.keys())\n",
        "print(new_list)\n",
        "\n",
        "#정렬된 키 리스트 순서로 반복\n",
        "for key in new_list:\n",
        "    print(key, dict_scores[key])"
      ],
      "execution_count": null,
      "outputs": [
        {
          "output_type": "stream",
          "text": [
            "['공유', '현빈', '홍길동']\n",
            "공유 90\n",
            "현빈 100\n",
            "홍길동 80\n"
          ],
          "name": "stdout"
        }
      ]
    },
    {
      "cell_type": "code",
      "metadata": {
        "id": "RLGuA89ax7Bs"
      },
      "source": [
        "dict_scores = {\n",
        "    '홍길동': 80,\n",
        "    '공유': 90,\n",
        "    '현빈': 100\n",
        "}\n",
        "\n",
        "#딕셔너리의 키를 정렬하여 \n",
        "#튜플(키,값)으로 받음\n",
        "item_list = sorted(dict_scores.items())\n",
        "print(item_list)\n",
        "\n",
        "#정렬된 키 리스트 순서로 반복\n",
        "for key,value in item_list:\n",
        "    print(key, value)"
      ],
      "execution_count": null,
      "outputs": []
    },
    {
      "cell_type": "markdown",
      "metadata": {
        "id": "KIn_ugfRyzdg"
      },
      "source": [
        "#**예제) 마일리지 관리**\n",
        "회사 쇼핑몰 고객의 아이디에 부여된 마일리지 포인트를 딕셔너리에 저장하여 관리하고자 한다<br>\n",
        "아이디 = Kim, Lee, Han, Hong, Hwang<br>\n",
        "마일리지 = 12000, 11000, 3000, 5000, 18000<br>\n",
        "​<br>\n",
        "1. 아이디와 마일리지 포인트를 딕셔너리에 저장한 다음 출력하는 프로그램을 작성하시오<br>\n",
        "2. 아이디 Han의 마일리지를 5000점으로 업데이트 하시오<br>\n",
        "3. 아이디 Jang의 마일리지 7000점을 추가하시오<br>\n",
        "4. 딕셔너리에서 가장 높은 마일리지를 찾아서 출력하는 프로그램을 작성하시오"
      ]
    },
    {
      "cell_type": "code",
      "metadata": {
        "colab": {
          "base_uri": "https://localhost:8080/"
        },
        "id": "8uKyd1Pqy3MF",
        "outputId": "f8ba1ae0-2848-49df-f84c-cd706e0c8c51"
      },
      "source": [
        "mile = {\n",
        "    'Kim': 12000,\n",
        "    'Lee': 11000,\n",
        "    'Han': 3000,\n",
        "    'Hong': 5000,\n",
        "    'Hwang': 18000\n",
        "}\n",
        "print(mile)\n",
        "\n",
        "#value 업데이트\n",
        "mile['Han'] = 5000\n",
        "print(mile)\n",
        "\n",
        "#key:value 추가하기\n",
        "mile['Jang'] = 7000\n",
        "print(mile)\n",
        "\n",
        "#가장 높은 마일리지 찾기\n",
        "print(f'가장 높은 마일리지는 {max(mile.keys())}님의 {max(mile.values())}점 입니다.')"
      ],
      "execution_count": null,
      "outputs": [
        {
          "output_type": "stream",
          "text": [
            "{'Kim': 12000, 'Lee': 11000, 'Han': 3000, 'Hong': 5000, 'Hwang': 18000}\n",
            "{'Kim': 12000, 'Lee': 11000, 'Han': 5000, 'Hong': 5000, 'Hwang': 18000}\n",
            "{'Kim': 12000, 'Lee': 11000, 'Han': 5000, 'Hong': 5000, 'Hwang': 18000, 'Jang': 7000}\n",
            "가장 높은 마일리지는 Lee님의 18000점 입니다.\n"
          ],
          "name": "stdout"
        }
      ]
    },
    {
      "cell_type": "markdown",
      "metadata": {
        "id": "_ajvfJ2e49mp"
      },
      "source": [
        "#**예제) 단어장 만들기**\n"
      ]
    },
    {
      "cell_type": "code",
      "metadata": {
        "colab": {
          "base_uri": "https://localhost:8080/"
        },
        "id": "0-G5ettMzk-D",
        "outputId": "de8f091e-1752-4672-82f1-0ee3bcabdecf"
      },
      "source": [
        "dict_voca = {}\n",
        "\n",
        "while True:\n",
        "    eng = input('영어단어를 입력하세요: ')\n",
        "    if eng == '':\n",
        "        break\n",
        "    kor = input('뜻을 입력하세요: ')\n",
        "    dict_voca[eng] = kor\n",
        "\n",
        "score = 0\n",
        "for eng_word in dict_voca.keys(): #eng_word에 dict_voca 딕셔너리의 키값을 가져온다\n",
        "    answer = input(eng_word + ':')\n",
        "    if answer == dict_voca[eng_word]:\n",
        "        score+=1\n",
        "print('-'*50)\n",
        "\n",
        "print(f'총 점수는 {score}/{len(dict_voca)}입니다.')"
      ],
      "execution_count": null,
      "outputs": [
        {
          "output_type": "stream",
          "text": [
            "영어단어를 입력하세요: tree\n",
            "뜻을 입력하세요: 나무\n",
            "영어단어를 입력하세요: \n",
            "tree:나무\n",
            "--------------------------------------------------\n",
            "총 점수는 1/1입니다.\n"
          ],
          "name": "stdout"
        }
      ]
    }
  ]
}