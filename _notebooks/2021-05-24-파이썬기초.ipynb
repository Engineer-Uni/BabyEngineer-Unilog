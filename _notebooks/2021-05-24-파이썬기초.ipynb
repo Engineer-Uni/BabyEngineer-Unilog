{
  "nbformat": 4,
  "nbformat_minor": 0,
  "metadata": {
    "colab": {
      "name": "0524_파이썬기초.ipynb",
      "provenance": [],
      "collapsed_sections": [],
      "toc_visible": true,
      "authorship_tag": "ABX9TyMRGQ5oSHapAsv4qCC0SgML",
      "include_colab_link": true
    },
    "kernelspec": {
      "name": "python3",
      "display_name": "Python 3"
    },
    "language_info": {
      "name": "python"
    }
  },
  "cells": [
    {
      "cell_type": "markdown",
      "metadata": {
        "id": "view-in-github",
        "colab_type": "text"
      },
      "source": [
        "<a href=\"https://colab.research.google.com/github/Engineer-Uni/Engineer-Unilog/blob/master/2021-05-24-%ED%8C%8C%EC%9D%B4%EC%8D%AC%EA%B8%B0%EC%B4%88.ipynb\" target=\"_parent\"><img src=\"https://colab.research.google.com/assets/colab-badge.svg\" alt=\"Open In Colab\"/></a>"
      ]
    },
    {
      "cell_type": "markdown",
      "metadata": {
        "id": "3prAhwVOPHx4"
      },
      "source": [
        "#**객체의 자료형 확인 type()**"
      ]
    },
    {
      "cell_type": "code",
      "metadata": {
        "colab": {
          "base_uri": "https://localhost:8080/"
        },
        "id": "0O5fBF8vEArF",
        "outputId": "bee74a1d-a5bd-4e5f-ce3a-4bf96eceaa88"
      },
      "source": [
        "\n",
        "a = 5 \n",
        "b = 3.13 \n",
        "c = '3.14' \n",
        "d = \"3,14\"\n",
        "e = -3.14\n",
        "f = 'abc' + '가나다'\n",
        "g = '123'*3\n",
        "print(type(a),type(b),type(c),type(d),type(e),type(f),type(g))\n",
        "print(f)\n",
        "print(g)"
      ],
      "execution_count": null,
      "outputs": [
        {
          "output_type": "stream",
          "text": [
            "<class 'int'> <class 'float'> <class 'str'> <class 'str'> <class 'float'> <class 'str'> <class 'str'>\n",
            "abc가나다\n",
            "123123123\n"
          ],
          "name": "stdout"
        }
      ]
    },
    {
      "cell_type": "markdown",
      "metadata": {
        "id": "kSLJ3MVLPNA6"
      },
      "source": [
        "#**변수명 에러 유형**"
      ]
    },
    {
      "cell_type": "code",
      "metadata": {
        "id": "dPOj-h2gGfj7"
      },
      "source": [
        "# 1st = '첫번째' / 숫자로 시작 x\n",
        "# f**t = '첫번째' / 문자사용 x(언더바 제외)\n",
        "# f^st = '첫번째' / 문자사용 x(언더바 제외)\n",
        "Temp = 1000\n",
        "# print(temp) / temp와 Temp는 구분된다. (대소문자 구분)\n",
        "# print = '출력합니다.' / 함수를 변수로 사용할 수 없습니다.\n",
        "# print(print) / 함수를 변수로 사용할 수 없습니다."
      ],
      "execution_count": null,
      "outputs": []
    },
    {
      "cell_type": "markdown",
      "metadata": {
        "id": "zNucogM9Zcd5"
      },
      "source": [
        "#**파이썬 연산**"
      ]
    },
    {
      "cell_type": "code",
      "metadata": {
        "id": "PSG1SBrvNQ4Q",
        "colab": {
          "base_uri": "https://localhost:8080/"
        },
        "outputId": "03d0d1e6-bf59-4e52-d9a4-767626f1d7c4"
      },
      "source": [
        "# 파이썬으로 사칙 연산이나 문자열 연산도 가능합니다.\n",
        "# 하지만 계산후 결과값은 일회성으로 보여지기만 합니다.\n",
        "# 결과나 과정, 변환된 값을 유지해야하는 경우 프로그램에서 변수가 필요합니다.\n",
        "print(100+200)\n",
        "print(\"Hello world\")"
      ],
      "execution_count": null,
      "outputs": [
        {
          "output_type": "stream",
          "text": [
            "300\n",
            "Hello world\n"
          ],
          "name": "stdout"
        }
      ]
    },
    {
      "cell_type": "code",
      "metadata": {
        "colab": {
          "base_uri": "https://localhost:8080/"
        },
        "id": "wFbk1sGwNfUq",
        "outputId": "a78f8b69-8261-4ea7-c68b-0a06337212ce"
      },
      "source": [
        "temp = 100 # temp 라는 변수를 만들고 temp 공간에 100 을 넣는다는 의미\n",
        "temp # temp 값을 확인하겠다는 의미입니다. 코랩 외의 환경에서는 print(temp)"
      ],
      "execution_count": null,
      "outputs": [
        {
          "output_type": "execute_result",
          "data": {
            "text/plain": [
              "100"
            ]
          },
          "metadata": {
            "tags": []
          },
          "execution_count": 29
        }
      ]
    },
    {
      "cell_type": "code",
      "metadata": {
        "colab": {
          "base_uri": "https://localhost:8080/"
        },
        "id": "oUiErGjDNuAT",
        "outputId": "fa770b5d-9901-4d1c-e332-f58010009d18"
      },
      "source": [
        "temp2 = 200\n",
        "print(temp2) # 코랩 외의 환경에서는 print(temp)"
      ],
      "execution_count": null,
      "outputs": [
        {
          "output_type": "stream",
          "text": [
            "200\n"
          ],
          "name": "stdout"
        }
      ]
    },
    {
      "cell_type": "code",
      "metadata": {
        "colab": {
          "base_uri": "https://localhost:8080/"
        },
        "id": "twG5IYPfOAJt",
        "outputId": "a44295a0-8c70-4079-a563-87d364c7367b"
      },
      "source": [
        "temp3 = temp + temp2 # temp3에 temp의 값과 temp2 을 더해서 넣는다\n",
        "temp3"
      ],
      "execution_count": null,
      "outputs": [
        {
          "output_type": "execute_result",
          "data": {
            "text/plain": [
              "300"
            ]
          },
          "metadata": {
            "tags": []
          },
          "execution_count": 35
        }
      ]
    },
    {
      "cell_type": "markdown",
      "metadata": {
        "id": "M0Gam4rIPdsp"
      },
      "source": [
        "#**리스트 []**"
      ]
    },
    {
      "cell_type": "code",
      "metadata": {
        "colab": {
          "base_uri": "https://localhost:8080/"
        },
        "id": "8dGfFnmePddL",
        "outputId": "a4df7466-775e-458c-f668-7638868f1c33"
      },
      "source": [
        "#list1 배열을 만들고 그 안에 여러 값을 넣습니다\n",
        "\n",
        "list0 = [1,3,7,5,3,6,8,10,5,'마지막']\n",
        "print(list0)"
      ],
      "execution_count": null,
      "outputs": [
        {
          "output_type": "stream",
          "text": [
            "[1, 3, 7, 5, 3, 6, 8, 10, 5, '마지막']\n"
          ],
          "name": "stdout"
        }
      ]
    },
    {
      "cell_type": "code",
      "metadata": {
        "colab": {
          "base_uri": "https://localhost:8080/"
        },
        "id": "wWUbVXSLOSmd",
        "outputId": "02087c2a-75ad-4caa-d6c4-d2c7d9f8c342"
      },
      "source": [
        "len(list0) #list0 배열 원소값을 요청 (몇개?)\n",
        "# len은 문자열의 길이도 구할 수 있습니다."
      ],
      "execution_count": null,
      "outputs": [
        {
          "output_type": "execute_result",
          "data": {
            "text/plain": [
              "10"
            ]
          },
          "metadata": {
            "tags": []
          },
          "execution_count": 10
        }
      ]
    },
    {
      "cell_type": "code",
      "metadata": {
        "colab": {
          "base_uri": "https://localhost:8080/"
        },
        "id": "Vvmd8bcnPv_8",
        "outputId": "1a6ee627-6853-430b-b9ca-b1d14b44bfed"
      },
      "source": [
        "print(list0[0]) #list1배열의 첫번째 원소값을 출력\n",
        "print(list0[-1]) #list1배열의 마지막 원소값을 출력\n",
        "#list 배열의 마지막 원소값을 문자열과 함께 출력\n",
        "print('list1 배열의 마지막 원소값은' + ' \"'+ str(list1[-1]) + '\"' + '입니다')"
      ],
      "execution_count": null,
      "outputs": [
        {
          "output_type": "stream",
          "text": [
            "1\n",
            "마지막\n",
            "list1 배열의 마지막 원소값은 \"마지막\"입니다\n"
          ],
          "name": "stdout"
        }
      ]
    },
    {
      "cell_type": "code",
      "metadata": {
        "colab": {
          "base_uri": "https://localhost:8080/"
        },
        "id": "YtF2v56WQnxd",
        "outputId": "1dfa370a-19a1-472f-9d41-26780ab77f07"
      },
      "source": [
        "print(list0[2:6]) #index2(3번째 원소)부터 5까지 출력\n",
        "print(list0[2:])\n",
        "print(list0[:6])\n",
        "print(list0[:-1])"
      ],
      "execution_count": null,
      "outputs": [
        {
          "output_type": "stream",
          "text": [
            "[7, 5, 3, 6]\n",
            "[7, 5, 3, 6, 8, 10, 5, '마지막']\n",
            "[1, 3, 7, 5, 3, 6]\n",
            "[1, 3, 7, 5, 3, 6, 8, 10, 5]\n"
          ],
          "name": "stdout"
        }
      ]
    },
    {
      "cell_type": "markdown",
      "metadata": {
        "id": "0MXQOW3GRMVg"
      },
      "source": [
        "#**range를 사용해서 리스트 만들기**"
      ]
    },
    {
      "cell_type": "code",
      "metadata": {
        "colab": {
          "base_uri": "https://localhost:8080/"
        },
        "id": "sPCRMdzERJYu",
        "outputId": "184036fc-5b84-42a8-bd44-cf7c83a7ed21"
      },
      "source": [
        "list_rg1 = list(range(11)) #0부터 10까지\n",
        "list_rg2 = list(range(5,12)) #5부터 11까지\n",
        "list_rg3 = list(range(-4,5,2)) #-4부터 4까지 2씩 증가\n",
        "list_rg4 = list(range(20,-1,-1)) #20부터 0까지 -1씩 감소\n",
        "list_rg5 = list('hello world') #문자 하나씩 리스트 원소로 들어간다\n",
        "\n",
        "print(\"list_rg1은\" , list_rg1)\n",
        "print(\"list_rg2은\" , list_rg2)\n",
        "print(\"list_rg3은\" , list_rg3)\n",
        "print(\"list_rg4은\" , list_rg4)\n",
        "print(\"list_rg5은\" , list_rg5)"
      ],
      "execution_count": null,
      "outputs": [
        {
          "output_type": "stream",
          "text": [
            "list_rg1은 [0, 1, 2, 3, 4, 5, 6, 7, 8, 9, 10]\n",
            "list_rg2은 [5, 6, 7, 8, 9, 10, 11]\n",
            "list_rg3은 [-4, -2, 0, 2, 4]\n",
            "list_rg4은 [20, 19, 18, 17, 16, 15, 14, 13, 12, 11, 10, 9, 8, 7, 6, 5, 4, 3, 2, 1, 0]\n",
            "list_rg5은 ['h', 'e', 'l', 'l', 'o', ' ', 'w', 'o', 'r', 'l', 'd']\n"
          ],
          "name": "stdout"
        }
      ]
    },
    {
      "cell_type": "markdown",
      "metadata": {
        "id": "0hvFtz4wSUab"
      },
      "source": [
        "#**요소의 값 할당 및 삭제하기**"
      ]
    },
    {
      "cell_type": "code",
      "metadata": {
        "colab": {
          "base_uri": "https://localhost:8080/"
        },
        "id": "8_e43YgKSX-n",
        "outputId": "331fc4b8-a19f-4676-e098-9e370efd0c34"
      },
      "source": [
        "# 요소의 값 할당하기, 삭제하기\n",
        "\n",
        "list_rg5[0] = 'H'\n",
        "\n",
        "print(\"list_rg5의 0번째 요소 대문자로 수정\", list_rg5)\n",
        "\n",
        "del list_rg5[5] #index 5(6번째)에 위치한 띄어쓰기 삭제\n",
        "print(\"list_rg5의 5번째 요소 삭제\", list_rg5)"
      ],
      "execution_count": null,
      "outputs": [
        {
          "output_type": "stream",
          "text": [
            "list_rg5의 0번째 요소 대문자로 수정 ['H', 'e', 'l', 'l', 'o', ' ', 'w', 'o', 'r', 'l', 'd']\n",
            "list_rg5의 5번째 요소 삭제 ['H', 'e', 'l', 'l', 'o', 'w', 'o', 'r', 'l', 'd']\n"
          ],
          "name": "stdout"
        }
      ]
    },
    {
      "cell_type": "markdown",
      "metadata": {
        "id": "CuIoTi3lp-Pb"
      },
      "source": [
        "#**튜플()**\n",
        "\n",
        "요소를 변경, 추가, 삭제 불가. 튜플은 읽기 전용 리스트다."
      ]
    },
    {
      "cell_type": "code",
      "metadata": {
        "id": "myYCBJzVp9oJ"
      },
      "source": [
        ""
      ],
      "execution_count": null,
      "outputs": []
    },
    {
      "cell_type": "markdown",
      "metadata": {
        "id": "Naij25TDqVvj"
      },
      "source": [
        "#**딕셔너리{}**"
      ]
    },
    {
      "cell_type": "code",
      "metadata": {
        "id": "UV6MaiOiqakZ"
      },
      "source": [
        ""
      ],
      "execution_count": null,
      "outputs": []
    },
    {
      "cell_type": "markdown",
      "metadata": {
        "id": "Pd1nPfUSTYmk"
      },
      "source": [
        "#**For문 (반복문)**"
      ]
    },
    {
      "cell_type": "code",
      "metadata": {
        "colab": {
          "base_uri": "https://localhost:8080/"
        },
        "id": "aaAfhc9tTYDP",
        "outputId": "a3235c69-0476-4544-8743-d517fd5606bf"
      },
      "source": [
        "for i in range(0,3,1):\n",
        "    print(i, 'for문을 공부하고 있습니다')"
      ],
      "execution_count": null,
      "outputs": [
        {
          "output_type": "stream",
          "text": [
            "0 for문을 공부하고 있습니다\n",
            "1 for문을 공부하고 있습니다\n",
            "2 for문을 공부하고 있습니다\n"
          ],
          "name": "stdout"
        }
      ]
    },
    {
      "cell_type": "code",
      "metadata": {
        "colab": {
          "base_uri": "https://localhost:8080/"
        },
        "id": "EeBXeKW-U3DF",
        "outputId": "78ddf9b4-da45-4f06-f3fc-da25b9d3448b"
      },
      "source": [
        "#index 5까지의 요소, x를 출력해라\n",
        "for x in range(5): \n",
        "    print(x)"
      ],
      "execution_count": null,
      "outputs": [
        {
          "output_type": "stream",
          "text": [
            "0\n",
            "1\n",
            "2\n",
            "3\n",
            "4\n"
          ],
          "name": "stdout"
        }
      ]
    },
    {
      "cell_type": "code",
      "metadata": {
        "colab": {
          "base_uri": "https://localhost:8080/"
        },
        "id": "HQ-xRW2rU9Z1",
        "outputId": "0199522d-7cdc-4033-dafe-0278090fe541"
      },
      "source": [
        "# 합계 구하기\n",
        "sum = 0\n",
        "start = 1\n",
        "end = 11\n",
        "for x in range(start,end):\n",
        "    sum += x\n",
        "    print('x:', x, 'sum:', sum)\n",
        "print('-'*50)\n",
        "print(start, '부터', end-1, '까지 더한 총합은', sum,'입니다')"
      ],
      "execution_count": null,
      "outputs": [
        {
          "output_type": "stream",
          "text": [
            "x: 1 sum: 1\n",
            "x: 2 sum: 3\n",
            "x: 3 sum: 6\n",
            "x: 4 sum: 10\n",
            "x: 5 sum: 15\n",
            "x: 6 sum: 21\n",
            "x: 7 sum: 28\n",
            "x: 8 sum: 36\n",
            "x: 9 sum: 45\n",
            "x: 10 sum: 55\n",
            "--------------------------------------------------\n",
            "1 부터 10 까지 더한 총합은 55 입니다\n"
          ],
          "name": "stdout"
        }
      ]
    },
    {
      "cell_type": "code",
      "metadata": {
        "id": "DaYMTVjnV9-7"
      },
      "source": [
        "# 학점 계산기\n",
        "def grade(score):   \n",
        "    if score >= 90:\n",
        "        print('A')\n",
        "    elif score >=80:\n",
        "        print('B')\n",
        "    elif score >=70:\n",
        "        print('C')\n",
        "    elif score >=60:\n",
        "        print('D')\n",
        "    else :\n",
        "        print('F')\n",
        "\n",
        "score = int(input('점수를 입력해주세요'))\n",
        "print(grade(score))"
      ],
      "execution_count": null,
      "outputs": []
    },
    {
      "cell_type": "markdown",
      "metadata": {
        "id": "UNa3u-mVrUMK"
      },
      "source": [
        "#**랜덤으로 추출하기 random.randint()**\n",
        "\n",
        "random.randint(start, end)  \n",
        "*randint는 뒤의 숫자도 포함!"
      ]
    },
    {
      "cell_type": "code",
      "metadata": {
        "colab": {
          "base_uri": "https://localhost:8080/"
        },
        "id": "BKgNgaCabbKE",
        "outputId": "04a6b173-a8a0-4d87-f23e-e1eedfba92f1"
      },
      "source": [
        "#누가 발표할까요? 모듈 만들기\n",
        "import random \n",
        "list_DT = ['람쥐', 'JYP', '여름', '유니콘', '자룡' , 'DB', '전봇대']\n",
        "index = random.randint(0,len(list_DT)-1)\n",
        "print(rand_num, \"발표자는 \"+list_DT[index]+\"입니다\")"
      ],
      "execution_count": null,
      "outputs": [
        {
          "output_type": "stream",
          "text": [
            "4 발표자는 유니콘입니다\n"
          ],
          "name": "stdout"
        }
      ]
    }
  ]
}
