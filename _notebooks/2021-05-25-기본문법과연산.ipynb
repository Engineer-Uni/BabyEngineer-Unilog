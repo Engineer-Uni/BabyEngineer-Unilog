{
  "nbformat": 4,
  "nbformat_minor": 0,
  "metadata": {
    "colab": {
      "name": "2021-05-25-기본문법과 연산",
      "provenance": [],
      "collapsed_sections": [],
      "toc_visible": true,
      "authorship_tag": "ABX9TyPd4PPaIwURE4BZREkN30WQ",
      "include_colab_link": true
    },
    "kernelspec": {
      "name": "python3",
      "display_name": "Python 3"
    },
    "language_info": {
      "name": "python"
    }
  },
  "cells": [
    {
      "cell_type": "markdown",
      "metadata": {
        "id": "view-in-github",
        "colab_type": "text"
      },
      "source": [
        "<a href=\"https://colab.research.google.com/github/Engineer-Uni/Engineer-Unilog/blob/master/_notebooks/2021-05-25-%EA%B8%B0%EB%B3%B8%EB%AC%B8%EB%B2%95%EA%B3%BC%EC%97%B0%EC%82%B0.ipynb\" target=\"_parent\"><img src=\"https://colab.research.google.com/assets/colab-badge.svg\" alt=\"Open In Colab\"/></a>"
      ]
    },
    {
      "cell_type": "markdown",
      "metadata": {
        "id": "xwINw-I_1nAC"
      },
      "source": [
        "#**지난주 복습: 데이터 타입**"
      ]
    },
    {
      "cell_type": "code",
      "metadata": {
        "colab": {
          "base_uri": "https://localhost:8080/",
          "height": 316
        },
        "id": "XbVJfVpFvUVv",
        "outputId": "894aedfd-74b6-4bcd-d0a4-bcb7d3359738"
      },
      "source": [
        "#int 숫자타입\n",
        "test1 = 1\n",
        "print(test1)\n",
        "print(type(test1))   # 데이터 형\n",
        "print(id(test1))     # 데이터 주소\n",
        "\n",
        "\n",
        "# 따옴표 안의 숫자는 문자로 인식한다\n",
        "a, b= 10, 20\n",
        "print(a+b)\n",
        "a, b = '10', '20'\n",
        "print(c+d)\n",
        "\n",
        "\n",
        "# 숫자와 문자는 계산되지 않는다\n",
        "a, b = abcd, 20\n",
        "print(a+b)"
      ],
      "execution_count": null,
      "outputs": [
        {
          "output_type": "stream",
          "text": [
            "1\n",
            "<class 'int'>\n",
            "94905490205184\n",
            "30\n",
            "1020\n"
          ],
          "name": "stdout"
        },
        {
          "output_type": "error",
          "ename": "NameError",
          "evalue": "ignored",
          "traceback": [
            "\u001b[0;31m---------------------------------------------------------------------------\u001b[0m",
            "\u001b[0;31mNameError\u001b[0m                                 Traceback (most recent call last)",
            "\u001b[0;32m<ipython-input-29-376c73c22bfa>\u001b[0m in \u001b[0;36m<module>\u001b[0;34m()\u001b[0m\n\u001b[1;32m     12\u001b[0m \u001b[0ma\u001b[0m\u001b[0;34m,\u001b[0m \u001b[0mb\u001b[0m \u001b[0;34m=\u001b[0m \u001b[0;34m'10'\u001b[0m\u001b[0;34m,\u001b[0m \u001b[0;34m'20'\u001b[0m\u001b[0;34m\u001b[0m\u001b[0;34m\u001b[0m\u001b[0m\n\u001b[1;32m     13\u001b[0m \u001b[0mprint\u001b[0m\u001b[0;34m(\u001b[0m\u001b[0mc\u001b[0m\u001b[0;34m+\u001b[0m\u001b[0md\u001b[0m\u001b[0;34m)\u001b[0m\u001b[0;34m\u001b[0m\u001b[0;34m\u001b[0m\u001b[0m\n\u001b[0;32m---> 14\u001b[0;31m \u001b[0ma\u001b[0m\u001b[0;34m,\u001b[0m \u001b[0mb\u001b[0m \u001b[0;34m=\u001b[0m \u001b[0mabcd\u001b[0m\u001b[0;34m,\u001b[0m \u001b[0;36m20\u001b[0m\u001b[0;34m\u001b[0m\u001b[0;34m\u001b[0m\u001b[0m\n\u001b[0m\u001b[1;32m     15\u001b[0m \u001b[0mprint\u001b[0m\u001b[0;34m(\u001b[0m\u001b[0ma\u001b[0m\u001b[0;34m+\u001b[0m\u001b[0mb\u001b[0m\u001b[0;34m)\u001b[0m\u001b[0;34m\u001b[0m\u001b[0;34m\u001b[0m\u001b[0m\n",
            "\u001b[0;31mNameError\u001b[0m: name 'abcd' is not defined"
          ]
        }
      ]
    },
    {
      "cell_type": "code",
      "metadata": {
        "colab": {
          "base_uri": "https://localhost:8080/"
        },
        "id": "dvah7OKL1E5w",
        "outputId": "103bbf82-9376-4043-8fe4-c6d8fc91bb66"
      },
      "source": [
        "#test1 = 1.0\n",
        "print(test1)\n",
        "print(type(test1))   # 데이터 형\n",
        "print(id(test1))     # 데이터 주소"
      ],
      "execution_count": null,
      "outputs": [
        {
          "output_type": "stream",
          "text": [
            "1.0\n",
            "<class 'float'>\n",
            "139669584096688\n"
          ],
          "name": "stdout"
        }
      ]
    },
    {
      "cell_type": "code",
      "metadata": {
        "colab": {
          "base_uri": "https://localhost:8080/"
        },
        "id": "CuKWUm0x1FEd",
        "outputId": "08238fcc-7ff7-4ac4-ce55-0a217b5cc93f"
      },
      "source": [
        "test1 = \"hi\"\n",
        "print(test1)\n",
        "print(type(test1))   # 데이터 형\n",
        "print(id(test1))     # 데이터 주소\n",
        "\n",
        "\n",
        "# 문자열 여러줄 넣고 싶다면 따옴표 3개를 연달아 작성한다\n",
        "\n",
        "a = '''자세히 보아야 예쁘다.\n",
        "오래 보아야 사랑스럽다.\n",
        "너도 그렇다.'''\n",
        "print(a)"
      ],
      "execution_count": null,
      "outputs": [
        {
          "output_type": "stream",
          "text": [
            "hi\n",
            "<class 'str'>\n",
            "139670275605488\n",
            "자세히 보아야 예쁘다.\n",
            "오래 보아야 사랑스럽다.\n",
            "너도 그렇다.\n"
          ],
          "name": "stdout"
        }
      ]
    },
    {
      "cell_type": "code",
      "metadata": {
        "colab": {
          "base_uri": "https://localhost:8080/"
        },
        "id": "ZTKmNoYS1G5T",
        "outputId": "0e90f900-dc2a-4b22-911e-b23bc893d35d"
      },
      "source": [
        "test1 = True\n",
        "print(test1)\n",
        "print(type(test1))   # 데이터 형\n",
        "print(id(test1))     # 데이터 주소\n",
        "\n",
        "b = 1 > 2\n",
        "print(b)"
      ],
      "execution_count": null,
      "outputs": [
        {
          "output_type": "stream",
          "text": [
            "True\n",
            "<class 'bool'>\n",
            "94905489531136\n",
            "False\n"
          ],
          "name": "stdout"
        }
      ]
    },
    {
      "cell_type": "code",
      "metadata": {
        "colab": {
          "base_uri": "https://localhost:8080/"
        },
        "id": "Y4i3g2W91HBj",
        "outputId": "1aa17fa5-c4e6-4bcc-e725-4eea823ec7c5"
      },
      "source": [
        "test1 = [1,2,3]\n",
        "print(test1)\n",
        "print(type(test1))   # 데이터 형\n",
        "print(id(test1))     # 데이터 주소"
      ],
      "execution_count": null,
      "outputs": [
        {
          "output_type": "stream",
          "text": [
            "[1, 2, 3]\n",
            "<class 'list'>\n",
            "139669583916880\n"
          ],
          "name": "stdout"
        }
      ]
    },
    {
      "cell_type": "code",
      "metadata": {
        "colab": {
          "base_uri": "https://localhost:8080/"
        },
        "id": "_aekJjGD1HJ5",
        "outputId": "4f9f9631-cc04-4805-ffbc-f6528690b4a0"
      },
      "source": [
        "test1 = (1,2,3)\n",
        "print(test1)\n",
        "print(type(test1))   # 데이터 형\n",
        "print(id(test1))     # 데이터 주소"
      ],
      "execution_count": null,
      "outputs": [
        {
          "output_type": "stream",
          "text": [
            "(1, 2, 3)\n",
            "<class 'tuple'>\n",
            "139669584078560\n"
          ],
          "name": "stdout"
        }
      ]
    },
    {
      "cell_type": "code",
      "metadata": {
        "colab": {
          "base_uri": "https://localhost:8080/"
        },
        "id": "SHJfcEeM1FVs",
        "outputId": "1da06c30-fbce-4470-fdfe-ed4704768b7b"
      },
      "source": [
        "test1 = {'name' : 'john', 'age' : 15}\n",
        "print(test1)\n",
        "print(type(test1))   # 데이터 형\n",
        "print(id(test1))     # 데이터 주소"
      ],
      "execution_count": null,
      "outputs": [
        {
          "output_type": "stream",
          "text": [
            "{'name': 'john', 'age': 15}\n",
            "<class 'dict'>\n",
            "139669651052016\n"
          ],
          "name": "stdout"
        }
      ]
    },
    {
      "cell_type": "code",
      "metadata": {
        "colab": {
          "base_uri": "https://localhost:8080/"
        },
        "id": "r8yRWG0X1FM2",
        "outputId": "88f928a6-9aaa-4937-b59b-65cfb2b05ee8"
      },
      "source": [
        "test1 = {1,2,3,4}\n",
        "print(test1)\n",
        "print(type(test1))   # 데이터 형\n",
        "print(id(test1))     # 데이터 주소"
      ],
      "execution_count": null,
      "outputs": [
        {
          "output_type": "stream",
          "text": [
            "{1, 2, 3, 4}\n",
            "<class 'set'>\n",
            "139669712745728\n"
          ],
          "name": "stdout"
        }
      ]
    },
    {
      "cell_type": "markdown",
      "metadata": {
        "id": "gZ7s1FvU7Gul"
      },
      "source": [
        "#** 형 변환 함수**\n",
        "> int(), float(), str()"
      ]
    },
    {
      "cell_type": "code",
      "metadata": {
        "colab": {
          "base_uri": "https://localhost:8080/"
        },
        "id": "-75posli2Oeu",
        "outputId": "412e73c6-88d0-44f8-9288-bc92ca6fc3f8"
      },
      "source": [
        "# string > int\n",
        "a, b= 10, \"20\"\n",
        "print(a+int(b))"
      ],
      "execution_count": null,
      "outputs": [
        {
          "output_type": "stream",
          "text": [
            "30\n"
          ],
          "name": "stdout"
        }
      ]
    },
    {
      "cell_type": "code",
      "metadata": {
        "colab": {
          "base_uri": "https://localhost:8080/"
        },
        "id": "QoMk15Kl7U0s",
        "outputId": "c57308b4-3da6-4254-9999-5a7bb95eb97b"
      },
      "source": [
        "# int > string\n",
        "a, b= 10, 20\n",
        "print(str(a)+str(b))"
      ],
      "execution_count": null,
      "outputs": [
        {
          "output_type": "stream",
          "text": [
            "1020\n"
          ],
          "name": "stdout"
        }
      ]
    },
    {
      "cell_type": "code",
      "metadata": {
        "colab": {
          "base_uri": "https://localhost:8080/"
        },
        "id": "-7KUvcc57gWM",
        "outputId": "bf7d9990-a8a4-4797-c06e-a3162c5c05c5"
      },
      "source": [
        "# int > float\n",
        "a, b= 10, 20\n",
        "print(float(a)+float(b))"
      ],
      "execution_count": null,
      "outputs": [
        {
          "output_type": "stream",
          "text": [
            "30.0\n"
          ],
          "name": "stdout"
        }
      ]
    },
    {
      "cell_type": "code",
      "metadata": {
        "colab": {
          "base_uri": "https://localhost:8080/"
        },
        "id": "4uQutiVd7qXW",
        "outputId": "2f9bdc45-7e95-480a-d33a-1e7fe37008bc"
      },
      "source": [
        "# 소수를 실수형으로 변환시키면 소수점 이하는 버린다\n",
        "a, b= 10.3, 20.8\n",
        "print(int(a)+int(b))"
      ],
      "execution_count": null,
      "outputs": [
        {
          "output_type": "stream",
          "text": [
            "30\n"
          ],
          "name": "stdout"
        }
      ]
    },
    {
      "cell_type": "markdown",
      "metadata": {
        "id": "juKZsfUu8izq"
      },
      "source": [
        "#**변수에 값 입력받기 > input()**\n",
        "input으로 입력받은 값은 문자값으로 출력된다"
      ]
    },
    {
      "cell_type": "code",
      "metadata": {
        "id": "yJyuPAq77uv0",
        "colab": {
          "base_uri": "https://localhost:8080/"
        },
        "outputId": "093a17db-63d7-42a0-f6e5-cf09e11bfc41"
      },
      "source": [
        "name = input('이름을 입력하세요')\n",
        "print( name, '님 안녕하세요?')"
      ],
      "execution_count": null,
      "outputs": [
        {
          "output_type": "stream",
          "text": [
            "이름을 입력하세요허윤희\n",
            "허윤희 님 안녕하세요?\n"
          ],
          "name": "stdout"
        }
      ]
    },
    {
      "cell_type": "markdown",
      "metadata": {
        "id": "xJ-OYP499K4c"
      },
      "source": [
        "#**출력 > print()**"
      ]
    },
    {
      "cell_type": "code",
      "metadata": {
        "colab": {
          "base_uri": "https://localhost:8080/"
        },
        "id": "9CPLaGh38-lc",
        "outputId": "d3a86b3a-2c09-4458-d146-7e10b7bad532"
      },
      "source": [
        "print(5)\n",
        "print(0.5)\n",
        "print('Hi')\n",
        "print('10')"
      ],
      "execution_count": null,
      "outputs": [
        {
          "output_type": "stream",
          "text": [
            "5\n",
            "0.5\n",
            "Hi\n",
            "10\n"
          ],
          "name": "stdout"
        }
      ]
    },
    {
      "cell_type": "code",
      "metadata": {
        "colab": {
          "base_uri": "https://localhost:8080/"
        },
        "id": "BNAY-Qjc9ZsD",
        "outputId": "68035aeb-3909-4d3a-d682-007997afe646"
      },
      "source": [
        "print(1+2)\n",
        "print(2>3)\n",
        "print(2<3)"
      ],
      "execution_count": null,
      "outputs": [
        {
          "output_type": "stream",
          "text": [
            "3\n",
            "False\n",
            "True\n"
          ],
          "name": "stdout"
        }
      ]
    },
    {
      "cell_type": "code",
      "metadata": {
        "colab": {
          "base_uri": "https://localhost:8080/"
        },
        "id": "M6OwZZPw9ZkU",
        "outputId": "a72b0656-1fac-42fa-b042-c3534a371369"
      },
      "source": [
        "#변수값 출력\n",
        "a = 1\n",
        "print(a)\n",
        "print(a+1)"
      ],
      "execution_count": null,
      "outputs": [
        {
          "output_type": "stream",
          "text": [
            "1\n",
            "2\n"
          ],
          "name": "stdout"
        }
      ]
    },
    {
      "cell_type": "code",
      "metadata": {
        "colab": {
          "base_uri": "https://localhost:8080/"
        },
        "id": "vHupgtXX9uDC",
        "outputId": "910637a6-d3ea-43bd-ea5d-139215db2377"
      },
      "source": [
        "print('Hello','World')\n",
        "print('1 더하기 2는', 1+2)\n",
        "age = 10\n",
        "print('나는', age, '살 입니다')"
      ],
      "execution_count": null,
      "outputs": [
        {
          "output_type": "stream",
          "text": [
            "Hello World\n",
            "1 더하기 2는 3\n",
            "나는 10 살 입니다\n"
          ],
          "name": "stdout"
        }
      ]
    },
    {
      "cell_type": "markdown",
      "metadata": {
        "id": "GdLZTFy6-BwP"
      },
      "source": [
        "#**출력 > f스트링**\n",
        "문장 사이에 변수값을 출력할 때 편리하다."
      ]
    },
    {
      "cell_type": "code",
      "metadata": {
        "colab": {
          "base_uri": "https://localhost:8080/"
        },
        "id": "bCdG4yHy9_A1",
        "outputId": "1f812cc2-86f4-42d8-cf70-4d02647162d8"
      },
      "source": [
        "# f스트링: 문장사이 변수값을 출력할 때 사용\n",
        "\n",
        "name = input('이름을 입력하세요')\n",
        "print( f'{name}님 안녕하세요?')"
      ],
      "execution_count": null,
      "outputs": [
        {
          "output_type": "stream",
          "text": [
            "이름을 입력하세요허윤희\n",
            "허윤희님 안녕하세요?\n"
          ],
          "name": "stdout"
        }
      ]
    },
    {
      "cell_type": "markdown",
      "metadata": {
        "id": "xsy-aLW8AIUD"
      },
      "source": [
        "#**산술연산**"
      ]
    },
    {
      "cell_type": "code",
      "metadata": {
        "colab": {
          "base_uri": "https://localhost:8080/"
        },
        "id": "zZnftqL__hxf",
        "outputId": "20b29b0f-6086-4319-8dc5-0e376a833c63"
      },
      "source": [
        "# // : 몫 _ 나머지 버린 거\n",
        "x = 100\n",
        "y = 3\n",
        "print(x // y)"
      ],
      "execution_count": null,
      "outputs": [
        {
          "output_type": "stream",
          "text": [
            "33\n"
          ],
          "name": "stdout"
        }
      ]
    },
    {
      "cell_type": "code",
      "metadata": {
        "colab": {
          "base_uri": "https://localhost:8080/"
        },
        "id": "vVlMY9ZiAQC8",
        "outputId": "d948e506-1b8f-42f2-b423-03ea8499b902"
      },
      "source": [
        "# % : 나머지 0 / 1 _ '짝수/홀수만 선택하세요' 같은 조건을 사용할 때\n",
        "x = 100\n",
        "y = 3\n",
        "print(x % y)"
      ],
      "execution_count": null,
      "outputs": [
        {
          "output_type": "stream",
          "text": [
            "1\n"
          ],
          "name": "stdout"
        }
      ]
    },
    {
      "cell_type": "code",
      "metadata": {
        "colab": {
          "base_uri": "https://localhost:8080/"
        },
        "id": "g3AjlqwuAi_N",
        "outputId": "92ce4250-ac4f-41ae-ea6e-d8ede4b69211"
      },
      "source": [
        "# ** : 거듭제곱\n",
        "x = 100\n",
        "y = 3\n",
        "print(x ** y)"
      ],
      "execution_count": null,
      "outputs": [
        {
          "output_type": "stream",
          "text": [
            "1000000\n"
          ],
          "name": "stdout"
        }
      ]
    },
    {
      "cell_type": "markdown",
      "metadata": {
        "id": "1UCWWKRv-yz8"
      },
      "source": [
        "#**두 수를 입력받아 더하는 프로그램**"
      ]
    },
    {
      "cell_type": "code",
      "metadata": {
        "colab": {
          "base_uri": "https://localhost:8080/"
        },
        "id": "rfd6Oobq-MEz",
        "outputId": "5d1d3c2f-99a5-444e-8494-d7a8f101a117"
      },
      "source": [
        "print('두 수를 입력받아 더하는 프로그램입니다.')\n",
        "a = input('첫번째 숫자를 입력하세요: ')\n",
        "b = input('두번째 숫자를 입력하세요: ')\n",
        "print(f'{a} + {b} = {int(a)+int(b)}')"
      ],
      "execution_count": null,
      "outputs": [
        {
          "output_type": "stream",
          "text": [
            "두 수를 입력받아 더하는 프로그램입니다.\n",
            "첫번째 숫자를 입력하세요: 10\n",
            "두번째 숫자를 입력하세요: 20\n",
            "10 + 20 = 30\n"
          ],
          "name": "stdout"
        }
      ]
    },
    {
      "cell_type": "markdown",
      "metadata": {
        "id": "Rqg_XBiKBczj"
      },
      "source": [
        "#**산술연산의 우선순위**\n",
        "() > ** > *, / > +, -"
      ]
    },
    {
      "cell_type": "markdown",
      "metadata": {
        "id": "pZpU9I8uBctE"
      },
      "source": [
        "#**화씨온도 > 섭씨온도로 변환하기**"
      ]
    },
    {
      "cell_type": "code",
      "metadata": {
        "colab": {
          "base_uri": "https://localhost:8080/"
        },
        "id": "E6KlRgD4Ai24",
        "outputId": "d8ce0c7a-b17e-445b-e210-4df2e58bad0a"
      },
      "source": [
        "a = input('화씨온도: ')\n",
        "print('섭씨온도:',(int(a)-32)*5/9)"
      ],
      "execution_count": null,
      "outputs": [
        {
          "output_type": "stream",
          "text": [
            "화씨온도: 100\n",
            "섭씨온도: 37.77777777777778\n"
          ],
          "name": "stdout"
        }
      ]
    },
    {
      "cell_type": "markdown",
      "metadata": {
        "id": "_PhxGa_CE85F"
      },
      "source": [
        "#**삼각형 넓이**"
      ]
    },
    {
      "cell_type": "code",
      "metadata": {
        "id": "3MQ668qwFAg2",
        "colab": {
          "base_uri": "https://localhost:8080/"
        },
        "outputId": "0dda56b1-66af-4007-e4c8-fd34fce95250"
      },
      "source": [
        "a = float(input('밑변:'))\n",
        "h = float(input('높이:'))\n",
        "print('삼각형의 넓이:', a*h/2)"
      ],
      "execution_count": null,
      "outputs": [
        {
          "output_type": "stream",
          "text": [
            "밑변:3.2\n",
            "높이:5.5\n",
            "삼각형의 넓이: 8.8\n"
          ],
          "name": "stdout"
        }
      ]
    },
    {
      "cell_type": "markdown",
      "metadata": {
        "id": "DAA60IjBJ4PE"
      },
      "source": [
        "#**원의 넓이 구하기**"
      ]
    },
    {
      "cell_type": "code",
      "metadata": {
        "colab": {
          "base_uri": "https://localhost:8080/"
        },
        "id": "5LH-cXkFJ7cE",
        "outputId": "ab5c03ee-3c03-4040-c35f-82aad65ebf4e"
      },
      "source": [
        "a = float(input('반지름: '))\n",
        "print('원의 둘레:', 2*a*3.14 , '원의 넓이:', 3.14*a**2)"
      ],
      "execution_count": null,
      "outputs": [
        {
          "output_type": "stream",
          "text": [
            "반지름: 3\n",
            "원의 둘레: 18.84 원의 넓이: 28.26\n"
          ],
          "name": "stdout"
        }
      ]
    },
    {
      "cell_type": "markdown",
      "metadata": {
        "id": "ovKYsZ2KLtyE"
      },
      "source": [
        "#**할당 연산자**\n",
        "<li>주소에 변수값 할당하기</li>\n",
        "<li>기호 '=' 사용</li>\n",
        "<li>'=='는 [같다]라는 연산 표현</li>"
      ]
    },
    {
      "cell_type": "code",
      "metadata": {
        "colab": {
          "base_uri": "https://localhost:8080/"
        },
        "id": "98spZIrlLyvB",
        "outputId": "574034e0-d1c1-46a7-d396-c7493a50e880"
      },
      "source": [
        "# 하나의 변수에 하나의 값 할당\n",
        "a = 1\n",
        "print(a)\n",
        "\n",
        "# 여러개의 변수에 하나의 값 할당\n",
        "a = b = c = 1\n",
        "print(a,b,c)\n",
        "\n",
        "# 여러개의 변수에 각각 다른 값 할당\n",
        "a, b, c = 1, 2, 3\n",
        "print(a,b,c)"
      ],
      "execution_count": null,
      "outputs": [
        {
          "output_type": "stream",
          "text": [
            "1\n",
            "1 1 1\n",
            "1 2 3\n"
          ],
          "name": "stdout"
        }
      ]
    },
    {
      "cell_type": "markdown",
      "metadata": {
        "id": "NMGVxhlrM_Uv"
      },
      "source": [
        "#**복합할당 연산자**"
      ]
    },
    {
      "cell_type": "code",
      "metadata": {
        "colab": {
          "base_uri": "https://localhost:8080/"
        },
        "id": "ipSdctw6L-Ta",
        "outputId": "7bb9e9b6-534c-4ade-b5e5-95e153e3dbd4"
      },
      "source": [
        "#누적해서 더하기 : 자기 자신에게 자기 자신을 더해줌\n",
        "x = 10\n",
        "x += 20\n",
        "# x = x(기존) + 20\n",
        "print(x)"
      ],
      "execution_count": null,
      "outputs": [
        {
          "output_type": "stream",
          "text": [
            "30\n"
          ],
          "name": "stdout"
        }
      ]
    },
    {
      "cell_type": "code",
      "metadata": {
        "colab": {
          "base_uri": "https://localhost:8080/"
        },
        "id": "pOAdxdldM7zJ",
        "outputId": "8f63146a-cf9c-476e-87ee-1a614ab198ea"
      },
      "source": [
        "#\n",
        "x = 3\n",
        "y = 5\n",
        "x *= x + y\n",
        "# x = x * (x + y)\n",
        "print(x)"
      ],
      "execution_count": null,
      "outputs": [
        {
          "output_type": "stream",
          "text": [
            "24\n"
          ],
          "name": "stdout"
        }
      ]
    },
    {
      "cell_type": "markdown",
      "metadata": {
        "id": "2yXWrcatPoYT"
      },
      "source": [
        "#**문자열 연결하기**"
      ]
    },
    {
      "cell_type": "code",
      "metadata": {
        "colab": {
          "base_uri": "https://localhost:8080/"
        },
        "id": "56k5W3yYNl2k",
        "outputId": "ec3df7a6-3a5c-41e7-ad28-8cccfb7f3089"
      },
      "source": [
        "name = input('이름을 입력하세요: ')\n",
        "greet = name + '님, 안녕하세요'\n",
        "print(greet)"
      ],
      "execution_count": null,
      "outputs": [
        {
          "output_type": "stream",
          "text": [
            "이름을 입력하세요: 윤희\n",
            "윤희님, 안녕하세요\n"
          ],
          "name": "stdout"
        }
      ]
    },
    {
      "cell_type": "code",
      "metadata": {
        "colab": {
          "base_uri": "https://localhost:8080/"
        },
        "id": "KKb1kdHFPsYs",
        "outputId": "fffd7476-63c0-464f-9aa2-fff6bf623741"
      },
      "source": [
        "English = 80\n",
        "result = '영어점수: ' + str(English) + '점'\n",
        "print(result)"
      ],
      "execution_count": null,
      "outputs": [
        {
          "output_type": "stream",
          "text": [
            "영어점수: 80점\n"
          ],
          "name": "stdout"
        }
      ]
    },
    {
      "cell_type": "markdown",
      "metadata": {
        "id": "vpS-P4UWV-wK"
      },
      "source": [
        "#**로봇 기자 만들기**"
      ]
    },
    {
      "cell_type": "code",
      "metadata": {
        "colab": {
          "base_uri": "https://localhost:8080/"
        },
        "id": "T3HvYfM2W9qq",
        "outputId": "e7a875f6-169a-4235-87cd-350229333473"
      },
      "source": [
        "stadium = input('경기장소: ')\n",
        "winner = input('이긴 팀: ')\n",
        "loser = input('진 팀: ')\n",
        "vip = input('vip 선수: ')\n",
        "score = input('점수: ')\n",
        "print('-' * 50)\n",
        "\n",
        "print(f'''오늘 {stadium}에서 경기가 열렸습니다.\n",
        "{winner}와(과) {loser}은(는) 치열한 공방전을 펼쳤습니다.\n",
        "{vip}이(가) 맹활약을 펼습니다.\n",
        "결국 {winner}이(가) {loser}을(를) {score}로 이겼습니다.''')"
      ],
      "execution_count": null,
      "outputs": [
        {
          "output_type": "stream",
          "text": [
            "경기장소: 올림픽 경기장\n",
            "이긴 팀: 대한민국\n",
            "진 팀: 일본\n",
            "vip 선수: 손흥민\n",
            "점수: 3:0\n",
            "--------------------------------------------------\n",
            "오늘 올림픽 경기장에서 경기가 열렸습니다.\n",
            "대한민국와(과) 일본은(는) 치열한 공방전을 펼쳤습니다.\n",
            "손흥민이(가) 맹활약을 펼습니다.\n",
            "결국 대한민국이(가) 일본을(를) 3:0로 이겼습니다.\n"
          ],
          "name": "stdout"
        }
      ]
    },
    {
      "cell_type": "markdown",
      "metadata": {
        "id": "vL9uVQsQZxxX"
      },
      "source": [
        "#**광고 만들기**"
      ]
    },
    {
      "cell_type": "code",
      "metadata": {
        "colab": {
          "base_uri": "https://localhost:8080/"
        },
        "id": "EqniIKc1Z1O2",
        "outputId": "bb9c60cd-b13f-45dd-c3a2-f7e49aca17f0"
      },
      "source": [
        "location = input('어느 지역인가요?')\n",
        "loc_type = input('매물의 종류는 무엇인가요?')\n",
        "dimensions = input('면적은 어떻게 되나요?(평수)')\n",
        "room_nm = input('방의 개수는 몇개인가요?')\n",
        "price = input('가격은 얼마인가요?')\n",
        "print('-' * 50)\n",
        "\n",
        "print(f'''{location}에 위치한 아주 좋은 {loc_type}이(가) 매물로 나왔습니다.\n",
        "이 {loc_type}는 {dimensions}평으로 {room_nm}개의 방을 가지고 있습니다.\n",
        "가격은 {price}만원 입니다.''')"
      ],
      "execution_count": null,
      "outputs": [
        {
          "output_type": "stream",
          "text": [
            "어느 지역인가요?서울\n",
            "매물의 종류는 무엇인가요?아파트\n",
            "면적은 어떻게 되나요?(평수)20\n",
            "방의 개수는 몇개인가요?2\n",
            "가격은 얼마인가요?17억\n",
            "--------------------------------------------------\n",
            "서울에 위치한 아주 좋은 아파트이(가) 매물로 나왔습니다.\n",
            "이 아파트는 20평으로 2개의 방을 가지고 있습니다.\n",
            "가격은 17억만원 입니다.\n"
          ],
          "name": "stdout"
        }
      ]
    },
    {
      "cell_type": "code",
      "metadata": {
        "colab": {
          "base_uri": "https://localhost:8080/"
        },
        "id": "3KdFzOLha0ZG",
        "outputId": "6141a2d5-cd91-4c8a-c6f9-9945946d75d4"
      },
      "source": [
        "nmb_member = input('팀원은 총 몇명인가요?')\n",
        "team_nm = input('팀명은 무엇인가요?')\n",
        "print('-' * 50)\n",
        "\n",
        "print(f'''저희 팀은 총 {nmb_member}명으로 이루어진 {team_nm}팀 입니다!''')"
      ],
      "execution_count": null,
      "outputs": [
        {
          "output_type": "stream",
          "text": [
            "팀원은 총 몇명인가요?7\n",
            "팀명은 무엇인가요?네카라쿠배삼파망\n",
            "--------------------------------------------------\n",
            "저희 팀은 총 7명으로 이루어진 네카라쿠배삼파망팀 입니다!\n"
          ],
          "name": "stdout"
        }
      ]
    },
    {
      "cell_type": "markdown",
      "metadata": {
        "id": "u0XML6j5fZ2R"
      },
      "source": [
        "#**성적계산 프로그램**"
      ]
    },
    {
      "cell_type": "code",
      "metadata": {
        "id": "30ciZhCZdmfy"
      },
      "source": [
        "input('이름을 입력하세요: ')\n",
        "a = int(input('국어성적을 입력하세요: '))\n",
        "b = int(input('영어성적을 입력하세요: '))\n",
        "c = int(input('수학성적을 입력하세요: '))\n",
        "print('-'*50)\n",
        "print(f'평균성적은 {(a + b + c)/3}점입니다.')"
      ],
      "execution_count": null,
      "outputs": []
    },
    {
      "cell_type": "markdown",
      "metadata": {
        "id": "cfUWVl7okTR2"
      },
      "source": [
        "#**커피가게 매출 계산하기**"
      ]
    },
    {
      "cell_type": "code",
      "metadata": {
        "colab": {
          "base_uri": "https://localhost:8080/"
        },
        "id": "iPTYY-93kVbR",
        "outputId": "54427856-f755-47ea-8e35-85686f2b40ab"
      },
      "source": [
        "americano = 2000\n",
        "latte = 3000\n",
        "cappuccino = 3500\n",
        "\n",
        "a = int(input('아메리카노 판매 갯수: '))\n",
        "b = int(input('카페라떼 판매 갯수: '))\n",
        "c = int(input('카푸치노 판매 갯수: '))\n",
        "print('-'*50)\n",
        "print(f'총 매출은 {americano*a + latte*b + cappuccino*c}원입니다.')"
      ],
      "execution_count": null,
      "outputs": [
        {
          "output_type": "stream",
          "text": [
            "아메리카노 판매 갯수: 2\n",
            "카페라떼 판매 갯수: 4\n",
            "카푸치노 판매 갯수: 6\n",
            "--------------------------------------------------\n",
            "총 매출은 37000원입니다.\n"
          ],
          "name": "stdout"
        }
      ]
    },
    {
      "cell_type": "code",
      "metadata": {
        "colab": {
          "base_uri": "https://localhost:8080/"
        },
        "id": "8Z6OoCzLmtq1",
        "outputId": "4434427d-62fc-42a4-e52d-dd91fab015d0"
      },
      "source": [
        "ame = int(input('아메리카노 판매 갯수: '))\n",
        "latte = int(input('카페라떼 판매 갯수: '))\n",
        "chino = int(input('카푸치노 판매 갯수: '))\n",
        "price = (ame*2000) + (latte*3000) + (chino*3500)\n",
        "print('-'*50)\n",
        "print('총 매출은', price, '원입니다.')"
      ],
      "execution_count": null,
      "outputs": [
        {
          "output_type": "stream",
          "text": [
            "아메리카노 판매 갯수: 4\n",
            "카페라떼 판매 갯수: 7\n",
            "카푸치노 판매 갯수: 1\n",
            "--------------------------------------------------\n",
            "총 매출은 32500 원입니다.\n"
          ],
          "name": "stdout"
        }
      ]
    },
    {
      "cell_type": "markdown",
      "metadata": {
        "id": "bErK5UVFn_K5"
      },
      "source": [
        "#**문자로 작성**\n",
        "\\n => 줄넘김,enter <br>\n",
        "\\t => 줄맞춤(intent),tap"
      ]
    },
    {
      "cell_type": "code",
      "metadata": {
        "colab": {
          "base_uri": "https://localhost:8080/"
        },
        "id": "5DzDxuzendbM",
        "outputId": "f4692034-b91b-4395-b9cf-cc8172350745"
      },
      "source": [
        "print('셀 병합 \\n \\t \\'shift key\\'를 누른 후 \\n \\t \\t 병합을 원하는 셀들을 다중선택 후 shift+m')"
      ],
      "execution_count": null,
      "outputs": [
        {
          "output_type": "stream",
          "text": [
            "셀 병합 \n",
            " \t 'shift key'를 누른 후 \n",
            " \t \t 병합을 원하는 셀들을 다중선택 후 shift+m\n"
          ],
          "name": "stdout"
        }
      ]
    },
    {
      "cell_type": "markdown",
      "metadata": {
        "id": "QW61MOSbog9K"
      },
      "source": [
        "#**문자열로서의 숫자처리**\n",
        "주민번호, 우편번호등 값이 0으로 시작되는 정수\n",
        "파이썬에서는 정수가 0으로 시작하면 정수값 입력오류로 문법 오류 처리"
      ]
    },
    {
      "cell_type": "code",
      "metadata": {
        "id": "edSDZuasoxYR"
      },
      "source": [
        "#주민번호\n",
        "print(210101-1111111)\n",
        "print('210101-1111111')"
      ],
      "execution_count": null,
      "outputs": []
    },
    {
      "cell_type": "markdown",
      "metadata": {
        "id": "RwtGtcP8pCBL"
      },
      "source": [
        "#**join과 split**\n",
        "join: 문자열을 원하는 글자로 더한다.<br>\n",
        "split: 문자열을 원하는 글자로 나눈다."
      ]
    },
    {
      "cell_type": "code",
      "metadata": {
        "colab": {
          "base_uri": "https://localhost:8080/"
        },
        "id": "8mg19NKlovna",
        "outputId": "f0484afb-9de0-4334-8fae-9bfa5f5fb5a7"
      },
      "source": [
        "print('-'.join('Hello World'))\n",
        "print('Welcome to Python'.split(' '))"
      ],
      "execution_count": null,
      "outputs": [
        {
          "output_type": "stream",
          "text": [
            "H-e-l-l-o- -W-o-r-l-d\n",
            "['Welcome', 'to', 'Python']\n"
          ],
          "name": "stdout"
        }
      ]
    },
    {
      "cell_type": "code",
      "metadata": {
        "colab": {
          "base_uri": "https://localhost:8080/"
        },
        "id": "7MKZiatephcy",
        "outputId": "4ee44bfd-0681-4773-de2d-ce162efa3b25"
      },
      "source": [
        "a = 8 == 12\n",
        "print(a, type(a))\n",
        "b = 'apple' == 'APPLE'\n",
        "print(b,type(b))\n",
        "c = 8 != 12\n",
        "print(c, type(c))"
      ],
      "execution_count": null,
      "outputs": [
        {
          "output_type": "stream",
          "text": [
            "False <class 'bool'>\n",
            "False <class 'bool'>\n",
            "True <class 'bool'>\n"
          ],
          "name": "stdout"
        }
      ]
    }
  ]
}