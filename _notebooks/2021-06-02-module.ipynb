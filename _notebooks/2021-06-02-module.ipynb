{
  "nbformat": 4,
  "nbformat_minor": 0,
  "metadata": {
    "colab": {
      "name": "2021-06-02-module.ipynb",
      "private_outputs": true,
      "provenance": [],
      "collapsed_sections": [],
      "include_colab_link": true
    },
    "kernelspec": {
      "name": "python3",
      "display_name": "Python 3"
    },
    "language_info": {
      "name": "python"
    }
  },
  "cells": [
    {
      "cell_type": "markdown",
      "metadata": {
        "id": "view-in-github",
        "colab_type": "text"
      },
      "source": [
        "<a href=\"https://colab.research.google.com/github/Engineer-Uni/Engineer-Unilog/blob/master/_notebooks/2021-06-02-module.ipynb\" target=\"_parent\"><img src=\"https://colab.research.google.com/assets/colab-badge.svg\" alt=\"Open In Colab\"/></a>"
      ]
    },
    {
      "cell_type": "markdown",
      "metadata": {
        "id": "y-16dnwsCu4T"
      },
      "source": [
        "# 모듈과 패키지"
      ]
    },
    {
      "cell_type": "markdown",
      "metadata": {
        "id": "pE616aYa6W5q"
      },
      "source": [
        "## 모듈만들기 "
      ]
    },
    {
      "cell_type": "code",
      "metadata": {
        "id": "xk1Tps-x_dmn"
      },
      "source": [
        "from google.colab import drive\n",
        "drive.mount('/content/drive')"
      ],
      "execution_count": null,
      "outputs": []
    },
    {
      "cell_type": "code",
      "metadata": {
        "id": "BowrImEcAIzU"
      },
      "source": [
        "% cd /content/drive/MyDrive/1.sba파이썬교육/colab1"
      ],
      "execution_count": null,
      "outputs": []
    },
    {
      "cell_type": "code",
      "metadata": {
        "id": "BSyHiPpd7t4b"
      },
      "source": [
        "import mycalc\n",
        "p = mycalc.get_plus(2,2)\n",
        "m = mycalc.get_plus(3,2)\n",
        "print(p,m)"
      ],
      "execution_count": null,
      "outputs": []
    },
    {
      "cell_type": "code",
      "metadata": {
        "id": "pqreswtfBO5i"
      },
      "source": [
        "# 모듈 별칭 사용\n",
        "import mycalc as cal \n",
        "p = cal.get_plus(2,2)\n",
        "m = cal.get_minus(3,2)\n",
        "print(p,m)"
      ],
      "execution_count": null,
      "outputs": []
    },
    {
      "cell_type": "code",
      "metadata": {
        "id": "mOtffvCECHpE"
      },
      "source": [
        "# 모듈 함수명만 사용\n",
        "from mycalc import get_plus\n",
        "p = get_plus(2,2)\n",
        "m = cal.get_minus(3,2)\n",
        "print(p,m)"
      ],
      "execution_count": null,
      "outputs": []
    },
    {
      "cell_type": "code",
      "metadata": {
        "id": "DG2pwU09CkA6"
      },
      "source": [
        "# 모듈 함수명만 사용\n",
        "from mycalc import get_plus,get_minus\n",
        "p = get_plus(2,2)\n",
        "m = get_minus(3,2)\n",
        "print(p,m)"
      ],
      "execution_count": null,
      "outputs": []
    },
    {
      "cell_type": "code",
      "metadata": {
        "id": "rY9cYzxlCdEp"
      },
      "source": [
        "# 모듈 함수명만 사용\n",
        "from mycalc import *\n",
        "p = get_plus(2,2)\n",
        "m = get_minus(3,2)\n",
        "print(p,m)"
      ],
      "execution_count": null,
      "outputs": []
    },
    {
      "cell_type": "markdown",
      "metadata": {
        "id": "BYZaBPGaC2Ie"
      },
      "source": [
        "## 패키지"
      ]
    },
    {
      "cell_type": "markdown",
      "metadata": {
        "id": "kfFe1O7gDHbX"
      },
      "source": [
        "패키지(Packages)는 도트(.)를 사용하여 파이썬 모듈을 계층적(디렉터리 구조)으로 관리할 수 있게 해줍니다."
      ]
    },
    {
      "cell_type": "markdown",
      "metadata": {
        "id": "XtW1hXfe3kcW"
      },
      "source": [
        "## 클래스"
      ]
    },
    {
      "cell_type": "markdown",
      "metadata": {
        "id": "hh0_YiA1QP0S"
      },
      "source": [
        "### 클래스의 사용"
      ]
    },
    {
      "cell_type": "code",
      "metadata": {
        "id": "vqEG3J5dzGl6"
      },
      "source": [
        "# 2대의 계산기가 필요한 경우\n",
        "result1 = 0\n",
        "result2 = 0\n",
        "\n",
        "def add1(num):\n",
        "    global result1\n",
        "    result1 += num\n",
        "    return result1\n",
        "\n",
        "def add2(num):\n",
        "    global result2\n",
        "    result2 += num\n",
        "    return result2\n",
        "\n",
        "print(add1(3))\n",
        "print(add1(4))\n",
        "print(add2(3))\n",
        "print(add2(7))"
      ],
      "execution_count": null,
      "outputs": []
    },
    {
      "cell_type": "code",
      "metadata": {
        "id": "SyKvfiCa34qN"
      },
      "source": [
        "# 계산기를 class로 정의\n",
        "class Calculator:\n",
        "    def __init__(self):\n",
        "        self.result = 0\n",
        "\n",
        "    def add(self, num):\n",
        "        self.result += num\n",
        "        return self.result\n",
        "\n",
        "cal1 = Calculator()\n",
        "cal2 = Calculator()\n",
        "\n",
        "print(cal1.add(3))\n",
        "print(cal1.add(4))\n",
        "print(cal2.add(3))\n",
        "print(cal2.add(7))"
      ],
      "execution_count": null,
      "outputs": []
    },
    {
      "cell_type": "code",
      "metadata": {
        "id": "doPNFA7S5YOi"
      },
      "source": [
        "# 계산기를 class로 정의\n",
        "class Calculator:\n",
        "    def __init__(self):\n",
        "        self.result = 0\n",
        "\n",
        "    def add(self, num):\n",
        "        self.result += num\n",
        "        return self.result\n",
        "    def sub(self, num):\n",
        "        self.result -= num\n",
        "        return self.result\n",
        "\n",
        "cal1 = Calculator()\n",
        "cal2 = Calculator()\n",
        "cal3 = Calculator()\n",
        "\n",
        "print(cal1.add(3))\n",
        "print(cal2.add(4))\n",
        "print(cal3.sub(3))\n"
      ],
      "execution_count": null,
      "outputs": []
    },
    {
      "cell_type": "markdown",
      "metadata": {
        "id": "5-XBGICVNWxd"
      },
      "source": [
        "### 자동차 클래스 만들기"
      ]
    },
    {
      "cell_type": "code",
      "metadata": {
        "id": "pX8TjJN1NZnr"
      },
      "source": [
        "# 자동차 객체의 틀\n",
        "class Car:\n",
        "    brand =  ''\n",
        "    model = ''\n",
        "    color = ''\n",
        "    def turn_on(self):\n",
        "        print('시동을 겁니다')\n",
        "    def turn_off(self):\n",
        "        print('시동을 끕니다')\n",
        "    def drive(self):\n",
        "        print('주행중입니다')"
      ],
      "execution_count": null,
      "outputs": []
    },
    {
      "cell_type": "code",
      "metadata": {
        "id": "WEQwxE5YON6v"
      },
      "source": [
        "# 두대의 자동차 객체 생성\n",
        "car1 = Car()\n",
        "car2 = Car()\n",
        "\n",
        "#car1 - 흰색 BMT 3 \n",
        "car1.brand = 'BMW'\n",
        "car1.model = '3'\n",
        "car1.color = 'white'\n",
        "#car2 - 블랙 audi A5 \n",
        "car2.brand = 'audi'\n",
        "car2.model = 'A5'\n",
        "car2.color = 'black'\n"
      ],
      "execution_count": null,
      "outputs": []
    },
    {
      "cell_type": "code",
      "metadata": {
        "id": "F_HNumu7PWRL"
      },
      "source": [
        "car1.turn_on()\n",
        "car2.turn_on()"
      ],
      "execution_count": null,
      "outputs": []
    },
    {
      "cell_type": "markdown",
      "metadata": {
        "id": "2MUjM8gdQWvX"
      },
      "source": [
        "### 객체를 생성시 속성 초기화"
      ]
    },
    {
      "cell_type": "code",
      "metadata": {
        "id": "BrTSpCCAQfV_"
      },
      "source": [
        "class Car:\n",
        "    def __init__(self,brand,model,color):\n",
        "        self.brand = brand\n",
        "        self.model = model\n",
        "        self.color = color\n",
        "        print(brand,model,color,'생성')\n",
        "\n",
        "    def turn_on(self):\n",
        "        print('시동을 겁니다')\n",
        "    def turn_off(self):\n",
        "        print('시동을 끕니다')\n",
        "    def drive(self):\n",
        "        print('주행중입니다')"
      ],
      "execution_count": null,
      "outputs": []
    },
    {
      "cell_type": "code",
      "metadata": {
        "id": "jpdEGmGdRNRK"
      },
      "source": [
        "car1 = Car('BMT','3','white')\n",
        "car2 = Car('audi','A5','black')"
      ],
      "execution_count": null,
      "outputs": []
    },
    {
      "cell_type": "markdown",
      "metadata": {
        "id": "-ZRmRKslRjnx"
      },
      "source": [
        "### 매소드에서 속성 사용하기"
      ]
    },
    {
      "cell_type": "code",
      "metadata": {
        "id": "xN0B3xQXRpsv"
      },
      "source": [
        "class Car:\n",
        "    def __init__(self,brand,model,color):\n",
        "        self.brand = brand\n",
        "        self.model = model\n",
        "        self.color = color\n",
        "        print(brand,model,color,'생성')\n",
        "\n",
        "    def turn_on(self):\n",
        "        print(f'{self.brand} {self.model} 시동을 겁니다')\n",
        "    def turn_off(self):\n",
        "        print(f'{self.brand} {self.model} 시동을 끕니다')\n",
        "    def drive(self):\n",
        "        print(f'{self.brand} {self.model} 주행중입니다')\n"
      ],
      "execution_count": null,
      "outputs": []
    },
    {
      "cell_type": "code",
      "metadata": {
        "id": "-EwhttImSEZi"
      },
      "source": [
        "car1 = Car('BMT','3','white')\n",
        "car2 = Car('audi','A5','black')\n",
        "\n",
        "# car1,car2 기능 수행\n",
        "car1.turn_on()\n",
        "car1.drive()\n",
        "car1.turn_off()\n",
        "\n",
        "car2.turn_on()\n",
        "car2.drive()\n",
        "car2.turn_off()\n"
      ],
      "execution_count": null,
      "outputs": []
    }
  ]
}