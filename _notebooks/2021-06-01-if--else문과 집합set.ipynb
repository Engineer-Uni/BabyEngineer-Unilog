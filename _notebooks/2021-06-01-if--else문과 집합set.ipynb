{
  "nbformat": 4,
  "nbformat_minor": 0,
  "metadata": {
    "colab": {
      "name": "2021-06-01-if/else문과 집합set.ipynb",
      "provenance": [],
      "collapsed_sections": [],
      "toc_visible": true,
      "authorship_tag": "ABX9TyPQV9jVd1pNESqeGURk/urm",
      "include_colab_link": true
    },
    "kernelspec": {
      "name": "python3",
      "display_name": "Python 3"
    },
    "language_info": {
      "name": "python"
    }
  },
  "cells": [
    {
      "cell_type": "markdown",
      "metadata": {
        "id": "view-in-github",
        "colab_type": "text"
      },
      "source": [
        "<a href=\"https://colab.research.google.com/github/Engineer-Uni/Engineer-Unilog/blob/master/_notebooks/2021-06-01-if--else%EB%AC%B8%EA%B3%BC%20%EC%A7%91%ED%95%A9set.ipynb\" target=\"_parent\"><img src=\"https://colab.research.google.com/assets/colab-badge.svg\" alt=\"Open In Colab\"/></a>"
      ]
    },
    {
      "cell_type": "markdown",
      "metadata": {
        "id": "tGfA8lfhoBn8"
      },
      "source": [
        "##**예제) 편의점 재고관리**\n",
        "\n",
        "1. 사용자로부터 물건 이름과 갯수 입력 받기 (엔터를 입력할 때까지 반복)\n",
        "2. 물건이 존재하지 않으면 추가하고, 존재하면 물건 개수를 더한다\n",
        "3. 입력이 끝나면 재고 현황을 물건이름의 오름차순으로 정렬하여 출력"
      ]
    },
    {
      "cell_type": "code",
      "metadata": {
        "colab": {
          "base_uri": "https://localhost:8080/"
        },
        "id": "4ZGnYo56ndsg",
        "outputId": "15c9327a-552f-403e-d1cf-5277f9520a78"
      },
      "source": [
        "stock = {\n",
        "    '수박' : 3,\n",
        "    '딸기' : 3,\n",
        "    '바나나' : 1\n",
        "}\n",
        "#물건: goods / 수량: number\n",
        "while True:\n",
        "    goods = input('물건 이름:')\n",
        "    if goods == '':\n",
        "        break\n",
        "    number = int(input('수량:'))\n",
        "    if goods in stock.keys():\n",
        "        stock[goods] += number #물건 개수 더하기\n",
        "    else:\n",
        "        stock[goods] = number #없으면 요소 추가하기\n",
        "\n",
        "print('-'*50)\n",
        "\n",
        "#오름차순 정렬\n",
        "for key,value in sorted(stock.items()):\n",
        "    print(key, value, end =' ')"
      ],
      "execution_count": null,
      "outputs": [
        {
          "output_type": "stream",
          "text": [
            "물건 이름:바나나\n",
            "수량:3\n",
            "물건 이름:\n",
            "--------------------------------------------------\n",
            "딸기 3 바나나 4 수박 3 "
          ],
          "name": "stdout"
        }
      ]
    },
    {
      "cell_type": "markdown",
      "metadata": {
        "id": "C2In777yvMVc"
      },
      "source": [
        "#**집합(set)**\n",
        "- 자료들이 순서와 중복 없이 저장된 것\n",
        "- 중괄호{} 안에 요소를 쉼표로 구분하여 나열한다.\n",
        "\n"
      ]
    },
    {
      "cell_type": "code",
      "metadata": {
        "colab": {
          "base_uri": "https://localhost:8080/"
        },
        "id": "8UxxPBfUvdvM",
        "outputId": "89c8b743-4802-4398-ed94-97a76847d4a8"
      },
      "source": [
        "set_wish = {'베를린','암스테르담','다합','모로코','포르투','다합'}\n",
        "set_wish = set(['베를린','암스테르담','다합','모로코','포르투','다합']) #set() 명령어는 집합을 만든다\n",
        "print(set_wish)"
      ],
      "execution_count": null,
      "outputs": [
        {
          "output_type": "stream",
          "text": [
            "{'베를린', '포르투', '모로코', '다합', '암스테르담'}\n"
          ],
          "name": "stdout"
        }
      ]
    },
    {
      "cell_type": "markdown",
      "metadata": {
        "id": "3Duz3ZbK2fMp"
      },
      "source": [
        "#**집합 > 요소추출**\n",
        "- 인덱싱으로 값을 얻을 수 없다 (집합 자료형은 순서가 없기 때문!)\n",
        "- 인덱싱 값 사용하려면 리스트나 튜플로 변환"
      ]
    },
    {
      "cell_type": "code",
      "metadata": {
        "id": "YG7BeGS4v1Om",
        "colab": {
          "base_uri": "https://localhost:8080/"
        },
        "outputId": "9c973ed9-ce8d-468b-b370-f03e1b2b5666"
      },
      "source": [
        "set_wish = {'베를린','암스테르담','다합','모로코','포르투','다합'}\n",
        "wish_list = list(set_wish) #리스트로 변환하기\n",
        "print(wish_list)\n",
        "print(wish_list[2])"
      ],
      "execution_count": null,
      "outputs": [
        {
          "output_type": "stream",
          "text": [
            "['베를린', '포르투', '모로코', '다합', '암스테르담']\n",
            "모로코\n"
          ],
          "name": "stdout"
        }
      ]
    },
    {
      "cell_type": "code",
      "metadata": {
        "colab": {
          "base_uri": "https://localhost:8080/"
        },
        "id": "oK6msW9Q27-2",
        "outputId": "b7d74b04-257d-4a22-a1ad-fea9fcf84a8c"
      },
      "source": [
        "set_wish = {'베를린','암스테르담','다합','모로코','포르투','다합'}\n",
        "wish_list = tuple(set_wish) #튜플로 변환하기\n",
        "print(wish_list)\n",
        "print(wish_list[2])"
      ],
      "execution_count": null,
      "outputs": [
        {
          "output_type": "stream",
          "text": [
            "('베를린', '포르투', '모로코', '다합', '암스테르담')\n",
            "모로코\n"
          ],
          "name": "stdout"
        }
      ]
    },
    {
      "cell_type": "markdown",
      "metadata": {
        "id": "9cYZU4Y83-hU"
      },
      "source": [
        "#**집합(set) > 연산**"
      ]
    },
    {
      "cell_type": "code",
      "metadata": {
        "id": "Pd4yKMet4Dw4"
      },
      "source": [
        "sweety = {'빼빼로','칸초','허니버터'}\n",
        "salty = {'허니버터','포카칩','새우깡'}\n",
        "\n",
        "#합집합\n",
        "print(sweety.union(salty))\n",
        "print(sweety|salty)\n",
        "\n",
        "#교집합\n",
        "print(sweety.intersection(salty))\n",
        "print(sweety&salty)\n",
        "\n",
        "# 차집합\n",
        "print(sweety.difference(salty))\n",
        "print(sweety-salty)\n",
        "print(salty.difference(sweety))\n",
        "print(salty-sweety)"
      ],
      "execution_count": null,
      "outputs": []
    },
    {
      "cell_type": "markdown",
      "metadata": {
        "id": "TbDrDLaV4_Tc"
      },
      "source": [
        "#**집합(set) > 요소추가**"
      ]
    },
    {
      "cell_type": "code",
      "metadata": {
        "colab": {
          "base_uri": "https://localhost:8080/"
        },
        "id": "edN-7zVX5Dbc",
        "outputId": "558831bd-bcaf-489a-fe2b-76bac5a719fa"
      },
      "source": [
        "# 집합명.add(요소)\n",
        "set_wish = {'베를린','암스테르담','다합','모로코','포르투','다합'}\n",
        "set_wish.add('베를린')\n",
        "print(set_wish)"
      ],
      "execution_count": null,
      "outputs": [
        {
          "output_type": "stream",
          "text": [
            "{'베를린', '포르투', '모로코', '다합', '암스테르담'}\n"
          ],
          "name": "stdout"
        }
      ]
    },
    {
      "cell_type": "code",
      "metadata": {
        "colab": {
          "base_uri": "https://localhost:8080/"
        },
        "id": "ZMyL0Mff5Nk2",
        "outputId": "7519f4da-9b96-4138-f7b6-e2ec7bd0ec42"
      },
      "source": [
        "# 집합명.update([리스트])\n",
        "set_wish = {'베를린','암스테르담','다합','모로코','포르투','다합'}\n",
        "set_wish.update(['베를린','다합'])\n",
        "print(set_wish)"
      ],
      "execution_count": null,
      "outputs": [
        {
          "output_type": "stream",
          "text": [
            "{'베를린', '포르투', '모로코', '다합', '암스테르담'}\n"
          ],
          "name": "stdout"
        }
      ]
    },
    {
      "cell_type": "markdown",
      "metadata": {
        "id": "AKpBkCoB5ekY"
      },
      "source": [
        "#**집합(set) > 요소 삭제**"
      ]
    },
    {
      "cell_type": "code",
      "metadata": {
        "colab": {
          "base_uri": "https://localhost:8080/"
        },
        "id": "r7l0joCu5h4v",
        "outputId": "525fd077-ff83-4bff-eecb-4a8d76ab21c8"
      },
      "source": [
        "# 집합명.remove(요소)\n",
        "set_wish = {'베를린','암스테르담','다합','모로코','포르투','다합'}\n",
        "\n",
        "set_wish.remove('암스테르담') \n",
        "#암스테르담 삭제하기\n",
        "\n",
        "print(set_wish)"
      ],
      "execution_count": null,
      "outputs": [
        {
          "output_type": "stream",
          "text": [
            "{'베를린', '포르투', '모로코', '다합'}\n"
          ],
          "name": "stdout"
        }
      ]
    },
    {
      "cell_type": "code",
      "metadata": {
        "colab": {
          "base_uri": "https://localhost:8080/"
        },
        "id": "HTLeUzi_5tMQ",
        "outputId": "d92c5e8b-dd24-437b-b6fa-33e8e78a90fa"
      },
      "source": [
        "#없는 요소를 바로 삭제하려고 하면 Keyerror 가 난다\n",
        "set_wish = {'베를린','암스테르담','다합','모로코','포르투','다합'}\n",
        "\n",
        "# set_wish.remove('바르셀로나') \n",
        "\n",
        "if '바르셀로나' in list(set_wish):\n",
        "    set_wish.remove('바르셀로나')\n",
        "\n",
        "print(set_wish)"
      ],
      "execution_count": null,
      "outputs": [
        {
          "output_type": "stream",
          "text": [
            "{'베를린', '포르투', '모로코', '다합', '암스테르담'}\n"
          ],
          "name": "stdout"
        }
      ]
    },
    {
      "cell_type": "markdown",
      "metadata": {
        "id": "AgjGszn37Fcn"
      },
      "source": [
        "#**오류메세지 해석**\n",
        "- NameError : 참조변수 없음 (변수가 정의되어있지 않음)\n",
        "\n",
        "- SyntaxError : 문법이 잘못되었음 (오타, 괄호를 제대로 닫지 않았을 때, 콜론(:)을 잘못 사용했을 때 등...) \n",
        "\n",
        "- TypeError : 문자열 타입이 맞지 않음\n",
        "\n",
        "- ZeroDivisionError : 0으로 나눌 수 없음\n",
        "\n",
        "- IndentationError : 0으로 나눌 수 없음\n",
        "\n",
        "- KeyError : 리스트, 튜플, 딕셔너리, 집합 등에서 해당 요소 없음"
      ]
    },
    {
      "cell_type": "markdown",
      "metadata": {
        "id": "FcxJvYrM85mk"
      },
      "source": [
        "#**프로그램의 3가지 기본 제어 구조**\n",
        "- 순차구조\n",
        "- 선택구조 : 조건에 따라 명령을 선택하여 실행하는 구조 \n",
        "<br>Ex) if문\n",
        "- 반복구조 : 동일한 명령이 반복되면서 실행되는 구조 \n",
        "<br>Ex) for문(범위) / while문(해당조건 충족)"
      ]
    },
    {
      "cell_type": "markdown",
      "metadata": {
        "id": "Gle56At6-AJ1"
      },
      "source": [
        "#**조건문(if문)의 구조들**\n",
        "- if\n",
        "- if ~ else\n",
        "- if ~ elif\n",
        "- if elif ~ else\n",
        "- 중첩 if"
      ]
    },
    {
      "cell_type": "markdown",
      "metadata": {
        "id": "Ylg6W8wSBZWV"
      },
      "source": [
        "#**코드블럭**\n"
      ]
    },
    {
      "cell_type": "code",
      "metadata": {
        "colab": {
          "base_uri": "https://localhost:8080/"
        },
        "id": "Cg5WvV1sCLBn",
        "outputId": "c8c0b196-0eef-4623-afe4-5c6788e1ded4"
      },
      "source": [
        "a = 1\n",
        "if a < 0:\n",
        "    print('a는 0보다 작다.')\n",
        "    print('a는 음수이다.')\n",
        "print('끝') "
      ],
      "execution_count": null,
      "outputs": [
        {
          "output_type": "stream",
          "text": [
            "끝\n"
          ],
          "name": "stdout"
        }
      ]
    },
    {
      "cell_type": "code",
      "metadata": {
        "colab": {
          "base_uri": "https://localhost:8080/"
        },
        "id": "gaGwTTq1CX-h",
        "outputId": "6f288253-e5a9-42d4-b794-55b09788e6e3"
      },
      "source": [
        "a = 1\n",
        "if a < 0:\n",
        "    print('a는 0보다 작다.')\n",
        "print('a는 음수이다.')\n",
        "print('끝') "
      ],
      "execution_count": null,
      "outputs": [
        {
          "output_type": "stream",
          "text": [
            "a는 음수이다.\n",
            "끝\n"
          ],
          "name": "stdout"
        }
      ]
    },
    {
      "cell_type": "code",
      "metadata": {
        "id": "dhU0H2xFCa4I"
      },
      "source": [
        "# if else"
      ],
      "execution_count": null,
      "outputs": []
    },
    {
      "cell_type": "markdown",
      "metadata": {
        "id": "2bQlpBk2DsLX"
      },
      "source": [
        "#**코로나 자가진단 프로그램 1단계**\n",
        "1. 체온을 입력받아 \n",
        "2. 체온이 37.5도 초과면 \n",
        "3. '등교 불가'를 출력하는 프로그램을 작성하세요"
      ]
    },
    {
      "cell_type": "code",
      "metadata": {
        "colab": {
          "base_uri": "https://localhost:8080/"
        },
        "id": "Ep-AmvJ3D53T",
        "outputId": "09c6e2fd-b6a3-4716-b7e6-9c5e2a1be631"
      },
      "source": [
        "temp = float(input('체온:'))\n",
        "if temp > 37.5:\n",
        "    print('등교 불가')"
      ],
      "execution_count": null,
      "outputs": [
        {
          "output_type": "stream",
          "text": [
            "체온:36.5\n"
          ],
          "name": "stdout"
        }
      ]
    },
    {
      "cell_type": "markdown",
      "metadata": {
        "id": "IFoDN307EKe5"
      },
      "source": [
        "#**코로나 자가진단 프로그램 2단계**\n",
        "1. 체온, 검사결과대기여부, 자가격리여부를 입력받아 \n",
        "2. 체온이 37.5도 초과면  '발열기준 초과: 등교불가'를 출력합니다.\n",
        "3. 아니고, 만약 검사대기여부가 'Y'면 '검사대기 중 등교 불가'를 출력\n",
        "4. 아니고, 만약 자가격리여부가 'Y'면 '자가격리 중 등교 불가'를 출력\n",
        "5. 모든 조건이 만족하지 않는다면 '등교가능'을 출력합니다."
      ]
    },
    {
      "cell_type": "code",
      "metadata": {
        "colab": {
          "base_uri": "https://localhost:8080/"
        },
        "id": "bNffXoVQEHeF",
        "outputId": "3e17c832-5d24-4452-f018-16f296de182a"
      },
      "source": [
        "temp = float(input('체온:'))\n",
        "waiting = input('검사결과대기여부(Y/N):')\n",
        "isolation = input('자가격리여부(Y/N):')\n",
        "\n",
        "if temp > 37.5:\n",
        "    print('발열기준 초과: 등교불가')\n",
        "elif waiting == 'Y':\n",
        "    print('검사대기 중 등교 불가')\n",
        "elif isolation == 'Y':\n",
        "    print('자가격리 중 등교 불가')\n",
        "else:\n",
        "    print('등교 가능')"
      ],
      "execution_count": null,
      "outputs": [
        {
          "output_type": "stream",
          "text": [
            "체온:37\n",
            "검사결과대기여부(Y/N):Y\n",
            "자가격리여부(Y/N):N\n",
            "검사대기 중 등교 불가\n"
          ],
          "name": "stdout"
        }
      ]
    },
    {
      "cell_type": "markdown",
      "metadata": {
        "id": "ahJ7XduEIGG4"
      },
      "source": [
        "#**예제) 학점 출력기**"
      ]
    },
    {
      "cell_type": "code",
      "metadata": {
        "colab": {
          "base_uri": "https://localhost:8080/"
        },
        "id": "5vWQoTWbFVbK",
        "outputId": "131cacd2-d5da-4782-a8ab-5c9b9c2b7b33"
      },
      "source": [
        "grade = ' '\n",
        "score = int(input('점수를 입력하세요:'))\n",
        "\n",
        "if score >= 90:\n",
        "    print('A')\n",
        "elif score >= 80:\n",
        "    print('B')\n",
        "elif score >= 70:\n",
        "    print('C')\n",
        "elif score >= 60:\n",
        "    print('D')\n",
        "else:\n",
        "    print('F')\n",
        "\n",
        "print(f'등급: {grade}')"
      ],
      "execution_count": null,
      "outputs": [
        {
          "output_type": "stream",
          "text": [
            "점수를 입력하세요:88\n",
            "B\n",
            "등급:  \n"
          ],
          "name": "stdout"
        }
      ]
    },
    {
      "cell_type": "markdown",
      "metadata": {
        "id": "yWqwMhYsIJK_"
      },
      "source": [
        "#**예제) 금액에 따른 할인율 계산기**\n",
        "1. 물건 구매가를 입력받고,\n",
        "2. 금액에 따른 할인율을 계산하여\n",
        "3. 구매가, 할인율, 할인금액, 지불금액을 출력"
      ]
    },
    {
      "cell_type": "code",
      "metadata": {
        "colab": {
          "base_uri": "https://localhost:8080/"
        },
        "id": "AeWr0p4AHKrM",
        "outputId": "a1444113-bbe2-4c4e-8662-7cc4fddfb381"
      },
      "source": [
        "buy = int(input('구매가:'))\n",
        "\n",
        "if buy >= 100000: #가장 범위가 작은 조건부터 써준다\n",
        "    dc_percent = 10\n",
        "elif buy >= 50000:\n",
        "    dc_percent = 7.5\n",
        "elif buy >= 10000:\n",
        "    dc_percent = 5\n",
        "else:\n",
        "    dc_percent = 0\n",
        "\n",
        "dc_price = buy*(dc_percent/100)\n",
        "\n",
        "print('-'*50)\n",
        "print(f'구매가: {buy}원')\n",
        "print(f'할인율: {dc_percent}%')\n",
        "print(f'할인금액: {int(dc_price)}원')\n",
        "print(f'지불금액: {int(buy-dc_price)}원')"
      ],
      "execution_count": null,
      "outputs": [
        {
          "output_type": "stream",
          "text": [
            "구매가:360000\n",
            "--------------------------------------------------\n",
            "구매가: 360000원\n",
            "할인율: 10%\n",
            "할인금액: 18000원\n",
            "지불금액: 342000원\n"
          ],
          "name": "stdout"
        }
      ]
    },
    {
      "cell_type": "markdown",
      "metadata": {
        "id": "AuYbHEIDO-jv"
      },
      "source": [
        "#**예제) 최소값 구하기(1/3)**\n",
        "1. 3개의 수를 입력받아\n",
        "2. 가장 작은 수를 출력하세요"
      ]
    },
    {
      "cell_type": "code",
      "metadata": {
        "colab": {
          "base_uri": "https://localhost:8080/"
        },
        "id": "HlINJpX6Ji3c",
        "outputId": "226d2239-dcc4-4aa3-9f25-0d370227bdee"
      },
      "source": [
        "numbers = []\n",
        "\n",
        "for numbers in range(0,3):\n",
        "    numbers = input('숫자를 입력하세요: ')\n",
        "print('-'*50)\n",
        "\n",
        "min_1 = numbers[0] #첫번째 수를 임의로 저장\n",
        "if min_1 > numbers[1]:\n",
        "    min_1 = numbers[1]\n",
        "    if min_1 > number[2]:\n",
        "        min_1 = number[2]\n",
        "\n",
        "print(int(min_1))"
      ],
      "execution_count": null,
      "outputs": [
        {
          "output_type": "stream",
          "text": [
            "숫자를 입력하세요: 25\n",
            "숫자를 입력하세요: 26\n",
            "숫자를 입력하세요: 27\n",
            "--------------------------------------------------\n",
            "2\n"
          ],
          "name": "stdout"
        }
      ]
    },
    {
      "cell_type": "code",
      "metadata": {
        "colab": {
          "base_uri": "https://localhost:8080/"
        },
        "id": "HjcoKx3wQbJC",
        "outputId": "99d61955-80d8-4b4f-b993-adfd80d194fd"
      },
      "source": [
        "numbers = []\n",
        "\n",
        "for i in range(0,3):\n",
        "    numbers.append(int(input('숫자를 입력하세요: ')))\n",
        "print('-'*50)\n",
        "\n",
        "min_n = min(numbers)\n",
        "\n",
        "print('가장 작은수:',min_n)"
      ],
      "execution_count": null,
      "outputs": [
        {
          "output_type": "stream",
          "text": [
            "숫자를 입력하세요: 2\n",
            "숫자를 입력하세요: 3\n",
            "숫자를 입력하세요: 1\n",
            "--------------------------------------------------\n",
            "가장 작은수: 1\n"
          ],
          "name": "stdout"
        }
      ]
    },
    {
      "cell_type": "markdown",
      "metadata": {
        "id": "PsHggHLIR1Ba"
      },
      "source": [
        "#**논리연산자**\n",
        "- 논리연산자를 사용하여 여러 개의 조건을 조합하여 복잡한 조건식을 만들 수 있다.\n",
        "1. a and b\n",
        "2. a or b\n",
        "3. not a, not b"
      ]
    },
    {
      "cell_type": "markdown",
      "metadata": {
        "id": "LCAqGBe8TY97"
      },
      "source": [
        "# 논리 연산자(Logical operator)\n",
        "# and, or, not\n",
        "- print(True and True)\n",
        "- print(True and False)\n",
        "- print(False and True)\n",
        "- print(False and False)\n",
        "- print()\n",
        "- print(True or True)\n",
        "- print(True or False)\n",
        "- print(False or True)\n",
        "- print(False or False)\n",
        "- print()\n",
        "- print(not True)\n",
        "- print(not False)"
      ]
    },
    {
      "cell_type": "markdown",
      "metadata": {
        "id": "D78Y__P6Ti9j"
      },
      "source": [
        "#**논리 연산자**"
      ]
    },
    {
      "cell_type": "code",
      "metadata": {
        "colab": {
          "base_uri": "https://localhost:8080/"
        },
        "id": "Hcml_YfXRMja",
        "outputId": "1d810400-cc29-468d-c9d7-de676e954e6e"
      },
      "source": [
        "1 in [1,2.3]"
      ],
      "execution_count": null,
      "outputs": [
        {
          "output_type": "execute_result",
          "data": {
            "text/plain": [
              "True"
            ]
          },
          "metadata": {
            "tags": []
          },
          "execution_count": 83
        }
      ]
    },
    {
      "cell_type": "code",
      "metadata": {
        "colab": {
          "base_uri": "https://localhost:8080/"
        },
        "id": "oKiy0Y10TpvB",
        "outputId": "709e312e-f932-4dc8-acb9-47130d1e1b39"
      },
      "source": [
        "'a' in ('a','b','c')"
      ],
      "execution_count": null,
      "outputs": [
        {
          "output_type": "execute_result",
          "data": {
            "text/plain": [
              "True"
            ]
          },
          "metadata": {
            "tags": []
          },
          "execution_count": 84
        }
      ]
    },
    {
      "cell_type": "code",
      "metadata": {
        "colab": {
          "base_uri": "https://localhost:8080/"
        },
        "id": "jY1Tr5TCTtMf",
        "outputId": "1add7086-d777-4401-e8ac-d283ee02caa0"
      },
      "source": [
        "'j' not in ('python')"
      ],
      "execution_count": null,
      "outputs": [
        {
          "output_type": "execute_result",
          "data": {
            "text/plain": [
              "True"
            ]
          },
          "metadata": {
            "tags": []
          },
          "execution_count": 86
        }
      ]
    },
    {
      "cell_type": "markdown",
      "metadata": {
        "id": "ColvwInKTx5L"
      },
      "source": [
        "#**예제) 국립공원 입장료 계산기**\n",
        "1. 나이를 입력받아 국립공원 입장권 발급하기\n",
        "2. 입장료는 3000\n",
        "3. 나이가 65세 이상이거나 7세 이하인 경우에는 무료\n",
        "4. 나이 8~ 18세는 청소년 요금이 1000원"
      ]
    },
    {
      "cell_type": "code",
      "metadata": {
        "colab": {
          "base_uri": "https://localhost:8080/"
        },
        "id": "cobmFCEJTvlr",
        "outputId": "08eac696-251a-4b22-88cb-bc2a6b8a0f95"
      },
      "source": [
        "age = int(input('나이: '))\n",
        "price = 3000\n",
        "\n",
        "if age >= 65 or age <= 7: # 3번 조건\n",
        "    price = '무료'\n",
        "elif 7 < age < 19: # 4번 조건\n",
        "    price = 1000\n",
        "print('-'*50)\n",
        "print(f'입장료는 {price}입니다.')"
      ],
      "execution_count": null,
      "outputs": [
        {
          "output_type": "stream",
          "text": [
            "나이: 16\n",
            "--------------------------------------------------\n",
            "입장료는 1000입니다.\n"
          ],
          "name": "stdout"
        }
      ]
    },
    {
      "cell_type": "markdown",
      "metadata": {
        "id": "xEyVoC6AWLxh"
      },
      "source": [
        "#**예제) 로그인 프로그램(1/2)**\n",
        "1. 사용자로부터 아이디/패스워드를 받아서\n",
        "2. 프로그램에 저장된 아이디/패스워드와 일치하는지 여부 검사하여\n",
        "3. 로그인/로그인 실패를 출력하는 프로그램\n",
        "\n",
        "- 아이디:ID1234\n",
        "- 패스워드:PWD1234"
      ]
    },
    {
      "cell_type": "code",
      "metadata": {
        "colab": {
          "base_uri": "https://localhost:8080/"
        },
        "id": "mnQWR5OJUfSM",
        "outputId": "2146aa10-1daf-48b3-e094-69cfd2f985b0"
      },
      "source": [
        "id = 'ID1234'\n",
        "pw = 'PWD1234'\n",
        "\n",
        "given_id = input('아이디: ')\n",
        "given_pw = input('비밀번호: ')\n",
        "\n",
        "if given_id == id and given_pw == pw:\n",
        "    print('로그인 성공')\n",
        "else:\n",
        "    print('로그인 실패')"
      ],
      "execution_count": null,
      "outputs": [
        {
          "output_type": "stream",
          "text": [
            "아이디: ID1234\n",
            "비밀번호: PWD1234\n",
            "로그인 성공\n"
          ],
          "name": "stdout"
        }
      ]
    },
    {
      "cell_type": "code",
      "metadata": {
        "colab": {
          "base_uri": "https://localhost:8080/"
        },
        "id": "A4zygnIPXNTR",
        "outputId": "ff8cdd25-7908-412f-a557-a001789cef83"
      },
      "source": [
        "id = 'ID1234'\n",
        "pw = 'PWD1234'\n",
        "\n",
        "given_id = input('아이디: ')\n",
        "given_pw = input('비밀번호: ')\n",
        "\n",
        "if not given_id == id:\n",
        "    print('아이디를 확인해주세요')\n",
        "elif not given_pw == pw:\n",
        "    print('패스워드를 확인해주세요')  \n",
        "elif given_id == id and given_pw == pw:\n",
        "    print('로그인 성공')"
      ],
      "execution_count": null,
      "outputs": [
        {
          "output_type": "stream",
          "text": [
            "아이디: ID1234\n",
            "비밀번호: PWD123\n",
            "패스워드를 확인해주세요\n"
          ],
          "name": "stdout"
        }
      ]
    },
    {
      "cell_type": "markdown",
      "metadata": {
        "id": "tA7ZGM4qYfiP"
      },
      "source": [
        "#**사칙연산 프로그램**\n",
        "두 수와 사칙연산기호를 입력받아 연산 기호에 따라 연산 결과를 출력"
      ]
    },
    {
      "cell_type": "code",
      "metadata": {
        "colab": {
          "base_uri": "https://localhost:8080/"
        },
        "id": "_9TXycxhYapi",
        "outputId": "faea4c9d-9475-41fb-bd4f-2f86ef8282b4"
      },
      "source": [
        "cal = []\n",
        "for i in range(2):\n",
        "    cal.append(int(input('숫자를 입력하세요: ')))\n",
        "\n",
        "sign = input('연산을 입력하세요: ')\n",
        "answer = float()\n",
        "\n",
        "if sign == '+':\n",
        "    answer = cal[0]+cal[1]\n",
        "elif sign == '-':\n",
        "    answer = cal[0]-cal[1]\n",
        "elif sign == '*':\n",
        "    answer = cal[0]*cal[1]\n",
        "elif sign == '/':\n",
        "    if cal[2] != 0:\n",
        "        answer = cal[0]/cal[1]\n",
        "    else:\n",
        "        print('0으로 나눌 수 없습니다.')\n",
        "print('-'*50)\n",
        "print(f'{cal[0]}{sign}{cal[1]} = {answer}')"
      ],
      "execution_count": null,
      "outputs": [
        {
          "output_type": "stream",
          "text": [
            "숫자를 입력하세요: 2\n",
            "숫자를 입력하세요: 2\n",
            "연산을 입력하세요: -\n",
            "--------------------------------------------------\n",
            "2-2 = 0\n"
          ],
          "name": "stdout"
        }
      ]
    },
    {
      "cell_type": "markdown",
      "metadata": {
        "id": "AzcELib2fWLE"
      },
      "source": [
        "#**예제) 주사위 던지기 게임**\n",
        "두개의 주사위를 던져 더 큰 수가 나오는 사람이 이기는 게임"
      ]
    },
    {
      "cell_type": "code",
      "metadata": {
        "colab": {
          "base_uri": "https://localhost:8080/"
        },
        "id": "jGdThTc7ZvJW",
        "outputId": "2a9d6ada-c9a2-422e-d2ee-6823149dca94"
      },
      "source": [
        "import random\n",
        "dice_1 = random.randint(0,5)\n",
        "dice_2 = random.randint(0,5)\n",
        "\n",
        "if dice_1 > dice_2:\n",
        "    print(f'{dice_1+1}:{dice_2+1}의 결과로 첫번째 주사위가 이겼습니다')\n",
        "elif dice_1 == dice_2:\n",
        "    print(f'{dice_1+1}:{dice_2+1}의 결과로 비겼습니다')\n",
        "elif dice_1 < dice_2:\n",
        "    print(f'{dice_1+1}:{dice_2+1}의 결과로 두번째 주사위가 이겼습니다')   "
      ],
      "execution_count": null,
      "outputs": [
        {
          "output_type": "stream",
          "text": [
            "2:5의 결과로 두번째 주사위가 이겼습니다\n"
          ],
          "name": "stdout"
        }
      ]
    }
  ]
}