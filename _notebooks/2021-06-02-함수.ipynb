{
  "nbformat": 4,
  "nbformat_minor": 0,
  "metadata": {
    "colab": {
      "name": "2021-06-02-함수.ipynb",
      "private_outputs": true,
      "provenance": [],
      "collapsed_sections": [],
      "toc_visible": true,
      "include_colab_link": true
    },
    "kernelspec": {
      "name": "python3",
      "display_name": "Python 3"
    },
    "language_info": {
      "name": "python"
    }
  },
  "cells": [
    {
      "cell_type": "markdown",
      "metadata": {
        "id": "view-in-github",
        "colab_type": "text"
      },
      "source": [
        "<a href=\"https://colab.research.google.com/github/Engineer-Uni/Engineer-Unilog/blob/master/_notebooks/2021-06-02-%ED%95%A8%EC%88%98.ipynb\" target=\"_parent\"><img src=\"https://colab.research.google.com/assets/colab-badge.svg\" alt=\"Open In Colab\"/></a>"
      ]
    },
    {
      "cell_type": "markdown",
      "metadata": {
        "id": "RrDGbS6PW8jO"
      },
      "source": [
        "# 함수"
      ]
    },
    {
      "cell_type": "code",
      "metadata": {
        "id": "uZgb2i758fiw"
      },
      "source": [
        "# 내장함수\n",
        "dir(__builtins__)"
      ],
      "execution_count": null,
      "outputs": []
    },
    {
      "cell_type": "markdown",
      "metadata": {
        "id": "a5iZeEh3Lgp1"
      },
      "source": [
        "### import 모듈 가져 오기 \n",
        "\n",
        "> 파이썬에서는 다양한 분야의 처리를 위한 기능을 제공합니다.  \n",
        " \n",
        "\n",
        "모듈 import 방법 \n",
        "``` \n",
        "import 모듈명 # 모듈 불러오기\n",
        "import 모듈명 as 별칭 # 별칭으로 모듈 불러오기\n",
        "from 패키지명 import 모듈명  # 원하는 모듈만 특정해서 불러오기\n",
        "from 모듈명 import 함수명  # 원하는 함수만 특정해서 불러오기\n",
        "``` "
      ]
    },
    {
      "cell_type": "markdown",
      "metadata": {
        "id": "6yNlGxCMLHST"
      },
      "source": [
        "### 캘린더 기능   \n",
        "month(): 함수에 인수로 년,월을 입력하여 호출하면 캘린더 데이터(문자열)반환  \n",
        "isleap(): 함수에 인수로 년도를 입력하면 bol을 반환"
      ]
    },
    {
      "cell_type": "code",
      "metadata": {
        "id": "q0CW7kAfWxk_"
      },
      "source": [
        "# 모듈명 불러오기\n",
        "import random\n",
        "list_data = [1,2,3,4,5]\n",
        "random.choice(list_data)"
      ],
      "execution_count": null,
      "outputs": []
    },
    {
      "cell_type": "code",
      "metadata": {
        "id": "bRyufH9i9jmM"
      },
      "source": [
        "# 패키지명으로 불러오기\n",
        "from random import choice\n",
        "list_data = [1,2,3,4,5]\n",
        "choice(list_data)"
      ],
      "execution_count": null,
      "outputs": []
    },
    {
      "cell_type": "code",
      "metadata": {
        "id": "td1yqMRGvGDm"
      },
      "source": [
        "# 모듈명 불러오기\n",
        "import calendar  # calendar 모듈 import\n",
        "print(calendar.month(2021,5)) # 달력 년월을 지정 출력"
      ],
      "execution_count": null,
      "outputs": []
    },
    {
      "cell_type": "code",
      "metadata": {
        "id": "-sGBAeEq9zVM"
      },
      "source": [
        "# 패키지명으로 불러오기\n",
        "from calendar import month # calendar 모듈 import\n",
        "print(month(2021,5)) # 달력 년월을 지정 출력"
      ],
      "execution_count": null,
      "outputs": []
    },
    {
      "cell_type": "markdown",
      "metadata": {
        "id": "NumBqlj6bCmO"
      },
      "source": [
        "* 경과한 날짜 수 확인 :\n",
        "임의의 날짜에서 다른 임의의 날짜까지의 경과일 계산"
      ]
    },
    {
      "cell_type": "code",
      "metadata": {
        "id": "xiLs2fuSbTKs"
      },
      "source": [
        "# 며칠 살았니?\n",
        "import datetime \n",
        "\n",
        "date1 = datetime.date.today()\n",
        "date2 = datetime.date(1995,3,6)\n",
        "print(date1-date2)"
      ],
      "execution_count": null,
      "outputs": []
    },
    {
      "cell_type": "markdown",
      "metadata": {
        "id": "AZy4-tzy_CYW"
      },
      "source": [
        "### 랜덤 기능   \n"
      ]
    },
    {
      "cell_type": "code",
      "metadata": {
        "id": "7aaqHnBRjMfa"
      },
      "source": [
        "import random\n",
        "a = random.random() # Random float x, 0.0 <= x < 1.0\n",
        "\n",
        "#2개의 숫자 사이의 랜덤 실수를 리턴합니다.\n",
        "b = random.uniform(1, 10) # Random float x, 1.0 <= x < 10.0\n",
        "\n",
        "\n",
        "#2개의 숫자 사이의 랜덤 정수를 리턴합니다. (2번째 인자로 넘어온 정수도 범위에 포함시킴)\n",
        "c =random.randint(1, 10) # Integer from 1 to 10, endpoints included\n",
        "\n",
        "\n",
        "#range(start, stop, step) 함수로 만들어지는 정수 중에 하나를 랜덤하게 리턴합니다.\n",
        "d=random.randrange(0, 101, 2)  # Even integer from 0 to 100\n",
        "\n",
        "#choice() 함수 랜덤하게 하나의 원소를 선택합니다.\n",
        "e = random.choice('abcdefghij') # Choose a random element \n",
        "f = random.choice(['가위','바위','보'])\n",
        "\n",
        "print(a,b,c,d,e,f,g)\n",
        "\n",
        "\n",
        "#shuffle() 무작위 섞기 (노래 랜덤 재생)\n",
        "# g = random.shuffle(['아이유', '적재', '볼빨간 사춘기']) #오류\n",
        "musician = ['아이유', '적재', '볼빨간 사춘기','이적']\n",
        "random.shuffle(musician)\n",
        "\n",
        "print(musician)"
      ],
      "execution_count": null,
      "outputs": []
    },
    {
      "cell_type": "markdown",
      "metadata": {
        "id": "-dKMi79WdAYG"
      },
      "source": [
        "## 함수정의 "
      ]
    },
    {
      "cell_type": "markdown",
      "metadata": {
        "id": "6_1-epGfJvIb"
      },
      "source": [
        "#### 파이썬에서 함수 구현\n",
        "* 함수 정의 키워드 def()\n",
        "       def 함수명(매개변수);\n",
        "              함수가 수행할 일\n",
        "              return 함수가 반환할 객체"
      ]
    },
    {
      "cell_type": "code",
      "metadata": {
        "id": "hmD6GiLJc2-6"
      },
      "source": [
        "def say_hello():\n",
        "    print('안녕하세요!!')\n",
        "    print('파이썬의 세계에 오신 것을 환영합니다.')\n",
        "    print('즐거운 시간 되세요!!')\n",
        "\n",
        "say_hello()\n",
        "\n",
        "for i in range(3):\n",
        "    say_hello()"
      ],
      "execution_count": null,
      "outputs": []
    },
    {
      "cell_type": "code",
      "metadata": {
        "id": "va2TpguUdyNy"
      },
      "source": [
        "#인수전달\n",
        "def say_hello(name):\n",
        "    print(f'안녕하세요, {name}님!!')\n",
        "    print('파이썬의 세계에 오신 것을 환영합니다.')\n",
        "    print('즐거운 시간 되세요!!')\n",
        "say_hello('윤희')"
      ],
      "execution_count": null,
      "outputs": []
    },
    {
      "cell_type": "code",
      "metadata": {
        "id": "bOVH-Zh0eNZw"
      },
      "source": [
        "# 원의 넓이\n",
        "\n",
        "def circle_area(radius):\n",
        "    area = 3.14 * radius ** 2\n",
        "    return area\n",
        "\n",
        "# 3개의 반지름 값을 입력받아 원 넓이의 합계를 구해보자\n",
        "a =[]\n",
        "for i in range(3):\n",
        "    radius = int(input('반지름: '))\n",
        "    a.append(circle_area(radius))\n",
        "\n",
        "print(sum(a))"
      ],
      "execution_count": null,
      "outputs": []
    },
    {
      "cell_type": "code",
      "metadata": {
        "id": "57C0dPOIerjK"
      },
      "source": [
        "# 두수를 더하여 반환\n",
        "def get_plus(num1,num2):\n",
        "    result = num1 + num2\n",
        "    return result\n",
        "    \n",
        "get_plus(1,2)"
      ],
      "execution_count": null,
      "outputs": []
    },
    {
      "cell_type": "code",
      "metadata": {
        "id": "zbrF9LeufIlU"
      },
      "source": [
        "# 두 수의 사칙연산\n",
        "def get_plus_minus_multiply_divide(num1,num2):\n",
        "    plus = num1 + num2\n",
        "    minus = num1 - num2\n",
        "    multiply = num1 * num2\n",
        "\n",
        "    if num2 == 0: #두번째 수가 0인 경우 체크하자\n",
        "        divide = '0으로는 나눌 수 없습니다. 다른 수를 입력하세요.'\n",
        "    else:\n",
        "        divide = num1 / num2\n",
        "    return   plus,minus,multiply,divide #divide는 가능할 때만 리턴한다\n",
        "\n",
        "get_plus_minus_multiply_divide(1,0)"
      ],
      "execution_count": null,
      "outputs": []
    },
    {
      "cell_type": "markdown",
      "metadata": {
        "id": "R7ZD9UlRhRkN"
      },
      "source": [
        "###지역변수, 전역변수"
      ]
    },
    {
      "cell_type": "code",
      "metadata": {
        "id": "-o_7NUHOgqN4"
      },
      "source": [
        "# 지역변수\n",
        "# 함수내 변수를 밖에서 사용 못함\n",
        "def get_plus_minus(num1,num2):\n",
        "    plus = num1 + num2\n",
        "    minus = num1 - num2\n",
        "    return plus,minus\n",
        "\n",
        "# get_plus_minus(1,2)\n",
        "\n",
        "print(plus,minus) #함수내 변수를 밖에서 쓰려고 해서 오류남"
      ],
      "execution_count": null,
      "outputs": []
    },
    {
      "cell_type": "code",
      "metadata": {
        "id": "wvFAYHUVf1T_"
      },
      "source": [
        "# 전역변수 - 함수밖에서 생성\n",
        "def circle_area():\n",
        "    area = 3.14 * radius ** 2\n",
        "    return area\n",
        "radius = float(input('반지름:'))\n",
        "circle_area()"
      ],
      "execution_count": null,
      "outputs": []
    },
    {
      "cell_type": "markdown",
      "metadata": {
        "id": "UKR8-IKdhYyp"
      },
      "source": [
        "### 함수내 전역변수 변경 "
      ]
    },
    {
      "cell_type": "code",
      "metadata": {
        "id": "xYKs0doThc3a"
      },
      "source": [
        "# 지역변수\n",
        "def circle_area():\n",
        "    area = 3.14 * radius ** 2\n",
        "    return area\n",
        "area = 0\n",
        "radius = float(input('반지름:'))\n",
        "print('원의 넓이:',circle_area())\n",
        "print(area) #변경안됨"
      ],
      "execution_count": null,
      "outputs": []
    },
    {
      "cell_type": "code",
      "metadata": {
        "id": "QUvzv3YricBe"
      },
      "source": [
        "# global 지역변수 =>> 전역변수\n",
        "def circle_area():\n",
        "    global area #global을 붙혀주면 전역변수로 탈바꿈\n",
        "    area = 3.14 * radius ** 2\n",
        "    return area\n",
        "area = 0\n",
        "radius = float(input('반지름:'))\n",
        "print('원의 넓이:',circle_area())\n",
        "print(area) #변경"
      ],
      "execution_count": null,
      "outputs": []
    },
    {
      "cell_type": "markdown",
      "metadata": {
        "id": "0fGAcZpniskE"
      },
      "source": [
        "### 디폴트 인수"
      ]
    },
    {
      "cell_type": "code",
      "metadata": {
        "id": "tjDpc4QXivKI"
      },
      "source": [
        "def greet(name,msg):\n",
        "    print(f'안녕 {name},오늘 날씨는 {msg}이래요!')\n",
        "greet('윤희','맑음')"
      ],
      "execution_count": null,
      "outputs": []
    },
    {
      "cell_type": "code",
      "metadata": {
        "id": "MCmSlP8IjL6q"
      },
      "source": [
        "# greet() missing 1 required positional argument: 'msg'\n",
        "def greet(name,msg):\n",
        "    print(f'안녕 {name},{msg}')\n",
        "greet('철수')"
      ],
      "execution_count": null,
      "outputs": []
    },
    {
      "cell_type": "code",
      "metadata": {
        "id": "QK33z-7Yjc1C"
      },
      "source": [
        "# 매개변수에 기본값 지정\n",
        "def greet(name='친구',msg='-'):\n",
        "    print(f'안녕 {name},오늘 날씨는 {msg}이래요!')\n",
        "greet('윤희','맑음')\n",
        "# 인수 부족 시 기본값 사용\n",
        "greet()"
      ],
      "execution_count": null,
      "outputs": []
    },
    {
      "cell_type": "code",
      "metadata": {
        "id": "kVfL8h7mj8T4"
      },
      "source": [
        "# 넣은 순서대로 사용함\n",
        "def greet(name='친구',msg='-'):\n",
        "    print(f'안녕 {name},오늘 날씨는 {msg}이래요!')\n",
        "greet('맑음')"
      ],
      "execution_count": null,
      "outputs": []
    },
    {
      "cell_type": "markdown",
      "metadata": {
        "id": "bpSsoMrskDQv"
      },
      "source": [
        "### 키워드 인수"
      ]
    },
    {
      "cell_type": "code",
      "metadata": {
        "id": "XGv_ZLQSkIZV"
      },
      "source": [
        "def greet(name,msg,greeting):\n",
        "    print(f'안녕 {name},오늘 날씨는 {msg}이래요!,{greeting}')\n",
        "greet('윤희',msg='맑음',greeting='잘다녀오세요!')"
      ],
      "execution_count": null,
      "outputs": []
    },
    {
      "cell_type": "code",
      "metadata": {
        "id": "Z7WBE1Cgki-_"
      },
      "source": [
        "# 키워드 인수를 한 쪽에만 쓰면 오류가 난다\n",
        "def greet(name,msg,greeting):\n",
        "    print(f'안녕 {name},오늘 날씨는 {msg}이래요!,{greeting}')\n",
        "greet(name='윤희','맑음','잘다녀오세요!')"
      ],
      "execution_count": null,
      "outputs": []
    },
    {
      "cell_type": "code",
      "metadata": {
        "id": "HWS1GePaQ8YE"
      },
      "source": [
        "# 키워드 인수를 지정해주면 순서를 바꿔서 넣어도 된다.\n",
        "def greet(name,msg,greeting):\n",
        "    print(f'안녕 {name},오늘 날씨는 {msg}이래요!,{greeting}')\n",
        "greet(msg='맑음',greeting='잘다녀오세요!', name='윤희')"
      ],
      "execution_count": null,
      "outputs": []
    },
    {
      "cell_type": "code",
      "metadata": {
        "id": "-t1pkAA4Raxp"
      },
      "source": [
        "# 키워드 인수를 바꿔서 지정할 수 있다.\n",
        "def greet(name,msg,greeting):\n",
        "    print(f'안녕 {name},오늘 날씨는 {msg}이래요!,{greeting}')\n",
        "greet(name='윤희',msg='맑음',greeting='잘다녀오세요!')"
      ],
      "execution_count": null,
      "outputs": []
    },
    {
      "cell_type": "markdown",
      "metadata": {
        "id": "D1pVhnrfky_x"
      },
      "source": [
        "### 가변 매개변수 *args \n",
        "- arg는 관용적으로 쓰이는 표현일 뿐 굳이 args가 아니어도 된다\n",
        "- args는 튜플 데이터형으로 받는다"
      ]
    },
    {
      "cell_type": "code",
      "metadata": {
        "id": "4AEnrFrCm_fo"
      },
      "source": [
        "# 매개변수 개수 가변적일때 사용. \n",
        "def average(*args):\n",
        "    avrg1 = sum(args) /len(args)\n",
        "    return avrg1\n",
        "print(average(1,2,3))\n",
        "print(average(1,2,3,4,5))"
      ],
      "execution_count": null,
      "outputs": []
    },
    {
      "cell_type": "code",
      "metadata": {
        "id": "t3r7sTkFk5bJ"
      },
      "source": [
        "# 매개변수 개수 가변적일때 사용. \n",
        "def average(*a):\n",
        "    avrg1 = sum(a) /len(a)\n",
        "    return avrg1\n",
        "print(average(1,2,3))\n",
        "print(average(1,2,3,4,5))"
      ],
      "execution_count": null,
      "outputs": []
    },
    {
      "cell_type": "code",
      "metadata": {
        "id": "WDucdEXcV0Yp"
      },
      "source": [
        "def algo_1(*args):\n",
        "    algo_1 = sum(args) * 2 /len(args)\n",
        "    return algo_1\n",
        "print(algo_1(1,2,3))\n",
        "print(algo_1(1,2,3,4,5))"
      ],
      "execution_count": null,
      "outputs": []
    },
    {
      "cell_type": "markdown",
      "metadata": {
        "id": "xGV1XUyCWWyj"
      },
      "source": [
        "##**예제> 소수 여부 판단하기**\n"
      ]
    },
    {
      "cell_type": "code",
      "metadata": {
        "id": "gm9Kpjx8WHOT"
      },
      "source": [
        "def prime(number):\n",
        "    if number < 2:\n",
        "        return False\n",
        "    for i in range (2,number):\n",
        "        if number % i == 0:\n",
        "            return False\n",
        "\n",
        "    return True\n",
        "\n",
        "input_num = int(input('숫자를 입력하세요: '))\n",
        "if prime(input_num):\n",
        "    print('소수입니다')\n",
        "else:\n",
        "    print('소수가 아닙니다')"
      ],
      "execution_count": null,
      "outputs": []
    },
    {
      "cell_type": "code",
      "metadata": {
        "id": "vblc17wDX79H"
      },
      "source": [
        "def prime(number):\n",
        "    if number % i == 0:\n",
        "        return True\n",
        "    elif number % i == 1:\n",
        "        return False\n",
        "    else:\n",
        "        return '0은 0입니다'\n",
        "\n",
        "input_num = int(input('숫자를 입력하세요: '))\n",
        "if prime(input_num):\n",
        "    print('소수입니다')\n",
        "else:\n",
        "    print('소수가 아닙니다')"
      ],
      "execution_count": null,
      "outputs": []
    },
    {
      "cell_type": "code",
      "metadata": {
        "id": "kBD-ZHhUYhRH"
      },
      "source": [
        "def user_name(name):\n",
        "    if name == 'admin':\n",
        "        return True\n",
        "    else:\n",
        "        return False\n",
        "\n",
        "input_name = input('이름를 입력하세요: ')\n",
        "if user_name(input_name):\n",
        "    print('관리자페이지 입니다')\n",
        "else:\n",
        "    print('접근권한이 없습니다')"
      ],
      "execution_count": null,
      "outputs": []
    },
    {
      "cell_type": "code",
      "metadata": {
        "id": "9dXvTiaUZGzv"
      },
      "source": [
        "def is_even(num):\n",
        "    if num % 2 == 0:\n",
        "        return 0\n",
        "    elif num == 0:\n",
        "        return 1\n",
        "    else:\n",
        "        return 2\n",
        "\n",
        "input_num = int(input('숫자를 입력하세요: '))\n",
        "if is_even(input_num) == 0:\n",
        "    print('짝수')\n",
        "elif is_even(input_num) == 1:\n",
        "    print('0')\n",
        "elif is_even(input_num) == 2:\n",
        "    print('홀수')"
      ],
      "execution_count": null,
      "outputs": []
    },
    {
      "cell_type": "markdown",
      "metadata": {
        "id": "QStROGGlf-JL"
      },
      "source": [
        "## **예제> 오늘의 메뉴**\n",
        "몇 개의 메뉴가 선택될 지 모른다"
      ]
    },
    {
      "cell_type": "code",
      "metadata": {
        "id": "cSxWjNGvc_2U"
      },
      "source": [
        "def today_menu(*args):\n",
        "    for i in args:\n",
        "        print(i)\n",
        "print(\"==오늘의 메뉴==\")\n",
        "today_menu('김밥','떡볶이','오뎅')\n",
        "print(\"==내일의 메뉴==\") #매개변수의 개수가 자유로워진다\n",
        "today_menu('짬뽕','짜장면','마라탕','탕수육')"
      ],
      "execution_count": null,
      "outputs": []
    },
    {
      "cell_type": "code",
      "metadata": {
        "id": "EJ3Z_0zCjO21"
      },
      "source": [
        "def today_menu(*args):\n",
        "    for i in range(len(args)):\n",
        "        print(args[i])\n",
        "print(\"==오늘의 메뉴==\")\n",
        "today_menu('김밥','떡볶이','오뎅')"
      ],
      "execution_count": null,
      "outputs": []
    },
    {
      "cell_type": "markdown",
      "metadata": {
        "id": "58x8XssIl-Kf"
      },
      "source": [
        "#**lambda() > 함수명 없이 함수만들기**\n",
        "한줄로 간단하게 만드는 함수"
      ]
    },
    {
      "cell_type": "code",
      "metadata": {
        "id": "CO74XKu2mXdY"
      },
      "source": [
        "# 이런 함수를 lambda로 구성하면\n",
        "def plus(num1,num2):\n",
        "    result = num1 + num2\n",
        "    return result\n",
        "print(plus(10,20))"
      ],
      "execution_count": null,
      "outputs": []
    },
    {
      "cell_type": "code",
      "metadata": {
        "id": "c2JEUAZ3lVcT"
      },
      "source": [
        "# 이렇게 된다! 놀라운 lambda 함수\n",
        "plus = lambda num1,num2: num1+num2\n",
        "print(plus(10,20))"
      ],
      "execution_count": null,
      "outputs": []
    },
    {
      "cell_type": "markdown",
      "metadata": {
        "id": "5NmOsGR6nQ7S"
      },
      "source": [
        "#**map() > 자료형에 차례로 함수 사용**\n",
        "- 두개의 인자를 가짐\n",
        "- 순서가있는 자료형에 사용"
      ]
    },
    {
      "cell_type": "code",
      "metadata": {
        "id": "K_e3aX1VmzLf"
      },
      "source": [
        "#map() 함수\n",
        "mylist = [1,2,3,4,5]\n",
        "plus10 = lambda num: num+10\n",
        "\n",
        "mylist = list(map(plus10,mylist))\n",
        "print(mylist)"
      ],
      "execution_count": null,
      "outputs": []
    },
    {
      "cell_type": "code",
      "metadata": {
        "id": "-1j7otf3nyRI"
      },
      "source": [
        "#map() 함수\n",
        "#변수를 하나만 써서 해보기\n",
        "\n",
        "mylist = [1,2,3,4,5]\n",
        "#mylist = list(map(lambda num: num+10,mylist)) #list로 출력\n",
        "mylist = set(map(lambda num: num+10,mylist)) #set으로 출력해볼까?\n",
        "print(mylist)"
      ],
      "execution_count": null,
      "outputs": []
    },
    {
      "cell_type": "code",
      "metadata": {
        "id": "2LLjgnoQpan2"
      },
      "source": [
        ""
      ],
      "execution_count": null,
      "outputs": []
    },
    {
      "cell_type": "markdown",
      "metadata": {
        "id": "t58gO4ZtpPbr"
      },
      "source": [
        "#**재귀함수>함수안에서 자기자신 호출**"
      ]
    },
    {
      "cell_type": "code",
      "metadata": {
        "id": "CKzKrFv1oOpm"
      },
      "source": [
        "def hello(count):\n",
        "    if count == 0: #종료조건을 만듦. count가 0이면 다시 hello 함수를 호출하지 않고 끝냄\n",
        "        return\n",
        "\n",
        "    print('Hello, world', count)\n",
        "\n",
        "    count -=1   # count를 1 감소시킨 뒤\n",
        "    hello(count)    #다시 hello에 넣음\n",
        "\n",
        "hello(5) #hello 함수 호출"
      ],
      "execution_count": null,
      "outputs": []
    },
    {
      "cell_type": "markdown",
      "metadata": {
        "id": "-IjZFUxhsGVt"
      },
      "source": [
        "##예제> 팩토리얼"
      ]
    },
    {
      "cell_type": "code",
      "metadata": {
        "id": "aNxBTglQqCXI"
      },
      "source": [
        "def factorial(i):\n",
        "    if i == 1: # 1이 되면 1값까지만 넘겨주고 함수를 끝내자\n",
        "        return 1\n",
        "    return i * factorial(i-1)\n",
        "\n",
        "print(factorial(5))"
      ],
      "execution_count": null,
      "outputs": []
    },
    {
      "cell_type": "markdown",
      "metadata": {
        "id": "28vzbJ5OsKZ0"
      },
      "source": [
        "#**예제 > 편의점 재고관리 시스템**\n",
        "1. 3개의 기능이 있다.\n",
        "2. 초기 재고는 삼각김밥 10개, 커피우유 10개다.\n",
        "- 기능1: 재고등록\n",
        "- 기능2: 물건판매\n",
        "- 기능3: 재고조회"
      ]
    },
    {
      "cell_type": "code",
      "metadata": {
        "id": "U7OYBkYFqR1U"
      },
      "source": [
        "#초기 재고 입력\n",
        "stock = {\n",
        "    '삼각김밥' : 10,\n",
        "    '커피우유' : 10\n",
        "}\n",
        "#재고등록 함수\n",
        "def register():\n",
        "    while True:\n",
        "        goods = input('상품명을 입력하세요: ')\n",
        "        if goods == '': \n",
        "            current_stock()\n",
        "            break\n",
        "        qty = int(input('해당 상품은 몇개입니까?: '))\n",
        "        if goods in stock: \n",
        "            stock[goods] += qty \n",
        "        else: \n",
        "            stock[goods] = qty \n",
        "        \n",
        "\n",
        "#제품판매 함수\n",
        "def sell():\n",
        "    while True:\n",
        "        goods = input('무슨 상품이 팔립니까?: ')\n",
        "        if goods == '':\n",
        "            current_stock()\n",
        "            break\n",
        "        qty = int(input('몇개가 팔립니까?: '))\n",
        "        if stock[goods] >= qty:\n",
        "            stock[goods] -= qty\n",
        "        else:\n",
        "            print('재고가 부족합니다')\n",
        "            break\n",
        "\n",
        "def check():\n",
        "    while True:\n",
        "        goods = input('상품명을 입력하세요: ')\n",
        "        if goods == '':\n",
        "            current_stock()\n",
        "            break\n",
        "        print(stock.get(goods,'등록되지 않은 상품입니다.'))\n",
        "    \n",
        "def current_stock():\n",
        "            print('-'*50)\n",
        "            for key,value in stock.items():\n",
        "                print(key,':',value)\n",
        "            \n",
        "\n",
        "while True:\n",
        "    print('''\n",
        "    ===== 재고관리 시스템 =====\n",
        "    1: 재고등록, 2: 제품판매, 3: 재고확인, 0: 프로그램 종료\n",
        "    ''')\n",
        "    order = int(input('메뉴를 선택하세요: '))\n",
        "    if order == 0:\n",
        "        break\n",
        "    elif order == 1:\n",
        "        register()\n",
        "    elif order == 2:\n",
        "        sell()\n",
        "    elif order == 3:\n",
        "        check()\n",
        " \n"
      ],
      "execution_count": null,
      "outputs": []
    },
    {
      "cell_type": "code",
      "metadata": {
        "id": "ct_HCASc7L2Z"
      },
      "source": [
        ""
      ],
      "execution_count": null,
      "outputs": []
    }
  ]
}