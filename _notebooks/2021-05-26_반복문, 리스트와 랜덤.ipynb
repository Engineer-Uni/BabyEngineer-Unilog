{
  "nbformat": 4,
  "nbformat_minor": 0,
  "metadata": {
    "colab": {
      "name": "2021-05-26-반복문,리스트와 랜덤.ipynb",
      "provenance": [],
      "collapsed_sections": [],
      "toc_visible": true,
      "authorship_tag": "ABX9TyNDtEAsNEvkhMVfYdxnBTG+",
      "include_colab_link": true
    },
    "kernelspec": {
      "name": "python3",
      "display_name": "Python 3"
    },
    "language_info": {
      "name": "python"
    }
  },
  "cells": [
    {
      "cell_type": "markdown",
      "metadata": {
        "id": "view-in-github",
        "colab_type": "text"
      },
      "source": [
        "<a href=\"https://colab.research.google.com/github/Engineer-Uni/Engineer-Unilog/blob/master/_notebooks/2021-05-26_%EB%B0%98%EB%B3%B5%EB%AC%B8%2C%20%EB%A6%AC%EC%8A%A4%ED%8A%B8%EC%99%80%20%EB%9E%9C%EB%8D%A4.ipynb\" target=\"_parent\"><img src=\"https://colab.research.google.com/assets/colab-badge.svg\" alt=\"Open In Colab\"/></a>"
      ]
    },
    {
      "cell_type": "markdown",
      "metadata": {
        "id": "Ndz77faX6mED"
      },
      "source": [
        "#**리스트**\n",
        "> 리스트 안에는 어떠한 자료형도 포함시킬 수 있다.<br>\n",
        "> 숫자, 문자열 뿐 아니라 변수, 다른 리스트도 저장할 수 있다.<br>\n",
        "> 하나의 리스트 안에 다양한 자료형을 혼합하여 포함시킬 수 있다."
      ]
    },
    {
      "cell_type": "code",
      "metadata": {
        "id": "O9xWbd-b14zR",
        "colab": {
          "base_uri": "https://localhost:8080/"
        },
        "outputId": "b4de3471-f152-481a-c1ab-634947e5a326"
      },
      "source": [
        "n1 = 100\n",
        "fruits = ['사과','오렌지','포도','수박','바나나']\n",
        "mylist = [n1, fruits, 20, 30, '슈퍼맨', True, [1,2,3]] #n1 은 변수값\n",
        "mylist\n",
        "\n",
        "for x in mylist:\n",
        "    print(type(x))"
      ],
      "execution_count": null,
      "outputs": [
        {
          "output_type": "stream",
          "text": [
            "<class 'int'>\n",
            "<class 'list'>\n",
            "<class 'int'>\n",
            "<class 'int'>\n",
            "<class 'str'>\n",
            "<class 'bool'>\n",
            "<class 'list'>\n"
          ],
          "name": "stdout"
        }
      ]
    },
    {
      "cell_type": "code",
      "metadata": {
        "colab": {
          "base_uri": "https://localhost:8080/"
        },
        "id": "VlalVhsh8ou9",
        "outputId": "0c1aa933-ec09-43cb-dfc0-3f5929c7f8e4"
      },
      "source": [
        "# 초기값이 있는 리스트 생성\n",
        "list_1 = [1,2,3,4,5]\n",
        "list_1"
      ],
      "execution_count": null,
      "outputs": [
        {
          "output_type": "execute_result",
          "data": {
            "text/plain": [
              "[1, 2, 3, 4, 5]"
            ]
          },
          "metadata": {
            "tags": []
          },
          "execution_count": 21
        }
      ]
    },
    {
      "cell_type": "code",
      "metadata": {
        "colab": {
          "base_uri": "https://localhost:8080/"
        },
        "id": "mLnl8WbY_-sE",
        "outputId": "b2f5eb07-0c4b-467a-a98b-4fd45f9eb9d1"
      },
      "source": [
        "# range 이용하여 리스트 생성\n",
        "list_2 = list(range(0,5))\n",
        "list_2"
      ],
      "execution_count": null,
      "outputs": [
        {
          "output_type": "execute_result",
          "data": {
            "text/plain": [
              "[0, 1, 2, 3, 4]"
            ]
          },
          "metadata": {
            "tags": []
          },
          "execution_count": 23
        }
      ]
    },
    {
      "cell_type": "markdown",
      "metadata": {
        "id": "cbsGnJir-Nlo"
      },
      "source": [
        "#**리스트 출력하기**"
      ]
    },
    {
      "cell_type": "code",
      "metadata": {
        "colab": {
          "base_uri": "https://localhost:8080/"
        },
        "id": "FdEjgT1M90dk",
        "outputId": "0a5a1f51-7152-43d4-a170-f3b0c3f359bc"
      },
      "source": [
        "#for문을 이용하여 리스트의 요소 출력하기\n",
        "\n",
        "fruits = ['사과','오렌지','포도','수박','바나나']\n",
        "for fruit in fruits:\n",
        "    print(fruit)\n",
        "#리스트 출력 시 디폴트값이 Enter이기 때문에 줄을 바꿔서 출력된다."
      ],
      "execution_count": null,
      "outputs": [
        {
          "output_type": "stream",
          "text": [
            "사과\n",
            "오렌지\n",
            "포도\n",
            "수박\n",
            "바나나\n"
          ],
          "name": "stdout"
        }
      ]
    },
    {
      "cell_type": "code",
      "metadata": {
        "colab": {
          "base_uri": "https://localhost:8080/"
        },
        "id": "ACEp6i9j-KZr",
        "outputId": "3efe014f-3655-40c8-e18f-798501a477e6"
      },
      "source": [
        "# 줄을 바꿔서 출력하는 대신, end=' ' 를 추가해 줄 수 있다\n",
        "fruits = ['사과','오렌지','포도','수박','바나나']\n",
        "for i in fruits:\n",
        "    print(type(i), end=' : ')\n",
        "    print(i)"
      ],
      "execution_count": null,
      "outputs": [
        {
          "output_type": "stream",
          "text": [
            "<class 'str'> : 사과\n",
            "<class 'str'> : 오렌지\n",
            "<class 'str'> : 포도\n",
            "<class 'str'> : 수박\n",
            "<class 'str'> : 바나나\n"
          ],
          "name": "stdout"
        }
      ]
    },
    {
      "cell_type": "markdown",
      "metadata": {
        "id": "3d2PTfzAEyCJ"
      },
      "source": [
        "#**인덱싱: 리스트 요소 추출**"
      ]
    },
    {
      "cell_type": "code",
      "metadata": {
        "colab": {
          "base_uri": "https://localhost:8080/"
        },
        "id": "tN_Tj5tp-Ymx",
        "outputId": "fd7d29dc-2b67-4fc5-97ba-d0dafcb345d2"
      },
      "source": [
        "# 리스트 안의 리스트도 하나의 인덱스로 인식한다\n",
        "fruits = ['사과','오렌지','포도',['수박','바나나']]\n",
        "fruits[3]"
      ],
      "execution_count": null,
      "outputs": [
        {
          "output_type": "execute_result",
          "data": {
            "text/plain": [
              "['수박', '바나나']"
            ]
          },
          "metadata": {
            "tags": []
          },
          "execution_count": 30
        }
      ]
    },
    {
      "cell_type": "code",
      "metadata": {
        "colab": {
          "base_uri": "https://localhost:8080/"
        },
        "id": "RLcZMKi-FDuB",
        "outputId": "e6dc2aa5-e0a5-41d1-8f84-716129b649c6"
      },
      "source": [
        "a = [1,2,3,4,5]\n",
        "a[2]+a[4]"
      ],
      "execution_count": null,
      "outputs": [
        {
          "output_type": "execute_result",
          "data": {
            "text/plain": [
              "8"
            ]
          },
          "metadata": {
            "tags": []
          },
          "execution_count": 33
        }
      ]
    },
    {
      "cell_type": "code",
      "metadata": {
        "colab": {
          "base_uri": "https://localhost:8080/",
          "height": 35
        },
        "id": "67UyY1VqEjco",
        "outputId": "905dfae9-82d3-4088-92b1-68c878468d00"
      },
      "source": [
        "# -인덱스는 역순을 뜻한다. 단, -1 부터 시작.\n",
        "fruits = [['사과','오렌지'],'포도',['수박','바나나']]\n",
        "fruits[-2]"
      ],
      "execution_count": null,
      "outputs": [
        {
          "output_type": "execute_result",
          "data": {
            "application/vnd.google.colaboratory.intrinsic+json": {
              "type": "string"
            },
            "text/plain": [
              "'포도'"
            ]
          },
          "metadata": {
            "tags": []
          },
          "execution_count": 31
        }
      ]
    },
    {
      "cell_type": "code",
      "metadata": {
        "colab": {
          "base_uri": "https://localhost:8080/"
        },
        "id": "cPqGqJsmE8AQ",
        "outputId": "442ceb2d-8c33-4856-c7d2-1c9248c874c6"
      },
      "source": [
        "a = [1,2,3,4,5]\n",
        "a[-2]+a[-3]"
      ],
      "execution_count": null,
      "outputs": [
        {
          "output_type": "execute_result",
          "data": {
            "text/plain": [
              "7"
            ]
          },
          "metadata": {
            "tags": []
          },
          "execution_count": 32
        }
      ]
    },
    {
      "cell_type": "markdown",
      "metadata": {
        "id": "aMSc1FNAFs3P"
      },
      "source": [
        "#**인덱스 안의 인덱스 추출**"
      ]
    },
    {
      "cell_type": "code",
      "metadata": {
        "colab": {
          "base_uri": "https://localhost:8080/",
          "height": 35
        },
        "id": "y_ymNRCeFJn0",
        "outputId": "52e694c7-24c5-4f94-ea91-5218aa886013"
      },
      "source": [
        "# 해당 인덱스 넘버를 연달아써준다\n",
        "fruits = ['사과','오렌지',['포도','수박','바나나']]\n",
        "fruits[2][0]"
      ],
      "execution_count": null,
      "outputs": [
        {
          "output_type": "execute_result",
          "data": {
            "application/vnd.google.colaboratory.intrinsic+json": {
              "type": "string"
            },
            "text/plain": [
              "'포도'"
            ]
          },
          "metadata": {
            "tags": []
          },
          "execution_count": 37
        }
      ]
    },
    {
      "cell_type": "code",
      "metadata": {
        "colab": {
          "base_uri": "https://localhost:8080/",
          "height": 53
        },
        "id": "yi2nfYqzFnSV",
        "outputId": "2b2a5c69-e0db-4c2b-c22d-1d773f2dddb0"
      },
      "source": [
        "# print문을 쓰면 모두 출력 / print문이 없으면 제일 마지막 것만 출력\n",
        "a = [1,2,['a','b',['life','is']]]\n",
        "print(a[2][2])\n",
        "a[2][2][0]"
      ],
      "execution_count": null,
      "outputs": [
        {
          "output_type": "stream",
          "text": [
            "['life', 'is']\n"
          ],
          "name": "stdout"
        },
        {
          "output_type": "execute_result",
          "data": {
            "application/vnd.google.colaboratory.intrinsic+json": {
              "type": "string"
            },
            "text/plain": [
              "'life'"
            ]
          },
          "metadata": {
            "tags": []
          },
          "execution_count": 42
        }
      ]
    },
    {
      "cell_type": "markdown",
      "metadata": {
        "id": "U1xo3sqMHZv0"
      },
      "source": [
        "#**슬라이싱: 리스트 요소 추출**\n",
        "> 슬라이싱 기법으로 한 번에 여러 개의 요소들을 추출할 수 있다 <br>\n",
        "리스트명[시작인덱스 : 끝인덱스(이전값까지만 계산) : 간격]"
      ]
    },
    {
      "cell_type": "code",
      "metadata": {
        "colab": {
          "base_uri": "https://localhost:8080/"
        },
        "id": "2v_rA1MzHfPD",
        "outputId": "335051f8-a470-499b-d8e1-46bf30e9d2a1"
      },
      "source": [
        "nums = [0,1,2,3,4,5,6,7,8,9]\n",
        "print(nums[3:8])\n",
        "print(nums[-7:-2])"
      ],
      "execution_count": null,
      "outputs": [
        {
          "output_type": "stream",
          "text": [
            "[3, 4, 5, 6, 7]\n",
            "[3, 4, 5, 6, 7]\n"
          ],
          "name": "stdout"
        }
      ]
    },
    {
      "cell_type": "code",
      "metadata": {
        "colab": {
          "base_uri": "https://localhost:8080/"
        },
        "id": "3NwdbIM5H9Lm",
        "outputId": "1d76ce0c-60cc-475e-cb85-804eadaa187f"
      },
      "source": [
        "nums = list(range(1,11))\n",
        "print(nums)\n",
        "print('-' *50)\n",
        "\n",
        "#시작 인덱스 생략\n",
        "print(nums[:3])\n",
        "print(nums[0:3])\n",
        "print('-' *50)\n",
        "\n",
        "#끝 인덱스 생략\n",
        "print(nums[3:])\n",
        "print(nums[3:10])\n",
        "print(nums[3:len(nums)])\n",
        "print('-' *50)"
      ],
      "execution_count": null,
      "outputs": [
        {
          "output_type": "stream",
          "text": [
            "[1, 2, 3, 4, 5, 6, 7, 8, 9, 10]\n",
            "--------------------------------------------------\n",
            "[1, 2, 3]\n",
            "[1, 2, 3]\n",
            "--------------------------------------------------\n",
            "[4, 5, 6, 7, 8, 9, 10]\n",
            "[4, 5, 6, 7, 8, 9, 10]\n",
            "[4, 5, 6, 7, 8, 9, 10]\n",
            "--------------------------------------------------\n"
          ],
          "name": "stdout"
        }
      ]
    },
    {
      "cell_type": "markdown",
      "metadata": {
        "id": "_AxveHONJEpb"
      },
      "source": [
        "#**간격 슬라이싱 _ 짝수만, 홀수만 ...**"
      ]
    },
    {
      "cell_type": "code",
      "metadata": {
        "colab": {
          "base_uri": "https://localhost:8080/"
        },
        "id": "8wmz7Ij9IT1t",
        "outputId": "6dac2fb0-935c-4841-93e6-c42ec8e7ccca"
      },
      "source": [
        "nums = [1,2,3,4,5,6,7,8,9,10]\n",
        "nums[3:8:2]"
      ],
      "execution_count": null,
      "outputs": [
        {
          "output_type": "execute_result",
          "data": {
            "text/plain": [
              "[4, 6, 8]"
            ]
          },
          "metadata": {
            "tags": []
          },
          "execution_count": 57
        }
      ]
    },
    {
      "cell_type": "code",
      "metadata": {
        "colab": {
          "base_uri": "https://localhost:8080/"
        },
        "id": "OXpRVI54JQQR",
        "outputId": "f3ee524c-3ecc-400c-f628-33c9d65775b1"
      },
      "source": [
        "#역순 추출\n",
        "#리스트명 [끝인덱스 : 시작인덱스 : 간격(음수)]\n",
        "nums = list(range(1,11))\n",
        "print(nums[8:3:-2])\n",
        "print(nums[-2:-7:-2])"
      ],
      "execution_count": null,
      "outputs": [
        {
          "output_type": "stream",
          "text": [
            "[9, 7, 5]\n",
            "[9, 7, 5]\n"
          ],
          "name": "stdout"
        }
      ]
    },
    {
      "cell_type": "code",
      "metadata": {
        "colab": {
          "base_uri": "https://localhost:8080/"
        },
        "id": "MgIqgZnXKAiv",
        "outputId": "4006397e-fc62-4c90-9d27-af9c8f14d623"
      },
      "source": [
        "nums = list(range(1,11))\n",
        "print(nums[-3:-8:-2])\n",
        "print(nums[7:2:-2])"
      ],
      "execution_count": null,
      "outputs": [
        {
          "output_type": "stream",
          "text": [
            "[8, 6, 4]\n",
            "[8, 6, 4]\n"
          ],
          "name": "stdout"
        }
      ]
    },
    {
      "cell_type": "code",
      "metadata": {
        "colab": {
          "base_uri": "https://localhost:8080/"
        },
        "id": "hHPHA0m_LCR7",
        "outputId": "74931dd1-0567-46e2-9b14-112a09ca7cab"
      },
      "source": [
        "a = [1,2,3,['a','b','c',],4,5]\n",
        "print(a[2:5])\n",
        "print(a[-5:-3])"
      ],
      "execution_count": null,
      "outputs": [
        {
          "output_type": "stream",
          "text": [
            "[3, ['a', 'b', 'c'], 4]\n",
            "[2, 3]\n"
          ],
          "name": "stdout"
        }
      ]
    },
    {
      "cell_type": "markdown",
      "metadata": {
        "id": "IcAmEkXsMcUc"
      },
      "source": [
        "#**리스트 연산하기**"
      ]
    },
    {
      "cell_type": "code",
      "metadata": {
        "colab": {
          "base_uri": "https://localhost:8080/"
        },
        "id": "IPW7OlpLLlXm",
        "outputId": "da873598-d2c9-49c7-ffa5-127dc2c73508"
      },
      "source": [
        "# 리스트 더하기 _ 같은 타입값만 가능\n",
        "a = ['a','b','c']\n",
        "b = ['d','e','f']\n",
        "a + b"
      ],
      "execution_count": null,
      "outputs": [
        {
          "output_type": "execute_result",
          "data": {
            "text/plain": [
              "['a', 'b', 'c', 'd', 'e', 'f']"
            ]
          },
          "metadata": {
            "tags": []
          },
          "execution_count": 79
        }
      ]
    },
    {
      "cell_type": "code",
      "metadata": {
        "colab": {
          "base_uri": "https://localhost:8080/"
        },
        "id": "n5Coc797Mly1",
        "outputId": "a1f29b22-7cd5-4b13-b14f-93d23a93c9f7"
      },
      "source": [
        "# 리스트 곱하기 _ 같은 내용을 반복\n",
        "a = ['A','a']\n",
        "b = a*3\n",
        "b"
      ],
      "execution_count": null,
      "outputs": [
        {
          "output_type": "execute_result",
          "data": {
            "text/plain": [
              "['A', 'a', 'A', 'a', 'A', 'a']"
            ]
          },
          "metadata": {
            "tags": []
          },
          "execution_count": 81
        }
      ]
    },
    {
      "cell_type": "markdown",
      "metadata": {
        "id": "qMQaGfwUNMyo"
      },
      "source": [
        "#**len(리스트명)_리스트의 항목수 구하기**"
      ]
    },
    {
      "cell_type": "code",
      "metadata": {
        "colab": {
          "base_uri": "https://localhost:8080/"
        },
        "id": "FL6vZkbVNPl1",
        "outputId": "e52c0992-1e06-4997-96d0-43b4dc27f784"
      },
      "source": [
        "fruits = ['사과','오렌지','포도','수박','바나나']\n",
        "\n",
        "len(fruits)"
      ],
      "execution_count": null,
      "outputs": [
        {
          "output_type": "execute_result",
          "data": {
            "text/plain": [
              "5"
            ]
          },
          "metadata": {
            "tags": []
          },
          "execution_count": 82
        }
      ]
    },
    {
      "cell_type": "markdown",
      "metadata": {
        "id": "2qwk7D79Nfed"
      },
      "source": [
        "#**리스트 요소값 변경하기**"
      ]
    },
    {
      "cell_type": "code",
      "metadata": {
        "colab": {
          "base_uri": "https://localhost:8080/"
        },
        "id": "XW8wGPLrNb7B",
        "outputId": "622fb349-607c-4fe0-8298-a799f556cc0a"
      },
      "source": [
        "#인덱스 값 변경\n",
        "\n",
        "fruits = ['사과','오렌지','포도','수박','바나나']\n",
        "fruits[1] ='망고'\n",
        "print(fruits)"
      ],
      "execution_count": null,
      "outputs": [
        {
          "output_type": "stream",
          "text": [
            "['사과', '망고', '포도', '수박', '바나나']\n"
          ],
          "name": "stdout"
        }
      ]
    },
    {
      "cell_type": "code",
      "metadata": {
        "colab": {
          "base_uri": "https://localhost:8080/"
        },
        "id": "zRQl-pWhNe9W",
        "outputId": "8e36f683-0182-405d-8492-966077806086"
      },
      "source": [
        "# 인덱스에 변수나 수식 사용가능\n",
        "\n",
        "fruits = ['사과','오렌지','포도','수박','바나나']\n",
        "k = 1\n",
        "fruits[k+2] ='망고'\n",
        "print(fruits)"
      ],
      "execution_count": null,
      "outputs": [
        {
          "output_type": "stream",
          "text": [
            "['사과', '오렌지', '포도', '망고', '바나나']\n"
          ],
          "name": "stdout"
        }
      ]
    },
    {
      "cell_type": "code",
      "metadata": {
        "colab": {
          "base_uri": "https://localhost:8080/"
        },
        "id": "T5asDEWrNxbi",
        "outputId": "4abc1579-6a2c-4c4e-a841-790cf4a5c1d3"
      },
      "source": [
        "# 리스트 안에 여러 개의 요소 추가하기\n",
        "# 슬라이싱[추가 시작할 인덱스, 보여질 인덱스] 해서 넣어야된다~\n",
        "\n",
        "fruits = ['사과','오렌지','포도','수박','바나나']\n",
        "fruits[1:4] = ['망고','복숭아']\n",
        "print(fruits)"
      ],
      "execution_count": null,
      "outputs": [
        {
          "output_type": "stream",
          "text": [
            "['사과', '망고', '복숭아', '바나나']\n"
          ],
          "name": "stdout"
        }
      ]
    },
    {
      "cell_type": "code",
      "metadata": {
        "colab": {
          "base_uri": "https://localhost:8080/"
        },
        "id": "RycU4pxIR1TD",
        "outputId": "f2c70c18-5420-4bc7-bdfb-5e0096776405"
      },
      "source": [
        "# 리스트 \n",
        "fruits = ['사과','오렌지','포도','수박','바나나']\n",
        "fruits[1] = ['망고','복숭아']\n",
        "print(fruits)"
      ],
      "execution_count": null,
      "outputs": [
        {
          "output_type": "stream",
          "text": [
            "['사과', ['망고', '복숭아'], '포도', '수박', '바나나']\n"
          ],
          "name": "stdout"
        }
      ]
    },
    {
      "cell_type": "markdown",
      "metadata": {
        "id": "LAkLbbCzUdoz"
      },
      "source": [
        "#**리스트 요소 삭제하는 3가지 방법**\n",
        "\n",
        "**인덱스를 알고 있을 때 사용**\n",
        "- del 리스트명[index] : 바로 제거\n",
        "- 리스트명.pop() 인덱스를 알고 있을 때 사용 : 값 반환 후 제거 (변수 = 제거할인덱스 지정해보면 제거된 값을 알려준다)\n",
        "\n",
        "\n",
        "**값을 알고 있을 때 사용**\n",
        "- 리스트명.remove(요소) \n",
        "\n",
        "예제) '바나나'를 없애는 3가지 방법"
      ]
    },
    {
      "cell_type": "code",
      "metadata": {
        "colab": {
          "base_uri": "https://localhost:8080/"
        },
        "id": "AVPuiEp5R6aX",
        "outputId": "49703be2-2911-40a8-ef6a-89fcb2592c2a"
      },
      "source": [
        "# 지정 인덱스의 항목 삭제 _ del 리스트명[index]\n",
        "fruits = ['사과','오렌지','포도','수박','바나나']\n",
        "del fruits[4]\n",
        "print(fruits)"
      ],
      "execution_count": null,
      "outputs": [
        {
          "output_type": "stream",
          "text": [
            "['사과', '오렌지', '포도', '수박']\n"
          ],
          "name": "stdout"
        }
      ]
    },
    {
      "cell_type": "code",
      "metadata": {
        "colab": {
          "base_uri": "https://localhost:8080/"
        },
        "id": "e4bo527-U2IJ",
        "outputId": "901700f6-9aba-408c-93b4-c334e1f3213a"
      },
      "source": [
        "# 지정 인덱스 항목 삭제 _ 리스트명.pop(인덱스) _ (괄호)디폴트값은 마지막 인덱스\n",
        "fruits = ['사과','오렌지','포도',['수박','바나나']]\n",
        "pop_fruit = fruits.pop(2)\n",
        "print(fruits, f'pop_fruit는 {pop_fruit} 입니다')"
      ],
      "execution_count": null,
      "outputs": [
        {
          "output_type": "stream",
          "text": [
            "['사과', '오렌지', ['수박', '바나나']] pop_fruit는 포도 입니다\n"
          ],
          "name": "stdout"
        }
      ]
    },
    {
      "cell_type": "code",
      "metadata": {
        "colab": {
          "base_uri": "https://localhost:8080/"
        },
        "id": "KOODu6Net3qT",
        "outputId": "96c46738-1652-49bd-d96f-79b55b285b93"
      },
      "source": [
        "#리스트 모든 요소 삭제\n",
        "#리스트명.clear()\n",
        "\n",
        "fruits = ['사과','오렌지','포도',['수박','바나나']]\n",
        "\n",
        "fruits.clear()\n",
        "print(fruits)"
      ],
      "execution_count": null,
      "outputs": [
        {
          "output_type": "stream",
          "text": [
            "[]\n"
          ],
          "name": "stdout"
        }
      ]
    },
    {
      "cell_type": "code",
      "metadata": {
        "colab": {
          "base_uri": "https://localhost:8080/"
        },
        "id": "V7QFeRQJVI-H",
        "outputId": "4092c510-ebd8-4b25-a1ff-f13d9ad76d28"
      },
      "source": [
        "# 마지막 항목 삭제 _ 리스트명.remove(요소)\n",
        "# 요소가 여러개여도 가장 첫번째 항목만 삭제한다\n",
        "fruits = ['사과','오렌지','포도','수박','바나나','파인애플','바나나']\n",
        "fruits.remove('바나나')\n",
        "print(fruits)"
      ],
      "execution_count": null,
      "outputs": [
        {
          "output_type": "stream",
          "text": [
            "['사과', '오렌지', '포도', '수박', '파인애플', '바나나']\n"
          ],
          "name": "stdout"
        }
      ]
    },
    {
      "cell_type": "code",
      "metadata": {
        "id": "EhyJz9-paFQG",
        "colab": {
          "base_uri": "https://localhost:8080/"
        },
        "outputId": "44c5c4aa-3110-4c56-8872-577acbe2d31a"
      },
      "source": [
        "# 리스트 안에 요소가 있는지 확인하고 삭제하기\n",
        "fruits = ['사과','오렌지','포도','수박','바나나','망고']\n",
        "if '망고' in fruits:\n",
        "    fruits.remove('망고')\n",
        "print(fruits)"
      ],
      "execution_count": null,
      "outputs": [
        {
          "output_type": "stream",
          "text": [
            "['사과', '오렌지', '포도', '수박', '바나나']\n"
          ],
          "name": "stdout"
        }
      ]
    },
    {
      "cell_type": "markdown",
      "metadata": {
        "id": "LAVrrmMZi3Yx"
      },
      "source": [
        "#**리스트에 요소 추가**\n",
        "- .append() _ 리스트에 맨 마지막에 하나의 요소를 추가한다\n",
        "- .extend() _ 리스트에 맨 마지막에 여러개의 요소를 추가한다\n",
        "- .insert(인덱스, 요소) _ 지정된 인덱스에 요소를 추가한다"
      ]
    },
    {
      "cell_type": "code",
      "metadata": {
        "colab": {
          "base_uri": "https://localhost:8080/"
        },
        "id": "VZovszK1haaZ",
        "outputId": "3ed4e6eb-6952-4129-e1cb-87f16a995ef2"
      },
      "source": [
        "# .append(요소) _ 리스트의 마지막에 요소 하나 추가\n",
        "fruits = ['사과','오렌지','포도','수박','바나나']\n",
        "fruits.append('복숭아')\n",
        "fruits.append(['복숭아','망고'])\n",
        "#fruits.append('복숭아','망고')\n",
        "print(fruits)"
      ],
      "execution_count": null,
      "outputs": [
        {
          "output_type": "stream",
          "text": [
            "['사과', '오렌지', '포도', '수박', '바나나', '복숭아', ['복숭아', '망고']]\n"
          ],
          "name": "stdout"
        }
      ]
    },
    {
      "cell_type": "code",
      "metadata": {
        "colab": {
          "base_uri": "https://localhost:8080/"
        },
        "id": "peQJhYJjju3v",
        "outputId": "1487da2a-ca6e-4c2f-d33f-1daff9bedc69"
      },
      "source": [
        "# .extend _ 리스트의 마지막에 여러 요소 추가\n",
        "fruits = ['사과','오렌지','포도','수박','바나나']\n",
        "fruits.extend(['복숭아','망고'])\n",
        "print(fruits)\n",
        "print('-'*100)\n",
        "\n",
        "# 리스트에 리스트 추가 ( 이중괄호로 묶기 )\n",
        "fruits = ['사과','오렌지','포도','수박','바나나']\n",
        "fruits.extend([['복숭아','망고'],['키위', '파인애플']])\n",
        "# fruits.extend(['복숭아','망고'],['키위', '파인애플'])\n",
        "print(fruits)"
      ],
      "execution_count": null,
      "outputs": [
        {
          "output_type": "stream",
          "text": [
            "['사과', '오렌지', '포도', '수박', '바나나', '복숭아', '망고']\n",
            "----------------------------------------------------------------------------------------------------\n",
            "['사과', '오렌지', '포도', '수박', '바나나', ['복숭아', '망고'], ['키위', '파인애플']]\n"
          ],
          "name": "stdout"
        }
      ]
    },
    {
      "cell_type": "code",
      "metadata": {
        "colab": {
          "base_uri": "https://localhost:8080/"
        },
        "id": "jFLYytfXjSEq",
        "outputId": "86aca33d-65a3-4955-d6f0-f5d442c980e2"
      },
      "source": [
        "# .insert(인덱스, 요소) _ 인덱스 뒤에 요소 추가\n",
        "fruits = ['사과','오렌지','포도','수박','바나나']\n",
        "fruits.insert(0,'복숭아')\n",
        "print(fruits)"
      ],
      "execution_count": null,
      "outputs": [
        {
          "output_type": "stream",
          "text": [
            "['복숭아', '사과', '오렌지', '포도', '수박', '바나나']\n"
          ],
          "name": "stdout"
        }
      ]
    },
    {
      "cell_type": "markdown",
      "metadata": {
        "id": "PfxJhzu0mNoh"
      },
      "source": [
        "#**요소의 위치 찾기**"
      ]
    },
    {
      "cell_type": "code",
      "metadata": {
        "colab": {
          "base_uri": "https://localhost:8080/"
        },
        "id": "HCe3XVvmmkRh",
        "outputId": "834118f0-2db8-45ab-83a4-8ef13043d8b5"
      },
      "source": [
        "# '포도'의 위치(인덱스) 찾기\n",
        "fruits = ['사과','오렌지','포도','수박','바나나']\n",
        "fruits.index('포도')"
      ],
      "execution_count": null,
      "outputs": [
        {
          "output_type": "execute_result",
          "data": {
            "text/plain": [
              "2"
            ]
          },
          "metadata": {
            "tags": []
          },
          "execution_count": 170
        }
      ]
    },
    {
      "cell_type": "code",
      "metadata": {
        "colab": {
          "base_uri": "https://localhost:8080/"
        },
        "id": "lo58jmX-mu2v",
        "outputId": "cbb97d8f-4e70-4c0a-a565-17f82bdab07c"
      },
      "source": [
        "# 해당하는 요소가 없을 경우 단순 에러로 표시하기 때문에\n",
        "# 요소가 없다는 메세지를 출력하려면 다음과 같이 코드를 짠다.\n",
        "\n",
        "fruits = ['사과','오렌지','포도','수박','바나나']\n",
        "if '자두' in fruits:\n",
        "    print(fruits.index('자두'))\n",
        "else:\n",
        "    print('해당 과일은 준비되지 않았습니다.')"
      ],
      "execution_count": null,
      "outputs": [
        {
          "output_type": "stream",
          "text": [
            "해당 과일은 준비되지 않았습니다.\n"
          ],
          "name": "stdout"
        }
      ]
    },
    {
      "cell_type": "markdown",
      "metadata": {
        "id": "K6sU0dusneZQ"
      },
      "source": [
        "#**멤버 연산자 in, not in**\n",
        "\n",
        "여러 데이터 중 원하는 데이터가 존재하는지 여부를 검사하는 연산자"
      ]
    },
    {
      "cell_type": "code",
      "metadata": {
        "colab": {
          "base_uri": "https://localhost:8080/"
        },
        "id": "4RIXx6Tbm8Rq",
        "outputId": "3fce119a-6f11-4e72-ccfc-1563c38139b3"
      },
      "source": [
        "print('p' in 'python')\n",
        "print(0 in (1,2,3,4))"
      ],
      "execution_count": null,
      "outputs": [
        {
          "output_type": "stream",
          "text": [
            "True\n",
            "False\n"
          ],
          "name": "stdout"
        }
      ]
    },
    {
      "cell_type": "code",
      "metadata": {
        "colab": {
          "base_uri": "https://localhost:8080/"
        },
        "id": "qZszQdimoHNE",
        "outputId": "ae6bed10-ccb0-407c-82ac-1bdb5f1b7640"
      },
      "source": [
        "'f' not in 'python'"
      ],
      "execution_count": null,
      "outputs": [
        {
          "output_type": "execute_result",
          "data": {
            "text/plain": [
              "True"
            ]
          },
          "metadata": {
            "tags": []
          },
          "execution_count": 175
        }
      ]
    },
    {
      "cell_type": "markdown",
      "metadata": {
        "id": "CArwzugdocOw"
      },
      "source": [
        "#**예제) 도서 열람하기**"
      ]
    },
    {
      "cell_type": "code",
      "metadata": {
        "colab": {
          "base_uri": "https://localhost:8080/"
        },
        "id": "MeCMF7f1oKXe",
        "outputId": "357af7b8-84b3-40e8-80b1-466aa1d28975"
      },
      "source": [
        "books = ['해리포터','나니아연대기','빠삐용','사피엔스']\n",
        "book_name = input('도서 제목: ')\n",
        "if book_name in books:\n",
        "    print(f'{book_name}는 {books.index(book_name)}번째 인덱스에서 찾을 수 있습니다.')\n",
        "else:\n",
        "    print(f'{book_name} 도서는 준비되지 않았습니다.')"
      ],
      "execution_count": null,
      "outputs": [
        {
          "output_type": "stream",
          "text": [
            "도서 제목: 해리포터\n",
            "해리포터는 0번째 인덱스에서 찾을 수 있습니다.\n"
          ],
          "name": "stdout"
        }
      ]
    },
    {
      "cell_type": "markdown",
      "metadata": {
        "id": "R3mNINa9pt_i"
      },
      "source": [
        "#**특정 요소의 개수 추출**\n",
        ".count(요소) _ 리스트에서 지정한 요소의 개수를 반환한다."
      ]
    },
    {
      "cell_type": "code",
      "metadata": {
        "id": "OXlFFQaQo_RF",
        "colab": {
          "base_uri": "https://localhost:8080/"
        },
        "outputId": "243e1136-5651-4296-f447-ec810709314b"
      },
      "source": [
        "fruits = ['사과','오렌지','포도','수박','바나나','수박']\n",
        "fruits.count('수박')"
      ],
      "execution_count": null,
      "outputs": [
        {
          "output_type": "execute_result",
          "data": {
            "text/plain": [
              "2"
            ]
          },
          "metadata": {
            "tags": []
          },
          "execution_count": 188
        }
      ]
    },
    {
      "cell_type": "markdown",
      "metadata": {
        "id": "ruTJm5bztJQH"
      },
      "source": [
        "#**리스트 정렬**\n",
        "리스트 원본 정렬하기\n",
        "- 리스트명.sort() _ 오름차순\n",
        "- 리스트명.sort(reverse=True) _ 내림차순\n",
        "\n",
        "리스트 원본은 유지한 채로 사본 정렬하기\n",
        "- sorted(리스트명)_ 오름차순\n",
        "- sorted(리스트명, reverse=True) _ 내림차순"
      ]
    },
    {
      "cell_type": "code",
      "metadata": {
        "colab": {
          "base_uri": "https://localhost:8080/"
        },
        "id": "h87HBqF5s9fq",
        "outputId": "e5bf2d81-8e39-465a-95dc-2db00e623477"
      },
      "source": [
        "#리스트 원본 정렬하기\n",
        "fruits = ['사과','오렌지','포도','수박','바나나']\n",
        "fruits.sort(reverse=True)\n",
        "print(fruits)"
      ],
      "execution_count": null,
      "outputs": [
        {
          "output_type": "stream",
          "text": [
            "['포도', '오렌지', '수박', '사과', '바나나']\n"
          ],
          "name": "stdout"
        }
      ]
    },
    {
      "cell_type": "code",
      "metadata": {
        "colab": {
          "base_uri": "https://localhost:8080/"
        },
        "id": "6Vt9w9JKuAA0",
        "outputId": "b0905bd8-aab6-4fba-ddc7-73570535ca8b"
      },
      "source": [
        "fruits = ['사과','오렌지','포도','수박','바나나']\n",
        "sorted_fruits = sorted(fruits)\n",
        "print(f'원본: {fruits}')\n",
        "print(f'오름차순: {sorted_fruits}')"
      ],
      "execution_count": null,
      "outputs": [
        {
          "output_type": "stream",
          "text": [
            "원본: ['사과', '오렌지', '포도', '수박', '바나나']\n",
            "오름차순: ['바나나', '사과', '수박', '오렌지', '포도']\n"
          ],
          "name": "stdout"
        }
      ]
    },
    {
      "cell_type": "markdown",
      "metadata": {
        "id": "8ZdBKMb6uod5"
      },
      "source": [
        "#**.reverse( ) _ 리스트 역순으로 뒤집기**"
      ]
    },
    {
      "cell_type": "code",
      "metadata": {
        "colab": {
          "base_uri": "https://localhost:8080/"
        },
        "id": "PTIOvnVBuOBs",
        "outputId": "63ee13b1-ebac-4eaa-9a86-47ab1e2b5fff"
      },
      "source": [
        "fruits = ['사과','오렌지','포도','수박','바나나']\n",
        "fruits.reverse()\n",
        "print(fruits)"
      ],
      "execution_count": null,
      "outputs": [
        {
          "output_type": "stream",
          "text": [
            "['바나나', '수박', '포도', '오렌지', '사과']\n"
          ],
          "name": "stdout"
        }
      ]
    },
    {
      "cell_type": "markdown",
      "metadata": {
        "id": "Ec-M8AN2wUq_"
      },
      "source": [
        "#**리스트에서 랜덤 항목 출력하기**\n",
        "랜덤을 사용하기 위해서는 반드시 **import random** 해줘야한다"
      ]
    },
    {
      "cell_type": "code",
      "metadata": {
        "colab": {
          "base_uri": "https://localhost:8080/"
        },
        "id": "SoJALeZ6u4ld",
        "outputId": "53e8de81-949f-49a9-9206-225dcd95ea72"
      },
      "source": [
        "# random.choice(리스트명)\n",
        "import random\n",
        "wise_saying = []\n",
        "wise_saying.append('미래는 현재 우리가 무엇을 하고 있는가에 달려있다. - 마히트마 간디')\n",
        "wise_saying.append('교육은 세상을 바꿀 수 있는 가장 강력힌 무기다 - 넬슨 만델리')\n",
        "wise_saying.append('성공하기 위한 가장 확실한 방법은 한번 더 시도해 보는 것이다 - 토마스에디슨')\n",
        "wise_saying.append('가장 불만에 가득찬 고객은 가장 위대한 배움의 원천이다 _ 빌 게이츠')\n",
        "wise_saying.append('영원히 살 것처럼 꿈꾸고 오믈 죽을 것처럼 살아라 - 제임스딘')\n",
        "wise_saying.append('경쟁우위가 없다면 경쟁하지 마라 - 잭윌치')\n",
        "wise_saying.append('삶에 실수는 없고, 배움만이 있을 뿐이다. - 지아드 압델 누어')\n",
        "wise_saying.append('어제와 똑같은 삶을 살면서 다른 미래를 기대하는 것은 정신병의 초기증세이다 -아인슈타인')\n",
        "wise_saying.append('문제점을 찾지 말고 해결책을 찾으라 - 헨리포드')\n",
        "wise_saying.append('실수를 해보지 않은 사람은 한번도 새로운 일을 시도해보지 않았던 사람이다 -아인슈타인')\n",
        "print(random.choice(wise_saying))\n",
        "print(random.sample(wise_saying,2))"
      ],
      "execution_count": null,
      "outputs": [
        {
          "output_type": "stream",
          "text": [
            "미래는 현재 우리가 무엇을 하고 있는가에 달려있다. - 마히트마 간디\n",
            "['미래는 현재 우리가 무엇을 하고 있는가에 달려있다. - 마히트마 간디', '문제점을 찾지 말고 해결책을 찾으라 - 헨리포드']\n"
          ],
          "name": "stdout"
        }
      ]
    },
    {
      "cell_type": "markdown",
      "metadata": {
        "id": "vBpRaUPHx3_1"
      },
      "source": [
        "#**리스트 항목 계산하기**\n",
        "\n",
        "\n",
        "- 합계: sum(리스트명)\n",
        "\n",
        "\n",
        "- 최대값: max(리스트명)\n",
        "\n",
        "\n",
        "- 최소값: min(리스트명)"
      ]
    },
    {
      "cell_type": "code",
      "metadata": {
        "colab": {
          "base_uri": "https://localhost:8080/"
        },
        "id": "exIZOCG2wT21",
        "outputId": "569f8b51-1b76-4391-81c2-ced743ed8b85"
      },
      "source": [
        "a = [1,2,3,4,5]\n",
        "b = ['a','b','c','d','e']\n",
        "c = ['월','화','수','목','금','토']\n",
        "print(sum(a),max(b),min(c))"
      ],
      "execution_count": null,
      "outputs": [
        {
          "output_type": "stream",
          "text": [
            "15 e 금\n"
          ],
          "name": "stdout"
        }
      ]
    },
    {
      "cell_type": "markdown",
      "metadata": {
        "id": "axOBdXSByvra"
      },
      "source": [
        "#**Random 모듈**\n",
        "- 숫자 사용하는 경우<br>\n",
        "random.randint(시작값,끝값) : 시작값, 끝값 사이의 랜덤한 정수 반환(*끝값 포함)<br>\n",
        "random.randrange(시작값,끝값) : 시작값, 끝값 사이의 랜덤한 정수 반환(끝값 불포함/range 랑 동일한 방식으로 사용)<br>\n",
        "random.randrange(끝값) : 인자가 1개인 경우 0~끝값 사이의 랜덤한 정수 반환(끝값 불포함)\n",
        "\n",
        "- 로또번호<br>\n",
        "random.sample(range(처음값, 끝값), 갯수) : 임의의 값(난수)을 필요한 개수만큼 리스트(list)로 반환 / 중복 안시킴 \n",
        "\n",
        "- 체온 체크 게이트<br>\n",
        "random.uniform(최소, 최대) : 입력 파라미터인 최소부터 최대까지 중 임의의 부동소수점(float) 숫자를 리턴한다\n",
        "\n",
        "- 점심메뉴 고르기<br>\n",
        "random.choice(리스트명) : 리스트의 항목들 중 랜덤으로 하나 출력\n",
        "\n",
        "- 노래 랜덤재생<br>\n",
        "random.shuffle(리스트명) :  순서형 자료를 뒤죽박죽으로 섞음 \n",
        "\n",
        "\n"
      ]
    },
    {
      "cell_type": "markdown",
      "metadata": {
        "id": "vEhf6KIczQ8h"
      },
      "source": [
        "#**예제1 숫자들의 합계와 평균 구하기**"
      ]
    },
    {
      "cell_type": "code",
      "metadata": {
        "colab": {
          "base_uri": "https://localhost:8080/"
        },
        "id": "r6hVdv8LzWse",
        "outputId": "a5ed4f20-84ac-4ac2-eef0-d66372bc58dd"
      },
      "source": [
        "numbers = []\n",
        "for i in range(5):\n",
        "    x = float(input('숫자를 입력하세요: ')) \n",
        "    numbers.append(x)\n",
        "if len(numbers) != 0:\n",
        "    average = sum(numbers) / len(numbers)\n",
        "else:\n",
        "    average = 0\n",
        "print(f'합계는 {sum(numbers)}이고, 평균은 {average}입니다.')"
      ],
      "execution_count": null,
      "outputs": [
        {
          "output_type": "stream",
          "text": [
            "숫자를 입력하세요: 0\n",
            "숫자를 입력하세요: 0\n",
            "숫자를 입력하세요: 0\n",
            "숫자를 입력하세요: 0\n",
            "숫자를 입력하세요: 1\n",
            "합계는 1.0이고, 평균은 0.2입니다.\n"
          ],
          "name": "stdout"
        }
      ]
    },
    {
      "cell_type": "code",
      "metadata": {
        "colab": {
          "base_uri": "https://localhost:8080/"
        },
        "id": "W2gsbWFW2kMa",
        "outputId": "03c1126e-1a0c-439c-885d-c02fa3e22985"
      },
      "source": [
        "num = []\n",
        "for i in range(5):\n",
        "    x = int(input(\"숫자를 입력하시오 : \"))\n",
        "    num.append(x)\n",
        "    print(num)\n",
        "print(\"숫자들의 합계 : \", sum(num), \"숫자들의 평균\", sum(num)/5)"
      ],
      "execution_count": null,
      "outputs": [
        {
          "output_type": "stream",
          "text": [
            "숫자를 입력하시오 : 1\n",
            "[1]\n",
            "숫자를 입력하시오 : 2\n",
            "[1, 2]\n",
            "숫자를 입력하시오 : 3\n",
            "[1, 2, 3]\n",
            "숫자를 입력하시오 : 4\n",
            "[1, 2, 3, 4]\n",
            "숫자를 입력하시오 : 5\n",
            "[1, 2, 3, 4, 5]\n",
            "숫자들의 합계 :  15 숫자들의 평균 3.0\n"
          ],
          "name": "stdout"
        }
      ]
    }
  ]
}